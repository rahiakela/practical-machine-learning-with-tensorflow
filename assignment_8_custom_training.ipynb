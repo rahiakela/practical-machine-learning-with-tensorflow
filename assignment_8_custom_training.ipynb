{
  "nbformat": 4,
  "nbformat_minor": 0,
  "metadata": {
    "colab": {
      "name": "assignment-8-custom-training.ipynb",
      "provenance": [],
      "include_colab_link": true
    },
    "kernelspec": {
      "name": "python3",
      "display_name": "Python 3"
    }
  },
  "cells": [
    {
      "cell_type": "markdown",
      "metadata": {
        "id": "view-in-github",
        "colab_type": "text"
      },
      "source": [
        "<a href=\"https://colab.research.google.com/github/rahiakela/practical-machine-learning-with-tensorflow/blob/week-8/assignment_8_custom_training.ipynb\" target=\"_parent\"><img src=\"https://colab.research.google.com/assets/colab-badge.svg\" alt=\"Open In Colab\"/></a>"
      ]
    },
    {
      "cell_type": "markdown",
      "metadata": {
        "id": "G_lK2iboQSy6",
        "colab_type": "text"
      },
      "source": [
        "#Custom training"
      ]
    },
    {
      "cell_type": "markdown",
      "metadata": {
        "id": "WEW4ycsEQUr5",
        "colab_type": "text"
      },
      "source": [
        "## Setup"
      ]
    },
    {
      "cell_type": "code",
      "metadata": {
        "id": "kA3lIIZkQX8v",
        "colab_type": "code",
        "colab": {
          "base_uri": "https://localhost:8080/",
          "height": 35
        },
        "outputId": "0cebaf00-7b35-4180-c4c3-2b6ac01400ee"
      },
      "source": [
        "from __future__ import absolute_import, division, print_function, unicode_literals\n",
        "\n",
        "try:\n",
        "  # %tensorflow_version only exists in Colab.\n",
        "  %tensorflow_version 2.x\n",
        "except Exception:\n",
        "  pass\n",
        "import tensorflow as tf\n",
        "tf.random.set_seed(1)"
      ],
      "execution_count": 1,
      "outputs": [
        {
          "output_type": "stream",
          "text": [
            "TensorFlow 2.x selected.\n"
          ],
          "name": "stdout"
        }
      ]
    },
    {
      "cell_type": "markdown",
      "metadata": {
        "id": "7Vnx6xSNQcJP",
        "colab_type": "text"
      },
      "source": [
        "## Fit a linear model"
      ]
    },
    {
      "cell_type": "markdown",
      "metadata": {
        "id": "PS8WEq_fQdhW",
        "colab_type": "text"
      },
      "source": [
        "Use the concepts you have learned so far—Tensor, Variable, and GradientTape—to build and train a simple model.\n",
        "\n",
        "Create a simple linear model, f(x) = x * W + b, which has two variables: W (weights) and b (bias)."
      ]
    },
    {
      "cell_type": "markdown",
      "metadata": {
        "id": "EhFKOjKlQjxL",
        "colab_type": "text"
      },
      "source": [
        "### Define the model"
      ]
    },
    {
      "cell_type": "markdown",
      "metadata": {
        "id": "rX0d1as4RZun",
        "colab_type": "text"
      },
      "source": [
        "##### 9) What will be the output of the model before training if we give x = 3.0 as input?"
      ]
    },
    {
      "cell_type": "code",
      "metadata": {
        "id": "KQWkQL2zQaGg",
        "colab_type": "code",
        "colab": {
          "base_uri": "https://localhost:8080/",
          "height": 35
        },
        "outputId": "b22d5055-82be-4fdd-85f7-ad7ed1c6799e"
      },
      "source": [
        "# Initialize the weights to `3.0` and the bias to `0.0`\n",
        "class Model(object):\n",
        "\n",
        "  def __init__(self):\n",
        "    self.W = tf.Variable(3.0)\n",
        "    self.b = tf.Variable(0.0)\n",
        "\n",
        "  def __call__(self, x):\n",
        "    return self.W * x + self.b\n",
        "\n",
        "model = Model()\n",
        "model(3.0).numpy()"
      ],
      "execution_count": 3,
      "outputs": [
        {
          "output_type": "execute_result",
          "data": {
            "text/plain": [
              "9.0"
            ]
          },
          "metadata": {
            "tags": []
          },
          "execution_count": 3
        }
      ]
    },
    {
      "cell_type": "markdown",
      "metadata": {
        "id": "dLvSh8uCRybo",
        "colab_type": "text"
      },
      "source": [
        "##### 10) What is the range of loss after the 10th epoch during the training process?"
      ]
    },
    {
      "cell_type": "code",
      "metadata": {
        "id": "EqtRtYRdRVTg",
        "colab_type": "code",
        "colab": {}
      },
      "source": [
        "def loss(predicted_y, target_y):\n",
        "  return tf.reduce_mean(tf.square(predicted_y - target_y))"
      ],
      "execution_count": 0,
      "outputs": []
    },
    {
      "cell_type": "markdown",
      "metadata": {
        "id": "r-rvz1wuySxX",
        "colab_type": "text"
      },
      "source": [
        "### Obtain training data"
      ]
    },
    {
      "cell_type": "markdown",
      "metadata": {
        "id": "NmQ4An21yUJ_",
        "colab_type": "text"
      },
      "source": [
        "First, synthesize the training data by adding random Gaussian (Normal) noise to the inputs:"
      ]
    },
    {
      "cell_type": "code",
      "metadata": {
        "id": "-Njv88rYR67q",
        "colab_type": "code",
        "colab": {}
      },
      "source": [
        "TRUE_W = 5.0\n",
        "TRUE_b = 10.0\n",
        "NUM_EXAMPLES = 1000\n",
        "\n",
        "inputs  = tf.random.normal(shape=[NUM_EXAMPLES])\n",
        "noise   = tf.random.normal(shape=[NUM_EXAMPLES])\n",
        "outputs = inputs * TRUE_W + TRUE_b + noise"
      ],
      "execution_count": 0,
      "outputs": []
    },
    {
      "cell_type": "markdown",
      "metadata": {
        "id": "3acz3pKiycOh",
        "colab_type": "text"
      },
      "source": [
        "Before training the model, visualize the loss value by plotting the model's predictions in red and the training data in blue:"
      ]
    },
    {
      "cell_type": "code",
      "metadata": {
        "id": "MwVsp84gyZ-2",
        "colab_type": "code",
        "colab": {
          "base_uri": "https://localhost:8080/",
          "height": 287
        },
        "outputId": "0e94c8ee-2b37-49ec-f328-6308af5a5b10"
      },
      "source": [
        "import matplotlib.pyplot as plt\n",
        "\n",
        "plt.scatter(inputs, outputs, c='b')\n",
        "plt.scatter(inputs, model(inputs), c='r')\n",
        "plt.show()\n",
        "\n",
        "print('Current loss: %1.6f' % loss(model(inputs), outputs).numpy())"
      ],
      "execution_count": 10,
      "outputs": [
        {
          "output_type": "display_data",
          "data": {
            "image/png": "[encoded data removed]",
            "text/plain": [
              "<Figure size 432x288 with 1 Axes>"
            ]
          },
          "metadata": {
            "tags": []
          }
        },
        {
          "output_type": "stream",
          "text": [
            "Current loss: 107.770065\n"
          ],
          "name": "stdout"
        }
      ]
    },
    {
      "cell_type": "markdown",
      "metadata": {
        "id": "Bq-mPBnf2jbn",
        "colab_type": "text"
      },
      "source": [
        "### Define a training loop"
      ]
    },
    {
      "cell_type": "code",
      "metadata": {
        "id": "igdSnZwHyfTH",
        "colab_type": "code",
        "colab": {}
      },
      "source": [
        "def train(model, inputs, outputs, learning_rate):\n",
        "\n",
        "  with tf.GradientTape() as t:\n",
        "    current_loss = loss(model(inputs), outputs)\n",
        "  dW, db = t.gradient(current_loss, [model.W, model.b])\n",
        "  model.W.assign_sub(learning_rate * dW)\n",
        "  model.b.assign_sub(learning_rate * db)  "
      ],
      "execution_count": 0,
      "outputs": []
    },
    {
      "cell_type": "markdown",
      "metadata": {
        "id": "HgsRdbIA3IYM",
        "colab_type": "text"
      },
      "source": [
        "Finally, let's repeatedly run through the training data and see how `W` and `b` evolve."
      ]
    },
    {
      "cell_type": "code",
      "metadata": {
        "id": "lnHBuamR3H0Q",
        "colab_type": "code",
        "colab": {
          "base_uri": "https://localhost:8080/",
          "height": 447
        },
        "outputId": "be3321a3-6c0f-4943-987e-bd68032dac38"
      },
      "source": [
        "model = Model()\n",
        "\n",
        "# Collect the history of W-values and b-values to plot later\n",
        "Ws, bs = [], []\n",
        "epochs = range(10)\n",
        "\n",
        "for epoch in epochs:\n",
        "  Ws.append(model.W.numpy())\n",
        "  bs.append(model.b.numpy())\n",
        "  current_loss = loss(model(inputs), outputs)\n",
        "\n",
        "  # train the model\n",
        "  train(model, inputs, outputs, learning_rate=0.1)\n",
        "  print('Epoch %2d: W=%1.2f b=%1.2f, loss=%2.5f' % (epoch, Ws[-1], bs[-1], current_loss))\n",
        "\n",
        "# Let's plot it all\n",
        "plt.plot(epochs, Ws, bs, 'r', epochs, bs, 'b')\n",
        "plt.plot([TRUE_W] * len(epochs), 'r--', [TRUE_b] * len(epochs), 'b--')\n",
        "plt.legend(['W', 'b', 'True W', 'True b'])\n",
        "plt.show()"
      ],
      "execution_count": 12,
      "outputs": [
        {
          "output_type": "stream",
          "text": [
            "Epoch  0: W=3.00 b=0.00, loss=107.77007\n",
            "Epoch  1: W=3.52 b=2.02, loss=68.56483\n",
            "Epoch  2: W=3.91 b=3.64, loss=43.80209\n",
            "Epoch  3: W=4.21 b=4.93, loss=28.15146\n",
            "Epoch  4: W=4.43 b=5.95, loss=18.25341\n",
            "Epoch  5: W=4.59 b=6.77, loss=11.98932\n",
            "Epoch  6: W=4.72 b=7.42, loss=8.02232\n",
            "Epoch  7: W=4.81 b=7.95, loss=5.50831\n",
            "Epoch  8: W=4.87 b=8.36, loss=3.91398\n",
            "Epoch  9: W=4.92 b=8.69, loss=2.90217\n"
          ],
          "name": "stdout"
        },
        {
          "output_type": "display_data",
          "data": {
            "image/png": "[encoded data removed]",
            "text/plain": [
              "<Figure size 432x288 with 1 Axes>"
            ]
          },
          "metadata": {
            "tags": []
          }
        }
      ]
    },
    {
      "cell_type": "markdown",
      "metadata": {
        "id": "6UmJxyJ63d56",
        "colab_type": "text"
      },
      "source": [
        "### 11) What is the range of loss after the 20th epoch?"
      ]
    },
    {
      "cell_type": "code",
      "metadata": {
        "id": "PcVSqobO3Ll0",
        "colab_type": "code",
        "colab": {
          "base_uri": "https://localhost:8080/",
          "height": 625
        },
        "outputId": "57bb4cf1-91f9-4764-b4cc-b0163663411e"
      },
      "source": [
        "model = Model()\n",
        "\n",
        "# Collect the history of W-values and b-values to plot later\n",
        "Ws, bs = [], []\n",
        "epochs = range(20)\n",
        "\n",
        "for epoch in epochs:\n",
        "  Ws.append(model.W.numpy())\n",
        "  bs.append(model.b.numpy())\n",
        "  current_loss = loss(model(inputs), outputs)\n",
        "\n",
        "  # train the model\n",
        "  train(model, inputs, outputs, learning_rate=0.1)\n",
        "  print('Epoch %2d: W=%1.2f b=%1.2f, loss=%2.5f' % (epoch, Ws[-1], bs[-1], current_loss))\n",
        "\n",
        "# Let's plot it all\n",
        "plt.plot(epochs, Ws, bs, 'r', epochs, bs, 'b')\n",
        "plt.plot([TRUE_W] * len(epochs), 'r--', [TRUE_b] * len(epochs), 'b--')\n",
        "plt.legend(['W', 'b', 'True W', 'True b'])\n",
        "plt.show()"
      ],
      "execution_count": 13,
      "outputs": [
        {
          "output_type": "stream",
          "text": [
            "Epoch  0: W=3.00 b=0.00, loss=107.77007\n",
            "Epoch  1: W=3.52 b=2.02, loss=68.56483\n",
            "Epoch  2: W=3.91 b=3.64, loss=43.80209\n",
            "Epoch  3: W=4.21 b=4.93, loss=28.15146\n",
            "Epoch  4: W=4.43 b=5.95, loss=18.25341\n",
            "Epoch  5: W=4.59 b=6.77, loss=11.98932\n",
            "Epoch  6: W=4.72 b=7.42, loss=8.02232\n",
            "Epoch  7: W=4.81 b=7.95, loss=5.50831\n",
            "Epoch  8: W=4.87 b=8.36, loss=3.91398\n",
            "Epoch  9: W=4.92 b=8.69, loss=2.90217\n",
            "Epoch 10: W=4.96 b=8.96, loss=2.25957\n",
            "Epoch 11: W=4.98 b=9.17, loss=1.85117\n",
            "Epoch 12: W=5.00 b=9.34, loss=1.59142\n",
            "Epoch 13: W=5.01 b=9.47, loss=1.42608\n",
            "Epoch 14: W=5.02 b=9.58, loss=1.32077\n",
            "Epoch 15: W=5.03 b=9.67, loss=1.25363\n",
            "Epoch 16: W=5.03 b=9.74, loss=1.21081\n",
            "Epoch 17: W=5.03 b=9.79, loss=1.18346\n",
            "Epoch 18: W=5.04 b=9.84, loss=1.16600\n",
            "Epoch 19: W=5.04 b=9.87, loss=1.15483\n"
          ],
          "name": "stdout"
        },
        {
          "output_type": "display_data",
          "data": {
            "image/png": "[encoded data removed]",
            "text/plain": [
              "<Figure size 432x288 with 1 Axes>"
            ]
          },
          "metadata": {
            "tags": []
          }
        }
      ]
    },
    {
      "cell_type": "markdown",
      "metadata": {
        "id": "X8In-B833w5g",
        "colab_type": "text"
      },
      "source": [
        "### 12) What is the range of loss after the 20th epoch if learning rate was 0.01?"
      ]
    },
    {
      "cell_type": "code",
      "metadata": {
        "id": "QYrtj_sk3iyX",
        "colab_type": "code",
        "colab": {
          "base_uri": "https://localhost:8080/",
          "height": 625
        },
        "outputId": "d2b5f605-90f4-42cf-e203-be7ecd4a545a"
      },
      "source": [
        "model = Model()\n",
        "\n",
        "# Collect the history of W-values and b-values to plot later\n",
        "Ws, bs = [], []\n",
        "epochs = range(20)\n",
        "\n",
        "for epoch in epochs:\n",
        "  Ws.append(model.W.numpy())\n",
        "  bs.append(model.b.numpy())\n",
        "  current_loss = loss(model(inputs), outputs)\n",
        "\n",
        "  # train the model\n",
        "  train(model, inputs, outputs, learning_rate=0.01)\n",
        "  print('Epoch %2d: W=%1.2f b=%1.2f, loss=%2.5f' % (epoch, Ws[-1], bs[-1], current_loss))\n",
        "\n",
        "# Let's plot it all\n",
        "plt.plot(epochs, Ws, bs, 'r', epochs, bs, 'b')\n",
        "plt.plot([TRUE_W] * len(epochs), 'r--', [TRUE_b] * len(epochs), 'b--')\n",
        "plt.legend(['W', 'b', 'True W', 'True b'])\n",
        "plt.show()"
      ],
      "execution_count": 14,
      "outputs": [
        {
          "output_type": "stream",
          "text": [
            "Epoch  0: W=3.00 b=0.00, loss=107.77007\n",
            "Epoch  1: W=3.05 b=0.20, loss=103.44574\n",
            "Epoch  2: W=3.10 b=0.40, loss=99.29722\n",
            "Epoch  3: W=3.15 b=0.60, loss=95.31730\n",
            "Epoch  4: W=3.20 b=0.79, loss=91.49915\n",
            "Epoch  5: W=3.25 b=0.97, loss=87.83617\n",
            "Epoch  6: W=3.29 b=1.15, loss=84.32204\n",
            "Epoch  7: W=3.34 b=1.33, loss=80.95070\n",
            "Epoch  8: W=3.38 b=1.51, loss=77.71632\n",
            "Epoch  9: W=3.42 b=1.68, loss=74.61333\n",
            "Epoch 10: W=3.46 b=1.85, loss=71.63636\n",
            "Epoch 11: W=3.51 b=2.01, loss=68.78032\n",
            "Epoch 12: W=3.54 b=2.18, loss=66.04027\n",
            "Epoch 13: W=3.58 b=2.33, loss=63.41147\n",
            "Epoch 14: W=3.62 b=2.49, loss=60.88942\n",
            "Epoch 15: W=3.66 b=2.64, loss=58.46975\n",
            "Epoch 16: W=3.69 b=2.79, loss=56.14831\n",
            "Epoch 17: W=3.73 b=2.94, loss=53.92110\n",
            "Epoch 18: W=3.76 b=3.08, loss=51.78430\n",
            "Epoch 19: W=3.80 b=3.22, loss=49.73419\n"
          ],
          "name": "stdout"
        },
        {
          "output_type": "display_data",
          "data": {
            "image/png": "[encoded data removed]",
            "text/plain": [
              "<Figure size 432x288 with 1 Axes>"
            ]
          },
          "metadata": {
            "tags": []
          }
        }
      ]
    },
    {
      "cell_type": "code",
      "metadata": {
        "id": "n-4DdvqR4Is6",
        "colab_type": "code",
        "colab": {}
      },
      "source": [
        ""
      ],
      "execution_count": 0,
      "outputs": []
    }
  ]
}