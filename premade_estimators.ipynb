{
  "nbformat": 4,
  "nbformat_minor": 0,
  "metadata": {
    "colab": {
      "name": "premade-estimators.ipynb",
      "provenance": [],
      "toc_visible": true,
      "include_colab_link": true
    },
    "kernelspec": {
      "name": "python3",
      "display_name": "Python 3"
    }
  },
  "cells": [
    {
      "cell_type": "markdown",
      "metadata": {
        "id": "view-in-github",
        "colab_type": "text"
      },
      "source": [
        "<a href=\"https://colab.research.google.com/github/rahiakela/practical-machine-learning-with-tensorflow/blob/week-6/premade_estimators.ipynb\" target=\"_parent\"><img src=\"https://colab.research.google.com/assets/colab-badge.svg\" alt=\"Open In Colab\"/></a>"
      ]
    },
    {
      "cell_type": "markdown",
      "metadata": {
        "id": "hejLkkrZPyPI",
        "colab_type": "text"
      },
      "source": [
        "# Premade Estimators"
      ]
    },
    {
      "cell_type": "markdown",
      "metadata": {
        "id": "X9yx_aKEP0gS",
        "colab_type": "text"
      },
      "source": [
        "\n",
        "This tutorial shows you\n",
        "how to solve the Iris classification problem in TensorFlow using Estimators. An Estimator is TensorFlow's high-level representation of a complete model, and it has been designed for easy scaling and asynchronous training. For more details see\n",
        "[Estimators](https://www.tensorflow.org/guide/estimator).\n",
        "\n",
        "Note that in TensorFlow 2.0, the [Keras API](https://www.tensorflow.org/guide/keras) can accomplish many of these same tasks, and is believed to be an easier API to learn. If you are starting fresh, we would recommend you start with Keras. For more information about the available high level APIs in TensorFlow 2.0, see [Standardizing on Keras](https://medium.com/tensorflow/standardizing-on-keras-guidance-on-high-level-apis-in-tensorflow-2-0-bad2b04c819a)."
      ]
    },
    {
      "cell_type": "markdown",
      "metadata": {
        "id": "PC0UxAQAP9UX",
        "colab_type": "text"
      },
      "source": [
        "## First things first"
      ]
    },
    {
      "cell_type": "markdown",
      "metadata": {
        "id": "sbQUIeX5P_Gi",
        "colab_type": "text"
      },
      "source": [
        "In order to get started, you will first import TensorFlow and a number of libraries you will need."
      ]
    },
    {
      "cell_type": "code",
      "metadata": {
        "id": "aZw-kJC7P4ZO",
        "colab_type": "code",
        "colab": {
          "base_uri": "https://localhost:8080/",
          "height": 33
        },
        "outputId": "65e6b849-480b-4f11-e5ce-11043a56089c"
      },
      "source": [
        "from __future__ import absolute_import, division, print_function, unicode_literals\n",
        "\n",
        "try:\n",
        "  # %tensorflow_version only exists in Colab.\n",
        "  %tensorflow_version 2.x\n",
        "except Exception:\n",
        "  pass\n",
        "\n",
        "import tensorflow as tf\n",
        "\n",
        "import pandas as pd"
      ],
      "execution_count": 1,
      "outputs": [
        {
          "output_type": "stream",
          "text": [
            "TensorFlow 2.x selected.\n"
          ],
          "name": "stdout"
        }
      ]
    },
    {
      "cell_type": "markdown",
      "metadata": {
        "id": "7Bg5GiNtQyBd",
        "colab_type": "text"
      },
      "source": [
        "## The data set"
      ]
    },
    {
      "cell_type": "markdown",
      "metadata": {
        "id": "LRSvwDvnQvI6",
        "colab_type": "text"
      },
      "source": [
        "The sample program in this document builds and tests a model that\n",
        "classifies Iris flowers into three different species based on the size of their\n",
        "[sepals](https://en.wikipedia.org/wiki/Sepal) and\n",
        "[petals](https://en.wikipedia.org/wiki/Petal).\n",
        "\n",
        "\n",
        "You will train a model using the Iris data set. The Iris data set contains four features and one\n",
        "[label](https://developers.google.com/machine-learning/glossary/#label).\n",
        "The four features identify the following botanical characteristics of\n",
        "individual Iris flowers:\n",
        "\n",
        "* sepal length\n",
        "* sepal width\n",
        "* petal length\n",
        "* petal width\n",
        "\n",
        "Based on this information, you can define a few helpful constants for parsing the data:\n"
      ]
    },
    {
      "cell_type": "code",
      "metadata": {
        "id": "TAWZCfPQQ2rr",
        "colab_type": "code",
        "colab": {}
      },
      "source": [
        "CSV_COLUMN_NAMES = ['SepalLength', 'SepalWidth', 'PetalLength', 'PetalWidth', 'Species']\n",
        "SPECIES = ['Setosa', 'Versicolor', 'Virginica']"
      ],
      "execution_count": 0,
      "outputs": []
    },
    {
      "cell_type": "markdown",
      "metadata": {
        "id": "qqIoSAscRFXt",
        "colab_type": "text"
      },
      "source": [
        "Next, download and parse the Iris data set using Keras and Pandas. Note that you keep distinct datasets for training and testing."
      ]
    },
    {
      "cell_type": "code",
      "metadata": {
        "id": "aZAZGCzGRGBf",
        "colab_type": "code",
        "colab": {}
      },
      "source": [
        "train_path = tf.keras.utils.get_file('iris_training.csv', 'https://storage.googleapis.com/download.tensorflow.org/data/iris_training.csv')\n",
        "test_path = tf.keras.utils.get_file('iris_test.csv', 'https://storage.googleapis.com/download.tensorflow.org/data/iris_test.csv')\n",
        "\n",
        "train = pd.read_csv(train_path, names=CSV_COLUMN_NAMES, header=0)\n",
        "test = pd.read_csv(test_path, names=CSV_COLUMN_NAMES, header=0)"
      ],
      "execution_count": 0,
      "outputs": []
    },
    {
      "cell_type": "markdown",
      "metadata": {
        "id": "5Uivs1q9SmRy",
        "colab_type": "text"
      },
      "source": [
        "You can inspect your data to see that you have four float feature columns and one int32 label."
      ]
    },
    {
      "cell_type": "code",
      "metadata": {
        "id": "eLCQMTgVSuvy",
        "colab_type": "code",
        "colab": {
          "base_uri": "https://localhost:8080/",
          "height": 197
        },
        "outputId": "1568f25f-7fdd-4c2b-ebbe-cfe2829fcb62"
      },
      "source": [
        "train.head()"
      ],
      "execution_count": 5,
      "outputs": [
        {
          "output_type": "execute_result",
          "data": {
            "text/html": [
              "<div>\n",
              "<style scoped>\n",
              "    .dataframe tbody tr th:only-of-type {\n",
              "        vertical-align: middle;\n",
              "    }\n",
              "\n",
              "    .dataframe tbody tr th {\n",
              "        vertical-align: top;\n",
              "    }\n",
              "\n",
              "    .dataframe thead th {\n",
              "        text-align: right;\n",
              "    }\n",
              "</style>\n",
              "<table border=\"1\" class=\"dataframe\">\n",
              "  <thead>\n",
              "    <tr style=\"text-align: right;\">\n",
              "      <th></th>\n",
              "      <th>SepalLength</th>\n",
              "      <th>SepalWidth</th>\n",
              "      <th>PetalLength</th>\n",
              "      <th>PetalWidth</th>\n",
              "      <th>Species</th>\n",
              "    </tr>\n",
              "  </thead>\n",
              "  <tbody>\n",
              "    <tr>\n",
              "      <th>0</th>\n",
              "      <td>6.4</td>\n",
              "      <td>2.8</td>\n",
              "      <td>5.6</td>\n",
              "      <td>2.2</td>\n",
              "      <td>2</td>\n",
              "    </tr>\n",
              "    <tr>\n",
              "      <th>1</th>\n",
              "      <td>5.0</td>\n",
              "      <td>2.3</td>\n",
              "      <td>3.3</td>\n",
              "      <td>1.0</td>\n",
              "      <td>1</td>\n",
              "    </tr>\n",
              "    <tr>\n",
              "      <th>2</th>\n",
              "      <td>4.9</td>\n",
              "      <td>2.5</td>\n",
              "      <td>4.5</td>\n",
              "      <td>1.7</td>\n",
              "      <td>2</td>\n",
              "    </tr>\n",
              "    <tr>\n",
              "      <th>3</th>\n",
              "      <td>4.9</td>\n",
              "      <td>3.1</td>\n",
              "      <td>1.5</td>\n",
              "      <td>0.1</td>\n",
              "      <td>0</td>\n",
              "    </tr>\n",
              "    <tr>\n",
              "      <th>4</th>\n",
              "      <td>5.7</td>\n",
              "      <td>3.8</td>\n",
              "      <td>1.7</td>\n",
              "      <td>0.3</td>\n",
              "      <td>0</td>\n",
              "    </tr>\n",
              "  </tbody>\n",
              "</table>\n",
              "</div>"
            ],
            "text/plain": [
              "   SepalLength  SepalWidth  PetalLength  PetalWidth  Species\n",
              "0          6.4         2.8          5.6         2.2        2\n",
              "1          5.0         2.3          3.3         1.0        1\n",
              "2          4.9         2.5          4.5         1.7        2\n",
              "3          4.9         3.1          1.5         0.1        0\n",
              "4          5.7         3.8          1.7         0.3        0"
            ]
          },
          "metadata": {
            "tags": []
          },
          "execution_count": 5
        }
      ]
    },
    {
      "cell_type": "markdown",
      "metadata": {
        "id": "dDq2oFRSS0Xb",
        "colab_type": "text"
      },
      "source": [
        "Let's check how many class of label is available?"
      ]
    },
    {
      "cell_type": "code",
      "metadata": {
        "id": "V9ZAni-hSwfu",
        "colab_type": "code",
        "colab": {
          "base_uri": "https://localhost:8080/",
          "height": 33
        },
        "outputId": "9de7c4d9-a5d7-488f-b55c-c619efee58bc"
      },
      "source": [
        "print(train.Species.unique().sum())"
      ],
      "execution_count": 6,
      "outputs": [
        {
          "output_type": "stream",
          "text": [
            "3\n"
          ],
          "name": "stdout"
        }
      ]
    },
    {
      "cell_type": "markdown",
      "metadata": {
        "id": "lDh3jkJhTQB0",
        "colab_type": "text"
      },
      "source": [
        "For each of the datasets, split out the labels, which the model will be trained to predict."
      ]
    },
    {
      "cell_type": "code",
      "metadata": {
        "id": "ETe34jV0TAN2",
        "colab_type": "code",
        "colab": {}
      },
      "source": [
        "train_y = train.pop('Species')\n",
        "test_y = test.pop('Species')"
      ],
      "execution_count": 0,
      "outputs": []
    },
    {
      "cell_type": "markdown",
      "metadata": {
        "id": "8nIy_amYTjKR",
        "colab_type": "text"
      },
      "source": [
        "Check that the label column has now been removed from the features."
      ]
    },
    {
      "cell_type": "code",
      "metadata": {
        "id": "LGthh16uTm0u",
        "colab_type": "code",
        "colab": {
          "base_uri": "https://localhost:8080/",
          "height": 197
        },
        "outputId": "d19e4660-bfa1-4012-b76b-056f7f51c95d"
      },
      "source": [
        "train.head()"
      ],
      "execution_count": 8,
      "outputs": [
        {
          "output_type": "execute_result",
          "data": {
            "text/html": [
              "<div>\n",
              "<style scoped>\n",
              "    .dataframe tbody tr th:only-of-type {\n",
              "        vertical-align: middle;\n",
              "    }\n",
              "\n",
              "    .dataframe tbody tr th {\n",
              "        vertical-align: top;\n",
              "    }\n",
              "\n",
              "    .dataframe thead th {\n",
              "        text-align: right;\n",
              "    }\n",
              "</style>\n",
              "<table border=\"1\" class=\"dataframe\">\n",
              "  <thead>\n",
              "    <tr style=\"text-align: right;\">\n",
              "      <th></th>\n",
              "      <th>SepalLength</th>\n",
              "      <th>SepalWidth</th>\n",
              "      <th>PetalLength</th>\n",
              "      <th>PetalWidth</th>\n",
              "    </tr>\n",
              "  </thead>\n",
              "  <tbody>\n",
              "    <tr>\n",
              "      <th>0</th>\n",
              "      <td>6.4</td>\n",
              "      <td>2.8</td>\n",
              "      <td>5.6</td>\n",
              "      <td>2.2</td>\n",
              "    </tr>\n",
              "    <tr>\n",
              "      <th>1</th>\n",
              "      <td>5.0</td>\n",
              "      <td>2.3</td>\n",
              "      <td>3.3</td>\n",
              "      <td>1.0</td>\n",
              "    </tr>\n",
              "    <tr>\n",
              "      <th>2</th>\n",
              "      <td>4.9</td>\n",
              "      <td>2.5</td>\n",
              "      <td>4.5</td>\n",
              "      <td>1.7</td>\n",
              "    </tr>\n",
              "    <tr>\n",
              "      <th>3</th>\n",
              "      <td>4.9</td>\n",
              "      <td>3.1</td>\n",
              "      <td>1.5</td>\n",
              "      <td>0.1</td>\n",
              "    </tr>\n",
              "    <tr>\n",
              "      <th>4</th>\n",
              "      <td>5.7</td>\n",
              "      <td>3.8</td>\n",
              "      <td>1.7</td>\n",
              "      <td>0.3</td>\n",
              "    </tr>\n",
              "  </tbody>\n",
              "</table>\n",
              "</div>"
            ],
            "text/plain": [
              "   SepalLength  SepalWidth  PetalLength  PetalWidth\n",
              "0          6.4         2.8          5.6         2.2\n",
              "1          5.0         2.3          3.3         1.0\n",
              "2          4.9         2.5          4.5         1.7\n",
              "3          4.9         3.1          1.5         0.1\n",
              "4          5.7         3.8          1.7         0.3"
            ]
          },
          "metadata": {
            "tags": []
          },
          "execution_count": 8
        }
      ]
    },
    {
      "cell_type": "markdown",
      "metadata": {
        "id": "zSQ8U1glUne1",
        "colab_type": "text"
      },
      "source": [
        "## Overview of programming with Estimators\n",
        "\n",
        "Now that you have the data set up, you can define a model using a TensorFlow Estimator. An Estimator is any class derived from `tf.estimator.Estimator`. TensorFlow\n",
        "provides a collection of\n",
        "`tf.estimator`\n",
        "(for example, `LinearRegressor`) to implement common ML algorithms. Beyond\n",
        "those, you may write your own\n",
        "[custom Estimators](https://www.tensorflow.org/guide/custom_estimators).\n",
        "We recommend using pre-made Estimators when just getting started.\n",
        "\n",
        "To write a TensorFlow program based on pre-made Estimators, you must perform the\n",
        "following tasks:\n",
        "\n",
        "* Create one or more input functions.\n",
        "* Define the model's feature columns.\n",
        "* Instantiate an Estimator, specifying the feature columns and various\n",
        "  hyperparameters.\n",
        "* Call one or more methods on the Estimator object, passing the appropriate\n",
        "  input function as the source of the data.\n",
        "\n",
        "Let's see how those tasks are implemented for Iris classification."
      ]
    },
    {
      "cell_type": "markdown",
      "metadata": {
        "id": "oTkIV_mFVegr",
        "colab_type": "text"
      },
      "source": [
        "## Create input functions"
      ]
    },
    {
      "cell_type": "markdown",
      "metadata": {
        "id": "0R_F-dccVbnr",
        "colab_type": "text"
      },
      "source": [
        "You must create input functions to supply data for training,\n",
        "evaluating, and prediction.\n",
        "\n",
        "An **input function** is a function that returns a `tf.data.Dataset` object\n",
        "which outputs the following two-element tuple:\n",
        "\n",
        "* [`features`](https://developers.google.com/machine-learning/glossary/#feature) - A Python dictionary in which:\n",
        "    * Each key is the name of a feature.\n",
        "    * Each value is an array containing all of that feature's values.\n",
        "* `label` - An array containing the values of the\n",
        "  [label](https://developers.google.com/machine-learning/glossary/#label) for\n",
        "  every example.\n",
        "\n",
        "Just to demonstrate the format of the input function, here's a simple\n",
        "implementation:"
      ]
    },
    {
      "cell_type": "code",
      "metadata": {
        "id": "nTuOHbwqTpfe",
        "colab_type": "code",
        "colab": {}
      },
      "source": [
        "def input_evaluation_set():\n",
        "  features = {\n",
        "      'SepalLength': np.array([6.4, 5.0]),\n",
        "      'SepalWidth':  np.array([2.8, 2.3]),\n",
        "      'PetalLength': np.array([5.6, 3.3]),\n",
        "      'PetalWidth':  np.array([2.2, 1.0])\n",
        "  }\n",
        "  labels = np.array([2, 1])\n",
        "\n",
        "  return features, labels"
      ],
      "execution_count": 0,
      "outputs": []
    },
    {
      "cell_type": "markdown",
      "metadata": {
        "id": "XK63rf6YXZtu",
        "colab_type": "text"
      },
      "source": [
        "Your input function may generate the `features` dictionary and `label` list any\n",
        "way you like. However, we recommend using TensorFlow's [Dataset API](https://www.tensorflow.org/guide/datasets), which can\n",
        "parse all sorts of data.\n",
        "\n",
        "The Dataset API can handle a lot of common cases for you. For example,\n",
        "using the Dataset API, you can easily read in records from a large collection\n",
        "of files in parallel and join them into a single stream.\n",
        "\n",
        "To keep things simple in this example you are going to load the data with\n",
        "[pandas](https://pandas.pydata.org/), and build an input pipeline from this\n",
        "in-memory data:\n"
      ]
    },
    {
      "cell_type": "code",
      "metadata": {
        "id": "iRhavQwRYI8W",
        "colab_type": "code",
        "colab": {}
      },
      "source": [
        "def input_func(features, labels, training=True, batch_size=256):\n",
        "  '''An input function for training or evaluating'''\n",
        "  # Convert the inputs to a Dataset.\n",
        "  dataset = tf.data.Dataset.from_tensor_slices((dict(features), labels))\n",
        "\n",
        "  # Shuffle and repeat if you are in training mode.\n",
        "  if training:\n",
        "    dataset = dataset.shuffle(1000).repeat()\n",
        "\n",
        "  return dataset.batch(batch_size)  "
      ],
      "execution_count": 0,
      "outputs": []
    },
    {
      "cell_type": "markdown",
      "metadata": {
        "id": "CtgltfcIZDa6",
        "colab_type": "text"
      },
      "source": [
        "## Define the feature columns"
      ]
    },
    {
      "cell_type": "markdown",
      "metadata": {
        "id": "VbTipadZY9Lm",
        "colab_type": "text"
      },
      "source": [
        "A [**feature column**](https://developers.google.com/machine-learning/glossary/#feature_columns)\n",
        "is an object describing how the model should use raw input data from the\n",
        "features dictionary. When you build an Estimator model, you pass it a list of\n",
        "feature columns that describes each of the features you want the model to use.\n",
        "The `tf.feature_column` module provides many options for representing data\n",
        "to the model.\n",
        "\n",
        "For Iris, the 4 raw features are numeric values, so we'll build a list of\n",
        "feature columns to tell the Estimator model to represent each of the four\n",
        "features as 32-bit floating-point values. Therefore, the code to create the\n",
        "feature column is:"
      ]
    },
    {
      "cell_type": "code",
      "metadata": {
        "id": "9TPv1lTNZEO2",
        "colab_type": "code",
        "colab": {}
      },
      "source": [
        "# Feature columns describe how to use the input.\n",
        "my_feature_columns = []\n",
        "for key in train.keys():\n",
        "  my_feature_columns.append(tf.feature_column.numeric_column(key=key))"
      ],
      "execution_count": 0,
      "outputs": []
    },
    {
      "cell_type": "markdown",
      "metadata": {
        "id": "w7AVbjLHZ9pi",
        "colab_type": "text"
      },
      "source": [
        "Feature columns can be far more sophisticated than those we're showing here.  You can read more about Feature Columns in [this guide](https://www.tensorflow.org/guide/feature_columns).\n",
        "\n",
        "Now that you have the description of how you want the model to represent the raw\n",
        "features, you can build the estimator."
      ]
    },
    {
      "cell_type": "markdown",
      "metadata": {
        "id": "NDtkFBHhaOMa",
        "colab_type": "text"
      },
      "source": [
        "## Instantiate an estimator"
      ]
    },
    {
      "cell_type": "markdown",
      "metadata": {
        "id": "QzlLz3uqaG5v",
        "colab_type": "text"
      },
      "source": [
        "The Iris problem is a classical classification problem. Fortunately, TensorFlow\n",
        "provides several pre-made classifier Estimators, including:\n",
        "\n",
        "* `tf.estimator.DNNClassifier` for deep models that perform multi-class\n",
        "  classification.\n",
        "* `tf.estimator.DNNLinearCombinedClassifier` for wide & deep models.\n",
        "* `tf.estimator.LinearClassifier` for classifiers based on linear models.\n",
        "\n",
        "For the Iris problem, `tf.estimator.DNNClassifier` seems like the best choice.\n",
        "Here's how you instantiated this Estimator:"
      ]
    },
    {
      "cell_type": "code",
      "metadata": {
        "id": "xc0LrEqpaPMD",
        "colab_type": "code",
        "colab": {
          "base_uri": "https://localhost:8080/",
          "height": 187
        },
        "outputId": "974151f0-a614-4d72-eca4-31d06460183a"
      },
      "source": [
        "# Build a DNN with 2 hidden layers with 30 and 10 hidden nodes each.\n",
        "classifier = tf.estimator.DNNClassifier(\n",
        "    feature_columns=my_feature_columns,\n",
        "    hidden_units=[30, 10],   # Two hidden layers of 10 nodes each.\n",
        "    n_classes=3    # The model must choose between 3 classes.\n",
        ")"
      ],
      "execution_count": 12,
      "outputs": [
        {
          "output_type": "stream",
          "text": [
            "INFO:tensorflow:Using default config.\n",
            "WARNING:tensorflow:Using temporary folder as model directory: /tmp/tmpy7mp3ijy\n",
            "INFO:tensorflow:Using config: {'_model_dir': '/tmp/tmpy7mp3ijy', '_tf_random_seed': None, '_save_summary_steps': 100, '_save_checkpoints_steps': None, '_save_checkpoints_secs': 600, '_session_config': allow_soft_placement: true\n",
            "graph_options {\n",
            "  rewrite_options {\n",
            "    meta_optimizer_iterations: ONE\n",
            "  }\n",
            "}\n",
            ", '_keep_checkpoint_max': 5, '_keep_checkpoint_every_n_hours': 10000, '_log_step_count_steps': 100, '_train_distribute': None, '_device_fn': None, '_protocol': None, '_eval_distribute': None, '_experimental_distribute': None, '_experimental_max_worker_delay_secs': None, '_service': None, '_cluster_spec': <tensorflow.python.training.server_lib.ClusterSpec object at 0x7fb83d4fb358>, '_task_type': 'worker', '_task_id': 0, '_global_id_in_cluster': 0, '_master': '', '_evaluation_master': '', '_is_chief': True, '_num_ps_replicas': 0, '_num_worker_replicas': 1}\n"
          ],
          "name": "stdout"
        }
      ]
    },
    {
      "cell_type": "markdown",
      "metadata": {
        "id": "j9uDrW09caIN",
        "colab_type": "text"
      },
      "source": [
        "## Train, Evaluate, and Predict\n",
        "\n",
        "Now that you have an Estimator object, you can call methods to do the following:\n",
        "\n",
        "* Train the model.\n",
        "* Evaluate the trained model.\n",
        "* Use the trained model to make predictions."
      ]
    },
    {
      "cell_type": "markdown",
      "metadata": {
        "id": "_Cu9O97LchFX",
        "colab_type": "text"
      },
      "source": [
        "### Train the model"
      ]
    },
    {
      "cell_type": "markdown",
      "metadata": {
        "id": "kICcrd5sd86h",
        "colab_type": "text"
      },
      "source": [
        "Train the model by calling the Estimator's `train` method as follows:"
      ]
    },
    {
      "cell_type": "code",
      "metadata": {
        "id": "JEhbHUxHd9ps",
        "colab_type": "code",
        "colab": {
          "base_uri": "https://localhost:8080/",
          "height": 1000
        },
        "outputId": "625b98f9-bae2-4f9e-9ef5-32479bf741b3"
      },
      "source": [
        "# Train the Model.\n",
        "classifier.train(input_fn=lambda: input_func(train, train_y, training=True), steps=5000)"
      ],
      "execution_count": 19,
      "outputs": [
        {
          "output_type": "stream",
          "text": [
            "INFO:tensorflow:Calling model_fn.\n",
            "WARNING:tensorflow:Layer dnn is casting an input tensor from dtype float64 to the layer's dtype of float32, which is new behavior in TensorFlow 2.  The layer has dtype float32 because it's dtype defaults to floatx.\n",
            "\n",
            "If you intended to run this layer in float32, you can safely ignore this warning. If in doubt, this warning is likely only an issue if you are porting a TensorFlow 1.X model to TensorFlow 2.\n",
            "\n",
            "To change all layers to have dtype float64 by default, call `tf.keras.backend.set_floatx('float64')`. To change just this layer, pass dtype='float64' to the layer constructor. If you are the author of this layer, you can disable autocasting by passing autocast=False to the base Layer constructor.\n",
            "\n",
            "WARNING:tensorflow:Entity <bound method _DNNModelV2.call of <tensorflow_estimator.python.estimator.canned.dnn._DNNModelV2 object at 0x7fb83c87bc88>> could not be transformed and will be executed as-is. Please report this to the AutoGraph team. When filing the bug, set the verbosity to 10 (on Linux, `export AUTOGRAPH_VERBOSITY=10`) and attach the full output. Cause: module 'gast' has no attribute 'Num'\n",
            "WARNING: Entity <bound method _DNNModelV2.call of <tensorflow_estimator.python.estimator.canned.dnn._DNNModelV2 object at 0x7fb83c87bc88>> could not be transformed and will be executed as-is. Please report this to the AutoGraph team. When filing the bug, set the verbosity to 10 (on Linux, `export AUTOGRAPH_VERBOSITY=10`) and attach the full output. Cause: module 'gast' has no attribute 'Num'\n",
            "INFO:tensorflow:Done calling model_fn.\n",
            "INFO:tensorflow:Create CheckpointSaverHook.\n",
            "INFO:tensorflow:Graph was finalized.\n",
            "INFO:tensorflow:Restoring parameters from /tmp/tmpy7mp3ijy/model.ckpt-5000\n",
            "WARNING:tensorflow:From /tensorflow-2.0.0-rc1/python3.6/tensorflow_core/python/training/saver.py:1069: get_checkpoint_mtimes (from tensorflow.python.training.checkpoint_management) is deprecated and will be removed in a future version.\n",
            "Instructions for updating:\n",
            "Use standard file utilities to get mtimes.\n",
            "INFO:tensorflow:Running local_init_op.\n",
            "INFO:tensorflow:Done running local_init_op.\n",
            "INFO:tensorflow:Saving checkpoints for 5000 into /tmp/tmpy7mp3ijy/model.ckpt.\n",
            "INFO:tensorflow:loss = 0.3862658, step = 5000\n",
            "INFO:tensorflow:global_step/sec: 419.189\n",
            "INFO:tensorflow:loss = 0.38483083, step = 5100 (0.243 sec)\n",
            "INFO:tensorflow:global_step/sec: 570.913\n",
            "INFO:tensorflow:loss = 0.36778465, step = 5200 (0.172 sec)\n",
            "INFO:tensorflow:global_step/sec: 587.94\n",
            "INFO:tensorflow:loss = 0.37106258, step = 5300 (0.173 sec)\n",
            "INFO:tensorflow:global_step/sec: 515.351\n",
            "INFO:tensorflow:loss = 0.36499798, step = 5400 (0.193 sec)\n",
            "INFO:tensorflow:global_step/sec: 585.482\n",
            "INFO:tensorflow:loss = 0.37467623, step = 5500 (0.172 sec)\n",
            "INFO:tensorflow:global_step/sec: 564.8\n",
            "INFO:tensorflow:loss = 0.3564542, step = 5600 (0.175 sec)\n",
            "INFO:tensorflow:global_step/sec: 558.685\n",
            "INFO:tensorflow:loss = 0.34685653, step = 5700 (0.182 sec)\n",
            "INFO:tensorflow:global_step/sec: 565.686\n",
            "INFO:tensorflow:loss = 0.34485808, step = 5800 (0.174 sec)\n",
            "INFO:tensorflow:global_step/sec: 583.736\n",
            "INFO:tensorflow:loss = 0.34595656, step = 5900 (0.171 sec)\n",
            "INFO:tensorflow:global_step/sec: 578.452\n",
            "INFO:tensorflow:loss = 0.34087306, step = 6000 (0.176 sec)\n",
            "INFO:tensorflow:global_step/sec: 574.176\n",
            "INFO:tensorflow:loss = 0.33315605, step = 6100 (0.172 sec)\n",
            "INFO:tensorflow:global_step/sec: 577.261\n",
            "INFO:tensorflow:loss = 0.33010578, step = 6200 (0.172 sec)\n",
            "INFO:tensorflow:global_step/sec: 602.29\n",
            "INFO:tensorflow:loss = 0.3259257, step = 6300 (0.166 sec)\n",
            "INFO:tensorflow:global_step/sec: 531.174\n",
            "INFO:tensorflow:loss = 0.33004206, step = 6400 (0.189 sec)\n",
            "INFO:tensorflow:global_step/sec: 568.305\n",
            "INFO:tensorflow:loss = 0.32891154, step = 6500 (0.176 sec)\n",
            "INFO:tensorflow:global_step/sec: 571.9\n",
            "INFO:tensorflow:loss = 0.32451397, step = 6600 (0.175 sec)\n",
            "INFO:tensorflow:global_step/sec: 573.727\n",
            "INFO:tensorflow:loss = 0.3198449, step = 6700 (0.178 sec)\n",
            "INFO:tensorflow:global_step/sec: 567.351\n",
            "INFO:tensorflow:loss = 0.31794822, step = 6800 (0.175 sec)\n",
            "INFO:tensorflow:global_step/sec: 563.482\n",
            "INFO:tensorflow:loss = 0.31245956, step = 6900 (0.178 sec)\n",
            "INFO:tensorflow:global_step/sec: 570.76\n",
            "INFO:tensorflow:loss = 0.2976253, step = 7000 (0.171 sec)\n",
            "INFO:tensorflow:global_step/sec: 567.337\n",
            "INFO:tensorflow:loss = 0.3089795, step = 7100 (0.179 sec)\n",
            "INFO:tensorflow:global_step/sec: 577.682\n",
            "INFO:tensorflow:loss = 0.30584186, step = 7200 (0.174 sec)\n",
            "INFO:tensorflow:global_step/sec: 562.088\n",
            "INFO:tensorflow:loss = 0.30432552, step = 7300 (0.175 sec)\n",
            "INFO:tensorflow:global_step/sec: 582.869\n",
            "INFO:tensorflow:loss = 0.30553943, step = 7400 (0.175 sec)\n",
            "INFO:tensorflow:global_step/sec: 547.17\n",
            "INFO:tensorflow:loss = 0.30520657, step = 7500 (0.183 sec)\n",
            "INFO:tensorflow:global_step/sec: 570.806\n",
            "INFO:tensorflow:loss = 0.28562698, step = 7600 (0.172 sec)\n",
            "INFO:tensorflow:global_step/sec: 576.742\n",
            "INFO:tensorflow:loss = 0.28941882, step = 7700 (0.173 sec)\n",
            "INFO:tensorflow:global_step/sec: 597.974\n",
            "INFO:tensorflow:loss = 0.29980874, step = 7800 (0.171 sec)\n",
            "INFO:tensorflow:global_step/sec: 568.687\n",
            "INFO:tensorflow:loss = 0.28095156, step = 7900 (0.172 sec)\n",
            "INFO:tensorflow:global_step/sec: 594.975\n",
            "INFO:tensorflow:loss = 0.2901686, step = 8000 (0.169 sec)\n",
            "INFO:tensorflow:global_step/sec: 592.83\n",
            "INFO:tensorflow:loss = 0.28121573, step = 8100 (0.168 sec)\n",
            "INFO:tensorflow:global_step/sec: 588.74\n",
            "INFO:tensorflow:loss = 0.28700334, step = 8200 (0.170 sec)\n",
            "INFO:tensorflow:global_step/sec: 565.246\n",
            "INFO:tensorflow:loss = 0.2879111, step = 8300 (0.179 sec)\n",
            "INFO:tensorflow:global_step/sec: 564.955\n",
            "INFO:tensorflow:loss = 0.27784234, step = 8400 (0.174 sec)\n",
            "INFO:tensorflow:global_step/sec: 571.563\n",
            "INFO:tensorflow:loss = 0.28333634, step = 8500 (0.175 sec)\n",
            "INFO:tensorflow:global_step/sec: 591.574\n",
            "INFO:tensorflow:loss = 0.2724573, step = 8600 (0.169 sec)\n",
            "INFO:tensorflow:global_step/sec: 581.57\n",
            "INFO:tensorflow:loss = 0.27125353, step = 8700 (0.175 sec)\n",
            "INFO:tensorflow:global_step/sec: 571.328\n",
            "INFO:tensorflow:loss = 0.27407074, step = 8800 (0.172 sec)\n",
            "INFO:tensorflow:global_step/sec: 585.103\n",
            "INFO:tensorflow:loss = 0.27105188, step = 8900 (0.171 sec)\n",
            "INFO:tensorflow:global_step/sec: 577.283\n",
            "INFO:tensorflow:loss = 0.2735756, step = 9000 (0.173 sec)\n",
            "INFO:tensorflow:global_step/sec: 589.974\n",
            "INFO:tensorflow:loss = 0.2644053, step = 9100 (0.169 sec)\n",
            "INFO:tensorflow:global_step/sec: 587.021\n",
            "INFO:tensorflow:loss = 0.26684934, step = 9200 (0.170 sec)\n",
            "INFO:tensorflow:global_step/sec: 560.938\n",
            "INFO:tensorflow:loss = 0.26676983, step = 9300 (0.180 sec)\n",
            "INFO:tensorflow:global_step/sec: 563.892\n",
            "INFO:tensorflow:loss = 0.25870758, step = 9400 (0.177 sec)\n",
            "INFO:tensorflow:global_step/sec: 574.889\n",
            "INFO:tensorflow:loss = 0.25706518, step = 9500 (0.175 sec)\n",
            "INFO:tensorflow:global_step/sec: 558.011\n",
            "INFO:tensorflow:loss = 0.26507324, step = 9600 (0.176 sec)\n",
            "INFO:tensorflow:global_step/sec: 571.276\n",
            "INFO:tensorflow:loss = 0.25388232, step = 9700 (0.175 sec)\n",
            "INFO:tensorflow:global_step/sec: 546.758\n",
            "INFO:tensorflow:loss = 0.24574418, step = 9800 (0.184 sec)\n",
            "INFO:tensorflow:global_step/sec: 569.717\n",
            "INFO:tensorflow:loss = 0.24870841, step = 9900 (0.176 sec)\n",
            "INFO:tensorflow:Saving checkpoints for 10000 into /tmp/tmpy7mp3ijy/model.ckpt.\n",
            "INFO:tensorflow:Loss for final step: 0.24811792.\n"
          ],
          "name": "stdout"
        },
        {
          "output_type": "execute_result",
          "data": {
            "text/plain": [
              "<tensorflow_estimator.python.estimator.canned.dnn.DNNClassifierV2 at 0x7fb83d4fb2b0>"
            ]
          },
          "metadata": {
            "tags": []
          },
          "execution_count": 19
        }
      ]
    },
    {
      "cell_type": "markdown",
      "metadata": {
        "id": "cz1w51Blebhi",
        "colab_type": "text"
      },
      "source": [
        "Note that you wrap up your `input_fn` call in a\n",
        "[`lambda`](https://docs.python.org/3/tutorial/controlflow.html)\n",
        "to capture the arguments while providing an input function that takes no\n",
        "arguments, as expected by the Estimator. The `steps` argument tells the method\n",
        "to stop training after a number of training steps.\n"
      ]
    },
    {
      "cell_type": "markdown",
      "metadata": {
        "id": "A7KXJ8e7iiIV",
        "colab_type": "text"
      },
      "source": [
        "### Evaluate the trained model"
      ]
    },
    {
      "cell_type": "markdown",
      "metadata": {
        "id": "2KGWmB3miiqK",
        "colab_type": "text"
      },
      "source": [
        "Now that the model has been trained, you can get some statistics on its\n",
        "performance. The following code block evaluates the accuracy of the trained\n",
        "model on the test data:"
      ]
    },
    {
      "cell_type": "code",
      "metadata": {
        "id": "qb176zI5ecfP",
        "colab_type": "code",
        "colab": {
          "base_uri": "https://localhost:8080/",
          "height": 387
        },
        "outputId": "c1b1f1a6-9008-438f-83da-0a40b29586ef"
      },
      "source": [
        "eval_result = classifier.evaluate(input_fn=lambda: input_func(test, test_y, training=False))\n",
        "\n",
        "print('\\nTest set accuracy: {accuracy:0.3f}\\n'.format(**eval_result))"
      ],
      "execution_count": 20,
      "outputs": [
        {
          "output_type": "stream",
          "text": [
            "INFO:tensorflow:Calling model_fn.\n",
            "WARNING:tensorflow:Layer dnn is casting an input tensor from dtype float64 to the layer's dtype of float32, which is new behavior in TensorFlow 2.  The layer has dtype float32 because it's dtype defaults to floatx.\n",
            "\n",
            "If you intended to run this layer in float32, you can safely ignore this warning. If in doubt, this warning is likely only an issue if you are porting a TensorFlow 1.X model to TensorFlow 2.\n",
            "\n",
            "To change all layers to have dtype float64 by default, call `tf.keras.backend.set_floatx('float64')`. To change just this layer, pass dtype='float64' to the layer constructor. If you are the author of this layer, you can disable autocasting by passing autocast=False to the base Layer constructor.\n",
            "\n",
            "WARNING:tensorflow:Entity <bound method _DNNModelV2.call of <tensorflow_estimator.python.estimator.canned.dnn._DNNModelV2 object at 0x7fb83bcdc128>> could not be transformed and will be executed as-is. Please report this to the AutoGraph team. When filing the bug, set the verbosity to 10 (on Linux, `export AUTOGRAPH_VERBOSITY=10`) and attach the full output. Cause: module 'gast' has no attribute 'Num'\n",
            "WARNING: Entity <bound method _DNNModelV2.call of <tensorflow_estimator.python.estimator.canned.dnn._DNNModelV2 object at 0x7fb83bcdc128>> could not be transformed and will be executed as-is. Please report this to the AutoGraph team. When filing the bug, set the verbosity to 10 (on Linux, `export AUTOGRAPH_VERBOSITY=10`) and attach the full output. Cause: module 'gast' has no attribute 'Num'\n",
            "INFO:tensorflow:Done calling model_fn.\n",
            "INFO:tensorflow:Starting evaluation at 2019-09-30T14:42:13Z\n",
            "INFO:tensorflow:Graph was finalized.\n",
            "INFO:tensorflow:Restoring parameters from /tmp/tmpy7mp3ijy/model.ckpt-10000\n",
            "INFO:tensorflow:Running local_init_op.\n",
            "INFO:tensorflow:Done running local_init_op.\n",
            "INFO:tensorflow:Finished evaluation at 2019-09-30-14:42:13\n",
            "INFO:tensorflow:Saving dict for global step 10000: accuracy = 0.96666664, average_loss = 0.28504816, global_step = 10000, loss = 0.28504816\n",
            "INFO:tensorflow:Saving 'checkpoint_path' summary for global step 10000: /tmp/tmpy7mp3ijy/model.ckpt-10000\n",
            "\n",
            "Test set accuracy: 0.967\n",
            "\n"
          ],
          "name": "stdout"
        }
      ]
    },
    {
      "cell_type": "markdown",
      "metadata": {
        "id": "cTps7K2djHq-",
        "colab_type": "text"
      },
      "source": [
        "Unlike the call to the `train` method, you did not pass the `steps`\n",
        "argument to evaluate. The `input_fn` for eval only yields a single\n",
        "[epoch](https://developers.google.com/machine-learning/glossary/#epoch) of data.\n",
        "\n",
        "\n",
        "The `eval_result` dictionary also contains the `average_loss` (mean loss per sample), the `loss` (mean loss per mini-batch) and the value of the estimator's `global_step` (the number of training iterations it underwent).\n"
      ]
    },
    {
      "cell_type": "markdown",
      "metadata": {
        "id": "K9THtD72j5rG",
        "colab_type": "text"
      },
      "source": [
        "### Making predictions (inferring) from the trained model"
      ]
    },
    {
      "cell_type": "markdown",
      "metadata": {
        "id": "ACQRRR-mj6K4",
        "colab_type": "text"
      },
      "source": [
        "You now have a trained model that produces good evaluation results.\n",
        "You can now use the trained model to predict the species of an Iris flower\n",
        "based on some unlabeled measurements. As with training and evaluation, you make\n",
        "predictions using a single function call:"
      ]
    },
    {
      "cell_type": "code",
      "metadata": {
        "id": "pKi4N29gj2wY",
        "colab_type": "code",
        "colab": {}
      },
      "source": [
        "# Generate predictions from the model\n",
        "expected = ['Setosa', 'Versicolor', 'Virginica']\n",
        "predict_x = {\n",
        "    'SepalLength': [5.1, 5.9, 6.9],\n",
        "    'SepalWidth': [3.3, 3.0, 3.1],\n",
        "    'PetalLength': [1.7, 4.2, 5.4],\n",
        "    'PetalWidth': [0.5, 1.5, 2.1],\n",
        "}\n",
        "\n",
        "def input_fn(features, batch_size=256):\n",
        "  '''An input function for prediction.'''\n",
        "  # Convert the inputs to a Dataset without labels.\n",
        "  return tf.data.Dataset.from_tensor_slices(dict(features)).batch(batch_size)\n",
        "\n",
        "predictions = classifier.predict(input_fn=lambda: input_fn(predict_x))  "
      ],
      "execution_count": 0,
      "outputs": []
    },
    {
      "cell_type": "markdown",
      "metadata": {
        "id": "WxRUkzGTk7Tu",
        "colab_type": "text"
      },
      "source": [
        "The `predict` method returns a Python iterable, yielding a dictionary of\n",
        "prediction results for each example. The following code prints a few\n",
        "predictions and their probabilities:"
      ]
    },
    {
      "cell_type": "code",
      "metadata": {
        "id": "smjc7pR8lZeW",
        "colab_type": "code",
        "colab": {
          "base_uri": "https://localhost:8080/",
          "height": 220
        },
        "outputId": "93a373d9-f10c-4e7e-d10d-c6c070e4aabb"
      },
      "source": [
        "for pred_dict, expec in zip(predictions, expected):\n",
        "  class_id = pred_dict['class_ids'][0]\n",
        "  probability = pred_dict['probabilities'][class_id]\n",
        "\n",
        "  print('Prediction is \"{}\" ({:.1f}%), expected \"{}\"'.format(SPECIES[class_id], 100 * probability, expec))"
      ],
      "execution_count": 22,
      "outputs": [
        {
          "output_type": "stream",
          "text": [
            "INFO:tensorflow:Calling model_fn.\n",
            "WARNING:tensorflow:Entity <bound method _DNNModelV2.call of <tensorflow_estimator.python.estimator.canned.dnn._DNNModelV2 object at 0x7fb836bcbb00>> could not be transformed and will be executed as-is. Please report this to the AutoGraph team. When filing the bug, set the verbosity to 10 (on Linux, `export AUTOGRAPH_VERBOSITY=10`) and attach the full output. Cause: module 'gast' has no attribute 'Num'\n",
            "WARNING: Entity <bound method _DNNModelV2.call of <tensorflow_estimator.python.estimator.canned.dnn._DNNModelV2 object at 0x7fb836bcbb00>> could not be transformed and will be executed as-is. Please report this to the AutoGraph team. When filing the bug, set the verbosity to 10 (on Linux, `export AUTOGRAPH_VERBOSITY=10`) and attach the full output. Cause: module 'gast' has no attribute 'Num'\n",
            "INFO:tensorflow:Done calling model_fn.\n",
            "INFO:tensorflow:Graph was finalized.\n",
            "INFO:tensorflow:Restoring parameters from /tmp/tmpy7mp3ijy/model.ckpt-10000\n",
            "INFO:tensorflow:Running local_init_op.\n",
            "INFO:tensorflow:Done running local_init_op.\n",
            "Prediction is \"Setosa\" (88.9%), expected \"Setosa\"\n",
            "Prediction is \"Versicolor\" (67.0%), expected \"Versicolor\"\n",
            "Prediction is \"Virginica\" (72.7%), expected \"Virginica\"\n"
          ],
          "name": "stdout"
        }
      ]
    },
    {
      "cell_type": "code",
      "metadata": {
        "id": "melv02zbm4EI",
        "colab_type": "code",
        "colab": {}
      },
      "source": [
        ""
      ],
      "execution_count": 0,
      "outputs": []
    }
  ]
}