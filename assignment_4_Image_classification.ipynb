{
  "nbformat": 4,
  "nbformat_minor": 0,
  "metadata": {
    "colab": {
      "name": "assignment_4_Image_classification.ipynb",
      "provenance": [],
      "include_colab_link": true
    },
    "kernelspec": {
      "name": "python3",
      "display_name": "Python 3"
    }
  },
  "cells": [
    {
      "cell_type": "markdown",
      "metadata": {
        "id": "view-in-github",
        "colab_type": "text"
      },
      "source": [
        "<a href=\"https://colab.research.google.com/github/rahiakela/practical-machine-learning-with-tensorflow/blob/week-4/assignment_4_Image_classification.ipynb\" target=\"_parent\"><img src=\"https://colab.research.google.com/assets/colab-badge.svg\" alt=\"Open In Colab\"/></a>"
      ]
    },
    {
      "cell_type": "code",
      "metadata": {
        "id": "pY6VQXs5QMrD",
        "colab_type": "code",
        "outputId": "2db8e28a-f5f3-4303-88aa-2daa63d8015b",
        "colab": {
          "base_uri": "https://localhost:8080/",
          "height": 35
        }
      },
      "source": [
        "try:\n",
        "  # %tensorflow_version only exists in Colab.\n",
        "  %tensorflow_version 2.x\n",
        "except Exception:\n",
        "  pass"
      ],
      "execution_count": 1,
      "outputs": [
        {
          "output_type": "stream",
          "text": [
            "TensorFlow 2.x selected.\n"
          ],
          "name": "stdout"
        }
      ]
    },
    {
      "cell_type": "code",
      "metadata": {
        "id": "5Z5jLkgNQsQX",
        "colab_type": "code",
        "outputId": "ab382f3d-1722-4195-d0a1-c14d697a6ffe",
        "colab": {
          "base_uri": "https://localhost:8080/",
          "height": 52
        }
      },
      "source": [
        "from __future__ import absolute_import, division, print_function, unicode_literals\n",
        "\n",
        "# TensorFlow and tf.keras\n",
        "import tensorflow as tf\n",
        "from tensorflow import keras\n",
        "from keras.utils import np_utils\n",
        "\n",
        "# Helper libraries\n",
        "import numpy as np\n",
        "import matplotlib.pyplot as plt\n",
        "\n",
        "print(tf.__version__)"
      ],
      "execution_count": 2,
      "outputs": [
        {
          "output_type": "stream",
          "text": [
            "2.0.0-rc1\n"
          ],
          "name": "stdout"
        },
        {
          "output_type": "stream",
          "text": [
            "Using TensorFlow backend.\n"
          ],
          "name": "stderr"
        }
      ]
    },
    {
      "cell_type": "code",
      "metadata": {
        "id": "iRAlX5gjQudc",
        "colab_type": "code",
        "outputId": "9e6419b1-7590-4609-81b0-96a33600d5f1",
        "colab": {
          "base_uri": "https://localhost:8080/",
          "height": 52
        }
      },
      "source": [
        "tf.random.set_seed(100)\n",
        "mnist = keras.datasets.mnist\n",
        "\n",
        "(train_images, train_labels), (test_images, test_labels) = mnist.load_data()"
      ],
      "execution_count": 3,
      "outputs": [
        {
          "output_type": "stream",
          "text": [
            "Downloading data from https://storage.googleapis.com/tensorflow/tf-keras-datasets/mnist.npz\n",
            "11493376/11490434 [==============================] - 0s 0us/step\n"
          ],
          "name": "stdout"
        }
      ]
    },
    {
      "cell_type": "code",
      "metadata": {
        "id": "yiVlTCTrQy7D",
        "colab_type": "code",
        "colab": {}
      },
      "source": [
        "num_train, img_rows, img_cols =  train_images.shape\n",
        "num_test, _, _ =  test_images.shape\n",
        "num_classes = len(np.unique(train_labels))"
      ],
      "execution_count": 0,
      "outputs": []
    },
    {
      "cell_type": "markdown",
      "metadata": {
        "id": "Nekfr2L5Q5Ly",
        "colab_type": "text"
      },
      "source": [
        "### Explore the data\n",
        "Q1: What is the shape of train and test data in MNIST dataset?"
      ]
    },
    {
      "cell_type": "code",
      "metadata": {
        "id": "t1c7WKkgQ0rg",
        "colab_type": "code",
        "outputId": "47159d19-213a-4409-8c33-f4081dd03e43",
        "colab": {
          "base_uri": "https://localhost:8080/",
          "height": 52
        }
      },
      "source": [
        "print(train_images.shape)\n",
        "print(test_images.shape)"
      ],
      "execution_count": 5,
      "outputs": [
        {
          "output_type": "stream",
          "text": [
            "(60000, 28, 28)\n",
            "(10000, 28, 28)\n"
          ],
          "name": "stdout"
        }
      ]
    },
    {
      "cell_type": "markdown",
      "metadata": {
        "id": "fpzl3Q49RSVh",
        "colab_type": "text"
      },
      "source": [
        "### Preprocess the data\n",
        "The data must be preprocessed before training the network."
      ]
    },
    {
      "cell_type": "code",
      "metadata": {
        "id": "FidMJmodRHRW",
        "colab_type": "code",
        "colab": {}
      },
      "source": [
        "train_images = train_images / 255.0\n",
        "test_images = test_images / 255.0"
      ],
      "execution_count": 0,
      "outputs": []
    },
    {
      "cell_type": "markdown",
      "metadata": {
        "id": "tek8itB9Ra49",
        "colab_type": "text"
      },
      "source": [
        "### Build the model\n",
        "Model should contain following layers:\n",
        "\n",
        "Flatten(Input) -> Dense(10, activation='softmax')\n",
        "\n",
        "Use 'Adam' optimizer\n",
        "\n",
        "Use 'accuracy' as your metric"
      ]
    },
    {
      "cell_type": "code",
      "metadata": {
        "id": "m5H_5e2GRX-C",
        "colab_type": "code",
        "colab": {
          "base_uri": "https://localhost:8080/",
          "height": 266
        },
        "outputId": "96dff585-585a-41a4-aae9-6d038dafda12"
      },
      "source": [
        "# create NN architecture\n",
        "model = keras.Sequential([\n",
        "    keras.layers.Flatten(input_shape=(28, 28)),\n",
        "    keras.layers.Dense(128, activation='relu'),\n",
        "    keras.layers.Dense(10, activation='softmax')\n",
        "])\n",
        "\n",
        "# compile the NN model\n",
        "model.compile(optimizer='adam', loss='sparse_categorical_crossentropy', metrics=['accuracy'])\n",
        "\n",
        "model.summary()"
      ],
      "execution_count": 8,
      "outputs": [
        {
          "output_type": "stream",
          "text": [
            "Model: \"sequential_1\"\n",
            "_________________________________________________________________\n",
            "Layer (type)                 Output Shape              Param #   \n",
            "=================================================================\n",
            "flatten_1 (Flatten)          (None, 784)               0         \n",
            "_________________________________________________________________\n",
            "dense_2 (Dense)              (None, 128)               100480    \n",
            "_________________________________________________________________\n",
            "dense_3 (Dense)              (None, 10)                1290      \n",
            "=================================================================\n",
            "Total params: 101,770\n",
            "Trainable params: 101,770\n",
            "Non-trainable params: 0\n",
            "_________________________________________________________________\n"
          ],
          "name": "stdout"
        }
      ]
    },
    {
      "cell_type": "markdown",
      "metadata": {
        "id": "rp_ExCjaUo0P",
        "colab_type": "text"
      },
      "source": [
        "### Train the model\n",
        "Run the following command to train your model:"
      ]
    },
    {
      "cell_type": "code",
      "metadata": {
        "id": "4AuMRBtaSiU_",
        "colab_type": "code",
        "outputId": "287b7ce0-e54e-4b16-9ff7-48087c47d2da",
        "colab": {
          "base_uri": "https://localhost:8080/",
          "height": 446
        }
      },
      "source": [
        "history = model.fit(train_images, train_labels, batch_size=512, validation_data=(test_images, test_labels), epochs=10)"
      ],
      "execution_count": 9,
      "outputs": [
        {
          "output_type": "stream",
          "text": [
            "Train on 60000 samples, validate on 10000 samples\n",
            "Epoch 1/10\n",
            "WARNING:tensorflow:Entity <function Function._initialize_uninitialized_variables.<locals>.initialize_variables at 0x7fbd850e6d90> could not be transformed and will be executed as-is. Please report this to the AutoGraph team. When filing the bug, set the verbosity to 10 (on Linux, `export AUTOGRAPH_VERBOSITY=10`) and attach the full output. Cause: module 'gast' has no attribute 'Num'\n",
            "WARNING: Entity <function Function._initialize_uninitialized_variables.<locals>.initialize_variables at 0x7fbd850e6d90> could not be transformed and will be executed as-is. Please report this to the AutoGraph team. When filing the bug, set the verbosity to 10 (on Linux, `export AUTOGRAPH_VERBOSITY=10`) and attach the full output. Cause: module 'gast' has no attribute 'Num'\n",
            "60000/60000 [==============================] - 2s 36us/sample - loss: 0.5884 - accuracy: 0.8415 - val_loss: 0.2757 - val_accuracy: 0.9229\n",
            "Epoch 2/10\n",
            "60000/60000 [==============================] - 1s 21us/sample - loss: 0.2440 - accuracy: 0.9322 - val_loss: 0.2023 - val_accuracy: 0.9421\n",
            "Epoch 3/10\n",
            "60000/60000 [==============================] - 1s 20us/sample - loss: 0.1886 - accuracy: 0.9473 - val_loss: 0.1734 - val_accuracy: 0.9527\n",
            "Epoch 4/10\n",
            "60000/60000 [==============================] - 1s 20us/sample - loss: 0.1552 - accuracy: 0.9563 - val_loss: 0.1455 - val_accuracy: 0.9592\n",
            "Epoch 5/10\n",
            "60000/60000 [==============================] - 1s 20us/sample - loss: 0.1332 - accuracy: 0.9627 - val_loss: 0.1329 - val_accuracy: 0.9621\n",
            "Epoch 6/10\n",
            "60000/60000 [==============================] - 1s 20us/sample - loss: 0.1162 - accuracy: 0.9671 - val_loss: 0.1182 - val_accuracy: 0.9670\n",
            "Epoch 7/10\n",
            "60000/60000 [==============================] - 1s 21us/sample - loss: 0.1026 - accuracy: 0.9711 - val_loss: 0.1121 - val_accuracy: 0.9672\n",
            "Epoch 8/10\n",
            "60000/60000 [==============================] - 1s 20us/sample - loss: 0.0909 - accuracy: 0.9749 - val_loss: 0.1041 - val_accuracy: 0.9705\n",
            "Epoch 9/10\n",
            "60000/60000 [==============================] - 1s 21us/sample - loss: 0.0823 - accuracy: 0.9772 - val_loss: 0.0953 - val_accuracy: 0.9730\n",
            "Epoch 10/10\n",
            "60000/60000 [==============================] - 1s 21us/sample - loss: 0.0729 - accuracy: 0.9797 - val_loss: 0.0931 - val_accuracy: 0.9720\n"
          ],
          "name": "stdout"
        }
      ]
    },
    {
      "cell_type": "code",
      "metadata": {
        "id": "qYe2g3gmUvu0",
        "colab_type": "code",
        "outputId": "a3ba1f23-caf1-47bf-8bd6-75af86476cd0",
        "colab": {
          "base_uri": "https://localhost:8080/",
          "height": 35
        }
      },
      "source": [
        "history"
      ],
      "execution_count": 0,
      "outputs": [
        {
          "output_type": "execute_result",
          "data": {
            "text/plain": [
              "<tensorflow.python.keras.callbacks.History at 0x7f493a97cc18>"
            ]
          },
          "metadata": {
            "tags": []
          },
          "execution_count": 12
        }
      ]
    },
    {
      "cell_type": "code",
      "metadata": {
        "id": "-LFp0Qn_WANP",
        "colab_type": "code",
        "outputId": "d39ee7fc-2dbd-4374-b1dc-ac0e39b74595",
        "colab": {
          "base_uri": "https://localhost:8080/",
          "height": 446
        }
      },
      "source": [
        "# create NN architecture\n",
        "model = keras.Sequential([\n",
        "    keras.layers.Flatten(input_shape=(28, 28)),\n",
        "    keras.layers.Dense(300, activation='relu'),\n",
        "    keras.layers.Dense(10, activation='softmax')\n",
        "])\n",
        "\n",
        "# compile the NN model\n",
        "model.compile(optimizer='adam', loss='sparse_categorical_crossentropy', metrics=['accuracy'])\n",
        "# fit model\n",
        "history = model.fit(train_images, train_labels, batch_size=512, validation_data=(test_images, test_labels), epochs=10)"
      ],
      "execution_count": 10,
      "outputs": [
        {
          "output_type": "stream",
          "text": [
            "Train on 60000 samples, validate on 10000 samples\n",
            "Epoch 1/10\n",
            "WARNING:tensorflow:Entity <function Function._initialize_uninitialized_variables.<locals>.initialize_variables at 0x7fbd83b5a2f0> could not be transformed and will be executed as-is. Please report this to the AutoGraph team. When filing the bug, set the verbosity to 10 (on Linux, `export AUTOGRAPH_VERBOSITY=10`) and attach the full output. Cause: module 'gast' has no attribute 'Num'\n",
            "WARNING: Entity <function Function._initialize_uninitialized_variables.<locals>.initialize_variables at 0x7fbd83b5a2f0> could not be transformed and will be executed as-is. Please report this to the AutoGraph team. When filing the bug, set the verbosity to 10 (on Linux, `export AUTOGRAPH_VERBOSITY=10`) and attach the full output. Cause: module 'gast' has no attribute 'Num'\n",
            "60000/60000 [==============================] - 2s 41us/sample - loss: 0.4643 - accuracy: 0.8752 - val_loss: 0.2330 - val_accuracy: 0.9329\n",
            "Epoch 2/10\n",
            "60000/60000 [==============================] - 2s 35us/sample - loss: 0.2001 - accuracy: 0.9443 - val_loss: 0.1629 - val_accuracy: 0.9522\n",
            "Epoch 3/10\n",
            "60000/60000 [==============================] - 2s 35us/sample - loss: 0.1464 - accuracy: 0.9588 - val_loss: 0.1320 - val_accuracy: 0.9631\n",
            "Epoch 4/10\n",
            "60000/60000 [==============================] - 2s 35us/sample - loss: 0.1134 - accuracy: 0.9681 - val_loss: 0.1085 - val_accuracy: 0.9691\n",
            "Epoch 5/10\n",
            "60000/60000 [==============================] - 2s 36us/sample - loss: 0.0923 - accuracy: 0.9741 - val_loss: 0.0988 - val_accuracy: 0.9724\n",
            "Epoch 6/10\n",
            "60000/60000 [==============================] - 2s 35us/sample - loss: 0.0765 - accuracy: 0.9790 - val_loss: 0.0864 - val_accuracy: 0.9749\n",
            "Epoch 7/10\n",
            "60000/60000 [==============================] - 2s 35us/sample - loss: 0.0655 - accuracy: 0.9820 - val_loss: 0.0827 - val_accuracy: 0.9751\n",
            "Epoch 8/10\n",
            "60000/60000 [==============================] - 2s 35us/sample - loss: 0.0557 - accuracy: 0.9847 - val_loss: 0.0773 - val_accuracy: 0.9763\n",
            "Epoch 9/10\n",
            "60000/60000 [==============================] - 2s 35us/sample - loss: 0.0486 - accuracy: 0.9866 - val_loss: 0.0711 - val_accuracy: 0.9782\n",
            "Epoch 10/10\n",
            "60000/60000 [==============================] - 2s 35us/sample - loss: 0.0415 - accuracy: 0.9887 - val_loss: 0.0690 - val_accuracy: 0.9779\n"
          ],
          "name": "stdout"
        }
      ]
    },
    {
      "cell_type": "code",
      "metadata": {
        "id": "5BYbzUw1Wlqd",
        "colab_type": "code",
        "colab": {}
      },
      "source": [
        ""
      ],
      "execution_count": 0,
      "outputs": []
    }
  ]
}