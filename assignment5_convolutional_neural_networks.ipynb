{
  "nbformat": 4,
  "nbformat_minor": 0,
  "metadata": {
    "colab": {
      "name": "assignment5-convolutional-neural-networks.ipynb",
      "provenance": [],
      "include_colab_link": true
    },
    "kernelspec": {
      "name": "python3",
      "display_name": "Python 3"
    },
    "accelerator": "GPU"
  },
  "cells": [
    {
      "cell_type": "markdown",
      "metadata": {
        "id": "view-in-github",
        "colab_type": "text"
      },
      "source": [
        "<a href=\"https://colab.research.google.com/github/rahiakela/practical-machine-learning-with-tensorflow/blob/week-5/assignment5_convolutional_neural_networks.ipynb\" target=\"_parent\"><img src=\"https://colab.research.google.com/assets/colab-badge.svg\" alt=\"Open In Colab\"/></a>"
      ]
    },
    {
      "cell_type": "markdown",
      "metadata": {
        "id": "tLbdr6xdYX6g",
        "colab_type": "text"
      },
      "source": [
        "### Setup"
      ]
    },
    {
      "cell_type": "code",
      "metadata": {
        "id": "x43L60cpYdpG",
        "colab_type": "code",
        "colab": {
          "base_uri": "https://localhost:8080/",
          "height": 0
        },
        "outputId": "f8c02733-9b1e-46fe-8b28-ecc7bf3f07d3"
      },
      "source": [
        "!pip install tensorflow-gpu==2.0.0-beta1\n",
        "\n",
        "import tensorflow as tf\n",
        "\n",
        "tf.random.set_seed(1)"
      ],
      "execution_count": 13,
      "outputs": [
        {
          "output_type": "stream",
          "text": [
            "Requirement already satisfied: tensorflow-gpu==2.0.0-beta1 in /usr/local/lib/python3.6/dist-packages (2.0.0b1)\n",
            "Requirement already satisfied: astor>=0.6.0 in /usr/local/lib/python3.6/dist-packages (from tensorflow-gpu==2.0.0-beta1) (0.8.0)\n",
            "Requirement already satisfied: keras-applications>=1.0.6 in /usr/local/lib/python3.6/dist-packages (from tensorflow-gpu==2.0.0-beta1) (1.0.8)\n",
            "Requirement already satisfied: keras-preprocessing>=1.0.5 in /usr/local/lib/python3.6/dist-packages (from tensorflow-gpu==2.0.0-beta1) (1.1.0)\n",
            "Requirement already satisfied: wheel>=0.26 in /usr/local/lib/python3.6/dist-packages (from tensorflow-gpu==2.0.0-beta1) (0.33.6)\n",
            "Requirement already satisfied: numpy<2.0,>=1.14.5 in /usr/local/lib/python3.6/dist-packages (from tensorflow-gpu==2.0.0-beta1) (1.16.5)\n",
            "Requirement already satisfied: google-pasta>=0.1.6 in /usr/local/lib/python3.6/dist-packages (from tensorflow-gpu==2.0.0-beta1) (0.1.7)\n",
            "Requirement already satisfied: gast>=0.2.0 in /usr/local/lib/python3.6/dist-packages (from tensorflow-gpu==2.0.0-beta1) (0.2.2)\n",
            "Requirement already satisfied: grpcio>=1.8.6 in /usr/local/lib/python3.6/dist-packages (from tensorflow-gpu==2.0.0-beta1) (1.15.0)\n",
            "Requirement already satisfied: tf-estimator-nightly<1.14.0.dev2019060502,>=1.14.0.dev2019060501 in /usr/local/lib/python3.6/dist-packages (from tensorflow-gpu==2.0.0-beta1) (1.14.0.dev2019060501)\n",
            "Requirement already satisfied: six>=1.10.0 in /usr/local/lib/python3.6/dist-packages (from tensorflow-gpu==2.0.0-beta1) (1.12.0)\n",
            "Requirement already satisfied: wrapt>=1.11.1 in /usr/local/lib/python3.6/dist-packages (from tensorflow-gpu==2.0.0-beta1) (1.11.2)\n",
            "Requirement already satisfied: protobuf>=3.6.1 in /usr/local/lib/python3.6/dist-packages (from tensorflow-gpu==2.0.0-beta1) (3.7.1)\n",
            "Requirement already satisfied: termcolor>=1.1.0 in /usr/local/lib/python3.6/dist-packages (from tensorflow-gpu==2.0.0-beta1) (1.1.0)\n",
            "Requirement already satisfied: absl-py>=0.7.0 in /usr/local/lib/python3.6/dist-packages (from tensorflow-gpu==2.0.0-beta1) (0.8.0)\n",
            "Requirement already satisfied: tb-nightly<1.14.0a20190604,>=1.14.0a20190603 in /usr/local/lib/python3.6/dist-packages (from tensorflow-gpu==2.0.0-beta1) (1.14.0a20190603)\n",
            "Requirement already satisfied: h5py in /usr/local/lib/python3.6/dist-packages (from keras-applications>=1.0.6->tensorflow-gpu==2.0.0-beta1) (2.8.0)\n",
            "Requirement already satisfied: setuptools in /usr/local/lib/python3.6/dist-packages (from protobuf>=3.6.1->tensorflow-gpu==2.0.0-beta1) (41.2.0)\n",
            "Requirement already satisfied: werkzeug>=0.11.15 in /usr/local/lib/python3.6/dist-packages (from tb-nightly<1.14.0a20190604,>=1.14.0a20190603->tensorflow-gpu==2.0.0-beta1) (0.15.6)\n",
            "Requirement already satisfied: markdown>=2.6.8 in /usr/local/lib/python3.6/dist-packages (from tb-nightly<1.14.0a20190604,>=1.14.0a20190603->tensorflow-gpu==2.0.0-beta1) (3.1.1)\n"
          ],
          "name": "stdout"
        }
      ]
    },
    {
      "cell_type": "markdown",
      "metadata": {
        "id": "rcf7xxx8YrEZ",
        "colab_type": "text"
      },
      "source": [
        "### Importing the dataset"
      ]
    },
    {
      "cell_type": "code",
      "metadata": {
        "id": "0fAwuVGHYsIY",
        "colab_type": "code",
        "colab": {
          "base_uri": "https://localhost:8080/",
          "height": 83
        },
        "outputId": "0aa40c55-00d1-4cf7-dfd2-0200e06caa11"
      },
      "source": [
        "(train_images, train_labels), (test_images, test_labels) = tf.keras.datasets.cifar10.load_data()\n",
        "print(\"train_images shape:\", train_images.shape)\n",
        "print(\"test_images shape:\", test_images.shape)\n",
        "print(\"train_labels shape:\", train_labels.shape)\n",
        "print(\"test_labels shape:\", test_labels.shape)\n",
        "\n",
        "train_images = train_images / 255\n",
        "test_images = test_images / 255"
      ],
      "execution_count": 14,
      "outputs": [
        {
          "output_type": "stream",
          "text": [
            "train_images shape: (50000, 32, 32, 3)\n",
            "test_images shape: (10000, 32, 32, 3)\n",
            "train_labels shape: (50000, 1)\n",
            "test_labels shape: (10000, 1)\n"
          ],
          "name": "stdout"
        }
      ]
    },
    {
      "cell_type": "markdown",
      "metadata": {
        "id": "DiiCR0TNYxGV",
        "colab_type": "text"
      },
      "source": [
        "### Building the model"
      ]
    },
    {
      "cell_type": "markdown",
      "metadata": {
        "id": "XlS7BhraZsPk",
        "colab_type": "text"
      },
      "source": [
        "Model should contain following layers:\n",
        "\n",
        "1. convolutional layer with 64 filters of size (3, 3), relu activation and the correct input shape\n",
        "2. convolutional layer with 32 filters of size (3, 3), relu activation\n",
        "3. flatten layer\n",
        "4. dense layer with 64 units and relu activation\n",
        "5. dense layer with 10 units and softmax activation\n",
        " \n",
        "Use 'Adam' optimizer\n",
        "\n",
        "Use 'accuracy' as your metric"
      ]
    },
    {
      "cell_type": "code",
      "metadata": {
        "id": "d8a-I53yYzoy",
        "colab_type": "code",
        "colab": {}
      },
      "source": [
        "model = tf.keras.models.Sequential()"
      ],
      "execution_count": 0,
      "outputs": []
    },
    {
      "cell_type": "code",
      "metadata": {
        "id": "yVg37PnfY2CQ",
        "colab_type": "code",
        "colab": {
          "base_uri": "https://localhost:8080/",
          "height": 317
        },
        "outputId": "6c2ce99b-4add-4575-f271-bd7508ef906c"
      },
      "source": [
        "model.add(tf.keras.layers.Conv2D(64, (3, 3), activation='relu', input_shape=(32, 32, 3)))\n",
        "model.add(tf.keras.layers.Conv2D(32, (3, 3), activation='relu'))\n",
        "model.add(tf.keras.layers.Flatten())\n",
        "model.add(tf.keras.layers.Dense(64, activation='relu'))\n",
        "model.add(tf.keras.layers.Dense(10, activation='softmax'))\n",
        "model.summary()"
      ],
      "execution_count": 16,
      "outputs": [
        {
          "output_type": "stream",
          "text": [
            "Model: \"sequential_1\"\n",
            "_________________________________________________________________\n",
            "Layer (type)                 Output Shape              Param #   \n",
            "=================================================================\n",
            "conv2d_4 (Conv2D)            (None, 30, 30, 64)        1792      \n",
            "_________________________________________________________________\n",
            "conv2d_5 (Conv2D)            (None, 28, 28, 32)        18464     \n",
            "_________________________________________________________________\n",
            "flatten_1 (Flatten)          (None, 25088)             0         \n",
            "_________________________________________________________________\n",
            "dense_2 (Dense)              (None, 64)                1605696   \n",
            "_________________________________________________________________\n",
            "dense_3 (Dense)              (None, 10)                650       \n",
            "=================================================================\n",
            "Total params: 1,626,602\n",
            "Trainable params: 1,626,602\n",
            "Non-trainable params: 0\n",
            "_________________________________________________________________\n"
          ],
          "name": "stdout"
        }
      ]
    },
    {
      "cell_type": "markdown",
      "metadata": {
        "id": "IboXMlMda6Z9",
        "colab_type": "text"
      },
      "source": [
        "### compile the model"
      ]
    },
    {
      "cell_type": "code",
      "metadata": {
        "id": "-HWUuEqVbTwl",
        "colab_type": "code",
        "colab": {}
      },
      "source": [
        "model.compile(optimizer='adam', loss='sparse_categorical_crossentropy', metrics=['accuracy'])"
      ],
      "execution_count": 0,
      "outputs": []
    },
    {
      "cell_type": "markdown",
      "metadata": {
        "id": "4uoNZif2bnJ5",
        "colab_type": "text"
      },
      "source": [
        "### Train the model"
      ]
    },
    {
      "cell_type": "code",
      "metadata": {
        "id": "mBC2UzEZbsTn",
        "colab_type": "code",
        "colab": {
          "base_uri": "https://localhost:8080/",
          "height": 217
        },
        "outputId": "5f0fe149-b079-4f71-fe98-d03ea1851014"
      },
      "source": [
        "model.fit(train_images, train_labels, epochs=5, batch_size=128, shuffle=True)"
      ],
      "execution_count": 18,
      "outputs": [
        {
          "output_type": "stream",
          "text": [
            "Train on 50000 samples\n",
            "Epoch 1/5\n",
            "50000/50000 [==============================] - 8s 158us/sample - loss: 1.5197 - accuracy: 0.4554\n",
            "Epoch 2/5\n",
            "50000/50000 [==============================] - 8s 152us/sample - loss: 1.1618 - accuracy: 0.5897\n",
            "Epoch 3/5\n",
            "50000/50000 [==============================] - 8s 151us/sample - loss: 1.0064 - accuracy: 0.6488\n",
            "Epoch 4/5\n",
            "50000/50000 [==============================] - 8s 154us/sample - loss: 0.8971 - accuracy: 0.6859\n",
            "Epoch 5/5\n",
            "50000/50000 [==============================] - 8s 152us/sample - loss: 0.7976 - accuracy: 0.7224\n"
          ],
          "name": "stdout"
        },
        {
          "output_type": "execute_result",
          "data": {
            "text/plain": [
              "<tensorflow.python.keras.callbacks.History at 0x7fd6a0ee3470>"
            ]
          },
          "metadata": {
            "tags": []
          },
          "execution_count": 18
        }
      ]
    },
    {
      "cell_type": "code",
      "metadata": {
        "id": "grO-8eiQb5uY",
        "colab_type": "code",
        "colab": {
          "base_uri": "https://localhost:8080/",
          "height": 67
        },
        "outputId": "a80218b9-6503-4e6c-f5ec-6fed2dc6fa71"
      },
      "source": [
        "loss, accuracy = model.evaluate(test_images, test_labels)\n",
        "print(\"Test Loss:\", loss)\n",
        "print(\"Test Accuracy:\", accuracy)"
      ],
      "execution_count": 19,
      "outputs": [
        {
          "output_type": "stream",
          "text": [
            "10000/10000 [==============================] - 1s 122us/sample - loss: 1.0567 - accuracy: 0.6378\n",
            "Test Loss: 1.0566750225067139\n",
            "Test Accuracy: 0.6378\n"
          ],
          "name": "stdout"
        }
      ]
    },
    {
      "cell_type": "markdown",
      "metadata": {
        "id": "AZbuq8qjejUB",
        "colab_type": "text"
      },
      "source": [
        "### 2)\n",
        "Add a max pooling layer with pool_size (2, 2) after every convolutional layer in the above architecture and re-train the model for 10\n",
        "\t   epochs. What is the range of training accuracy of the model?"
      ]
    },
    {
      "cell_type": "code",
      "metadata": {
        "id": "KO8iEXzRc65U",
        "colab_type": "code",
        "colab": {
          "base_uri": "https://localhost:8080/",
          "height": 383
        },
        "outputId": "9d3c300b-e4ff-4fee-bf37-b9e0065ef594"
      },
      "source": [
        "model_2 = tf.keras.models.Sequential()\n",
        "\n",
        "model_2.add(tf.keras.layers.Conv2D(64, (3, 3), activation='relu', input_shape=(32, 32, 3)))\n",
        "model_2.add(tf.keras.layers.MaxPool2D((2, 2)))\n",
        "model_2.add(tf.keras.layers.Conv2D(32, (3, 3), activation='relu'))\n",
        "model_2.add(tf.keras.layers.MaxPool2D((2, 2)))\n",
        "model_2.add(tf.keras.layers.Flatten())\n",
        "model_2.add(tf.keras.layers.Dense(64, activation='relu'))\n",
        "model_2.add(tf.keras.layers.Dense(10, activation='softmax'))\n",
        "\n",
        "model_2.summary()"
      ],
      "execution_count": 20,
      "outputs": [
        {
          "output_type": "stream",
          "text": [
            "Model: \"sequential_2\"\n",
            "_________________________________________________________________\n",
            "Layer (type)                 Output Shape              Param #   \n",
            "=================================================================\n",
            "conv2d_6 (Conv2D)            (None, 30, 30, 64)        1792      \n",
            "_________________________________________________________________\n",
            "max_pooling2d (MaxPooling2D) (None, 15, 15, 64)        0         \n",
            "_________________________________________________________________\n",
            "conv2d_7 (Conv2D)            (None, 13, 13, 32)        18464     \n",
            "_________________________________________________________________\n",
            "max_pooling2d_1 (MaxPooling2 (None, 6, 6, 32)          0         \n",
            "_________________________________________________________________\n",
            "flatten_2 (Flatten)          (None, 1152)              0         \n",
            "_________________________________________________________________\n",
            "dense_4 (Dense)              (None, 64)                73792     \n",
            "_________________________________________________________________\n",
            "dense_5 (Dense)              (None, 10)                650       \n",
            "=================================================================\n",
            "Total params: 94,698\n",
            "Trainable params: 94,698\n",
            "Non-trainable params: 0\n",
            "_________________________________________________________________\n"
          ],
          "name": "stdout"
        }
      ]
    },
    {
      "cell_type": "code",
      "metadata": {
        "id": "5X6mQQsxfpQm",
        "colab_type": "code",
        "colab": {}
      },
      "source": [
        "# compile\n",
        "model_2.compile(optimizer='adam', loss='sparse_categorical_crossentropy', metrics=['accuracy'])"
      ],
      "execution_count": 0,
      "outputs": []
    },
    {
      "cell_type": "code",
      "metadata": {
        "id": "3BEJnQ-7fsra",
        "colab_type": "code",
        "colab": {
          "base_uri": "https://localhost:8080/",
          "height": 383
        },
        "outputId": "5c066738-be72-4b8b-fd23-3037da379aef"
      },
      "source": [
        "# train\n",
        "model_2.fit(train_images, train_labels, epochs=10, batch_size=128, shuffle=True)"
      ],
      "execution_count": 22,
      "outputs": [
        {
          "output_type": "stream",
          "text": [
            "Train on 50000 samples\n",
            "Epoch 1/10\n",
            "50000/50000 [==============================] - 7s 146us/sample - loss: 1.6673 - accuracy: 0.4012\n",
            "Epoch 2/10\n",
            "50000/50000 [==============================] - 7s 141us/sample - loss: 1.3230 - accuracy: 0.5291\n",
            "Epoch 3/10\n",
            "50000/50000 [==============================] - 7s 142us/sample - loss: 1.2001 - accuracy: 0.5782\n",
            "Epoch 4/10\n",
            "50000/50000 [==============================] - 7s 141us/sample - loss: 1.1196 - accuracy: 0.6066\n",
            "Epoch 5/10\n",
            "50000/50000 [==============================] - 7s 140us/sample - loss: 1.0611 - accuracy: 0.6292\n",
            "Epoch 6/10\n",
            "50000/50000 [==============================] - 7s 141us/sample - loss: 1.0018 - accuracy: 0.6501\n",
            "Epoch 7/10\n",
            "50000/50000 [==============================] - 7s 140us/sample - loss: 0.9592 - accuracy: 0.6660\n",
            "Epoch 8/10\n",
            "50000/50000 [==============================] - 7s 141us/sample - loss: 0.9201 - accuracy: 0.6804\n",
            "Epoch 9/10\n",
            "50000/50000 [==============================] - 7s 148us/sample - loss: 0.8872 - accuracy: 0.6932\n",
            "Epoch 10/10\n",
            "50000/50000 [==============================] - 7s 140us/sample - loss: 0.8601 - accuracy: 0.7019\n"
          ],
          "name": "stdout"
        },
        {
          "output_type": "execute_result",
          "data": {
            "text/plain": [
              "<tensorflow.python.keras.callbacks.History at 0x7fd6a08e8f60>"
            ]
          },
          "metadata": {
            "tags": []
          },
          "execution_count": 22
        }
      ]
    },
    {
      "cell_type": "code",
      "metadata": {
        "id": "FXyhHb96fvIC",
        "colab_type": "code",
        "colab": {
          "base_uri": "https://localhost:8080/",
          "height": 67
        },
        "outputId": "3937a7bd-7d18-4d17-c9ca-17f51e861bba"
      },
      "source": [
        "# evaluate\n",
        "loss, accuracy = model_2.evaluate(test_images, test_labels)\n",
        "print(\"Test Loss:\", loss)\n",
        "print(\"Test Accuracy:\", accuracy)"
      ],
      "execution_count": 23,
      "outputs": [
        {
          "output_type": "stream",
          "text": [
            "10000/10000 [==============================] - 1s 123us/sample - loss: 0.9477 - accuracy: 0.6752\n",
            "Test Loss: 0.9477218543052673\n",
            "Test Accuracy: 0.6752\n"
          ],
          "name": "stdout"
        }
      ]
    },
    {
      "cell_type": "code",
      "metadata": {
        "id": "QfkJTx2tgPyE",
        "colab_type": "code",
        "colab": {}
      },
      "source": [
        ""
      ],
      "execution_count": 0,
      "outputs": []
    }
  ]
}