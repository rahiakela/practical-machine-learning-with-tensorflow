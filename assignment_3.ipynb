{
  "nbformat": 4,
  "nbformat_minor": 0,
  "metadata": {
    "colab": {
      "name": "assignment-3.ipynb",
      "version": "0.3.2",
      "provenance": [],
      "include_colab_link": true
    },
    "kernelspec": {
      "name": "python3",
      "display_name": "Python 3"
    }
  },
  "cells": [
    {
      "cell_type": "markdown",
      "metadata": {
        "id": "view-in-github",
        "colab_type": "text"
      },
      "source": [
        "<a href=\"https://colab.research.google.com/github/rahiakela/practical-machine-learning-with-tensorflow/blob/week-3/assignment_3.ipynb\" target=\"_parent\"><img src=\"https://colab.research.google.com/assets/colab-badge.svg\" alt=\"Open In Colab\"/></a>"
      ]
    },
    {
      "cell_type": "code",
      "metadata": {
        "id": "xYw15iA5mwMH",
        "colab_type": "code",
        "colab": {
          "base_uri": "https://localhost:8080/",
          "height": 52
        },
        "outputId": "66a4aa76-94ad-4982-d7e9-a54f40f766d5"
      },
      "source": [
        "from __future__ import absolute_import, division, print_function, unicode_literals\n",
        "\n",
        "import pathlib\n",
        "\n",
        "import matplotlib.pyplot as plt\n",
        "import pandas as pd\n",
        "import seaborn as sns\n",
        "\n",
        "try:\n",
        "  # %tensorflow_version only exists in Colab.\n",
        "  %tensorflow_version 2.x\n",
        "except Exception:\n",
        "  pass\n",
        "import tensorflow as tf\n",
        "\n",
        "from tensorflow import keras\n",
        "from tensorflow.keras import layers\n",
        "\n",
        "print(tf.__version__)"
      ],
      "execution_count": 1,
      "outputs": [
        {
          "output_type": "stream",
          "text": [
            "TensorFlow 2.x selected.\n",
            "2.0.0-rc0\n"
          ],
          "name": "stdout"
        }
      ]
    },
    {
      "cell_type": "markdown",
      "metadata": {
        "id": "3UokdvAonDvl",
        "colab_type": "text"
      },
      "source": [
        "7 ) What will be the output of the following code:"
      ]
    },
    {
      "cell_type": "code",
      "metadata": {
        "id": "tKJjAXK7m1Zw",
        "colab_type": "code",
        "colab": {
          "base_uri": "https://localhost:8080/",
          "height": 52
        },
        "outputId": "613e3b4f-eb25-437f-f0e8-500a7d808240"
      },
      "source": [
        "x = tf.data.Dataset.range(5, 15)\n",
        "y = tf.data.Dataset.range(-1, -50, -1)\n",
        "\n",
        "zipped = tf.data.Dataset.zip((x, y))\n",
        "b = zipped.batch(7)\n",
        "for batch in b.take(4):\n",
        "  print([i.numpy() for i in batch])"
      ],
      "execution_count": 2,
      "outputs": [
        {
          "output_type": "stream",
          "text": [
            "[array([ 5,  6,  7,  8,  9, 10, 11]), array([-1, -2, -3, -4, -5, -6, -7])]\n",
            "[array([12, 13, 14]), array([ -8,  -9, -10])]\n"
          ],
          "name": "stdout"
        }
      ]
    },
    {
      "cell_type": "markdown",
      "metadata": {
        "id": "oEuXDJUxn-1G",
        "colab_type": "text"
      },
      "source": [
        "8 ) What will be the first, last elements and the size of the output array of the following code:"
      ]
    },
    {
      "cell_type": "code",
      "metadata": {
        "id": "s0FUnlyMntVH",
        "colab_type": "code",
        "colab": {
          "base_uri": "https://localhost:8080/",
          "height": 35
        },
        "outputId": "fa8aaf2f-7594-456d-b81a-3f41ddc4c02a"
      },
      "source": [
        "x = tf.data.Dataset.range(1, 10)\n",
        "x_ = x.repeat(4).batch(20)\n",
        "n = next(iter(x_))\n",
        "print(n.numpy())"
      ],
      "execution_count": 4,
      "outputs": [
        {
          "output_type": "stream",
          "text": [
            "[1 2 3 4 5 6 7 8 9 1 2 3 4 5 6 7 8 9 1 2]\n"
          ],
          "name": "stdout"
        }
      ]
    },
    {
      "cell_type": "code",
      "metadata": {
        "id": "gOT5PfB8oU5J",
        "colab_type": "code",
        "colab": {}
      },
      "source": [
        ""
      ],
      "execution_count": 0,
      "outputs": []
    }
  ]
}