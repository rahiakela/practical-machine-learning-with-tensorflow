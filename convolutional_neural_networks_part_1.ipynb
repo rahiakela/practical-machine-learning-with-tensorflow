{
  "nbformat": 4,
  "nbformat_minor": 0,
  "metadata": {
    "colab": {
      "name": "convolutional-neural-networks-part-1.ipynb",
      "provenance": [],
      "include_colab_link": true
    },
    "kernelspec": {
      "name": "python3",
      "display_name": "Python 3"
    },
    "accelerator": "GPU"
  },
  "cells": [
    {
      "cell_type": "markdown",
      "metadata": {
        "id": "view-in-github",
        "colab_type": "text"
      },
      "source": [
        "<a href=\"https://colab.research.google.com/github/rahiakela/practical-machine-learning-with-tensorflow/blob/week-5/convolutional_neural_networks_part_1.ipynb\" target=\"_parent\"><img src=\"https://colab.research.google.com/assets/colab-badge.svg\" alt=\"Open In Colab\"/></a>"
      ]
    },
    {
      "cell_type": "markdown",
      "metadata": {
        "id": "rdv0q-GOP19C",
        "colab_type": "text"
      },
      "source": [
        "# Convolutional Neural Networks Part-1\n",
        "\n",
        "This tutorial demonstrates training a simple [Convolutional Neural Network](https://developers.google.com/machine-learning/glossary/#convolutional_neural_network) (CNN) to classify MNIST digits. This simple network will achieve over 99% accuracy on the MNIST test set. Because this tutorial uses the [Keras Sequential API](https://www.tensorflow.org/guide/keras), creating and training our model will take just a few lines of code.\n",
        "\n",
        "Note: CNNs train faster with a GPU. If you are running this notebook with Colab, you can enable the free GPU via * Edit -> Notebook settings -> Hardware accelerator -> GPU*."
      ]
    },
    {
      "cell_type": "markdown",
      "metadata": {
        "id": "hC9A5xanP4uE",
        "colab_type": "text"
      },
      "source": [
        "### Import TensorFlow"
      ]
    },
    {
      "cell_type": "code",
      "metadata": {
        "id": "Sb5yGHX9QUu2",
        "colab_type": "code",
        "colab": {
          "base_uri": "https://localhost:8080/",
          "height": 33
        },
        "outputId": "3139d9c7-308e-404b-8bce-a64f37af3f63"
      },
      "source": [
        "from __future__ import absolute_import, division, print_function, unicode_literals\n",
        "\n",
        "\n",
        "try:\n",
        "  # %tensorflow_version only exists in Colab.\n",
        "  %tensorflow_version 2.x\n",
        "except Exception:\n",
        "  pass\n",
        "import tensorflow as tf\n",
        "\n",
        "from tensorflow.keras import datasets, layers, models"
      ],
      "execution_count": 1,
      "outputs": [
        {
          "output_type": "stream",
          "text": [
            "TensorFlow 2.x selected.\n"
          ],
          "name": "stdout"
        }
      ]
    },
    {
      "cell_type": "markdown",
      "metadata": {
        "id": "OP1o9R_BQV7G",
        "colab_type": "text"
      },
      "source": [
        "### Download and prepare the MNIST dataset"
      ]
    },
    {
      "cell_type": "code",
      "metadata": {
        "id": "o5GwqW-gQvXs",
        "colab_type": "code",
        "colab": {
          "base_uri": "https://localhost:8080/",
          "height": 250
        },
        "outputId": "47d03c02-4f76-4184-9017-6f5815b78bb5"
      },
      "source": [
        "(train_images, train_labels),(test_images, test_labels) = datasets.mnist.load_data()\n",
        "\n",
        "print('Before reshaping:')\n",
        "print('##################')\n",
        "print('Number of axes in train_images:', train_images.ndim)\n",
        "print('Number of axes in test_images:', test_images.ndim)\n",
        "print('Shape in train_images:', train_images.shape)\n",
        "print('Shape in test_images:', test_images.shape)\n",
        "print()\n",
        "\n",
        "train_images = train_images.reshape((60000, 28, 28, 1))\n",
        "test_images = test_images.reshape((10000, 28, 28, 1))\n",
        "\n",
        "print('After reshaping:')\n",
        "print('##################')\n",
        "print('Number of axes in train_images:', train_images.ndim)\n",
        "print('Number of axes in test_images:', test_images.ndim)\n",
        "print('Shape in train_images:', train_images.shape)\n",
        "print('Shape in test_images:', test_images.shape)\n",
        "print()\n",
        "\n",
        "# Normalize pixel values to be between 0 and 1\n",
        "train_images, test_images = train_images / 255.0, test_images / 255.0"
      ],
      "execution_count": 3,
      "outputs": [
        {
          "output_type": "stream",
          "text": [
            "Before reshaping:\n",
            "##################\n",
            "Number of axes in train_images: 3\n",
            "Number of axes in test_images: 3\n",
            "Shape in train_images: (60000, 28, 28)\n",
            "Shape in test_images: (10000, 28, 28)\n",
            "\n",
            "After reshaping:\n",
            "##################\n",
            "Number of axes in train_images: 4\n",
            "Number of axes in test_images: 4\n",
            "Shape in train_images: (60000, 28, 28, 1)\n",
            "Shape in test_images: (10000, 28, 28, 1)\n",
            "\n"
          ],
          "name": "stdout"
        }
      ]
    },
    {
      "cell_type": "markdown",
      "metadata": {
        "id": "pyR9Row8SlNf",
        "colab_type": "text"
      },
      "source": [
        "### Create the convolutional base"
      ]
    },
    {
      "cell_type": "markdown",
      "metadata": {
        "id": "ASswcAqCTcNd",
        "colab_type": "text"
      },
      "source": [
        "The 6 lines of code below define the convolutional base using a common pattern: a stack of [Conv2D](https://www.tensorflow.org/api_docs/python/tf/keras/layers/Conv2D) and [MaxPooling2D](https://www.tensorflow.org/api_docs/python/tf/keras/layers/MaxPool2D) layers.\n",
        "\n",
        "As input, a CNN takes tensors of shape (image_height, image_width, color_channels), ignoring the batch size. If you are new to color channels, MNIST has one (because the images are grayscale), whereas a color image has three (R,G,B). In this example, we will configure our CNN to process inputs of shape (28, 28, 1), which is the format of MNIST images. We do this by passing the argument `input_shape` to our first layer.\n",
        "\n"
      ]
    },
    {
      "cell_type": "code",
      "metadata": {
        "id": "08oQZI0HRx-c",
        "colab_type": "code",
        "colab": {}
      },
      "source": [
        ""
      ],
      "execution_count": 0,
      "outputs": []
    }
  ]
}