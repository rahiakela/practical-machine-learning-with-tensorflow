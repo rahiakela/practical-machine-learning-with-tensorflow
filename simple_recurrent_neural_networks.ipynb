{
  "nbformat": 4,
  "nbformat_minor": 0,
  "metadata": {
    "colab": {
      "name": "simple-recurrent-neural-networks.ipynb",
      "provenance": [],
      "include_colab_link": true
    },
    "kernelspec": {
      "name": "python3",
      "display_name": "Python 3"
    }
  },
  "cells": [
    {
      "cell_type": "markdown",
      "metadata": {
        "id": "view-in-github",
        "colab_type": "text"
      },
      "source": [
        "<a href=\"https://colab.research.google.com/github/rahiakela/practical-machine-learning-with-tensorflow/blob/week-7/simple_recurrent_neural_networks.ipynb\" target=\"_parent\"><img src=\"https://colab.research.google.com/assets/colab-badge.svg\" alt=\"Open In Colab\"/></a>"
      ]
    },
    {
      "cell_type": "markdown",
      "metadata": {
        "id": "-mDQ7SJu2gAX",
        "colab_type": "text"
      },
      "source": [
        "# Simple Recurrent Neural Networks"
      ]
    },
    {
      "cell_type": "markdown",
      "metadata": {
        "id": "pUCE6oRC2uMp",
        "colab_type": "text"
      },
      "source": [
        "The process, we just naively implemented in **Numpy** corrosponds to an actual **Keras** layer: the **SimpleRNN** layer.  "
      ]
    },
    {
      "cell_type": "code",
      "metadata": {
        "id": "VzUp20293TG-",
        "colab_type": "code",
        "colab": {}
      },
      "source": [
        "import numpy as np"
      ],
      "execution_count": 0,
      "outputs": []
    },
    {
      "cell_type": "code",
      "metadata": {
        "id": "VsvAyj863afe",
        "colab_type": "code",
        "colab": {}
      },
      "source": [
        "timesteps = 100              # Number of timesteps in the input sequence\n",
        "input_features = 32          # Dimensionality of the input features space\n",
        "output_features = 64          # Dimensionality of the output features space"
      ],
      "execution_count": 0,
      "outputs": []
    },
    {
      "cell_type": "markdown",
      "metadata": {
        "id": "gUgYX87C38Fq",
        "colab_type": "text"
      },
      "source": [
        "Get input"
      ]
    },
    {
      "cell_type": "code",
      "metadata": {
        "id": "4hWqAt2R34fO",
        "colab_type": "code",
        "colab": {
          "base_uri": "https://localhost:8080/",
          "height": 233
        },
        "outputId": "3ed551f1-a8c1-47cf-cc25-21744d7ad0b8"
      },
      "source": [
        "inputs = np.random.random((timesteps, input_features))\n",
        "inputs"
      ],
      "execution_count": 4,
      "outputs": [
        {
          "output_type": "execute_result",
          "data": {
            "text/plain": [
              "array([[0.10850797, 0.59631578, 0.42225263, ..., 0.44182855, 0.23309342,\n",
              "        0.81915178],\n",
              "       [0.90275417, 0.16193396, 0.43976217, ..., 0.44817614, 0.72989648,\n",
              "        0.12622022],\n",
              "       [0.90640542, 0.27716227, 0.77275648, ..., 0.62738259, 0.0756512 ,\n",
              "        0.70929186],\n",
              "       ...,\n",
              "       [0.45566999, 0.59696439, 0.76792123, ..., 0.35960914, 0.79664007,\n",
              "        0.22563386],\n",
              "       [0.92985983, 0.13164032, 0.5688466 , ..., 0.33605206, 0.80006412,\n",
              "        0.61724405],\n",
              "       [0.57641963, 0.82745562, 0.50072044, ..., 0.10151659, 0.68088018,\n",
              "        0.49593261]])"
            ]
          },
          "metadata": {
            "tags": []
          },
          "execution_count": 4
        }
      ]
    },
    {
      "cell_type": "markdown",
      "metadata": {
        "id": "8bF04rcb4UGy",
        "colab_type": "text"
      },
      "source": [
        "Initial state is all-zeros vector"
      ]
    },
    {
      "cell_type": "code",
      "metadata": {
        "id": "vstjKtsQ4KUx",
        "colab_type": "code",
        "colab": {
          "base_uri": "https://localhost:8080/",
          "height": 83
        },
        "outputId": "5652e888-4370-4331-d9ad-42e34cae9640"
      },
      "source": [
        "state_t = np.zeros((output_features))\n",
        "state_t"
      ],
      "execution_count": 5,
      "outputs": [
        {
          "output_type": "execute_result",
          "data": {
            "text/plain": [
              "array([0., 0., 0., 0., 0., 0., 0., 0., 0., 0., 0., 0., 0., 0., 0., 0., 0.,\n",
              "       0., 0., 0., 0., 0., 0., 0., 0., 0., 0., 0., 0., 0., 0., 0., 0., 0.,\n",
              "       0., 0., 0., 0., 0., 0., 0., 0., 0., 0., 0., 0., 0., 0., 0., 0., 0.,\n",
              "       0., 0., 0., 0., 0., 0., 0., 0., 0., 0., 0., 0., 0.])"
            ]
          },
          "metadata": {
            "tags": []
          },
          "execution_count": 5
        }
      ]
    },
    {
      "cell_type": "markdown",
      "metadata": {
        "id": "40cvoj656AXD",
        "colab_type": "text"
      },
      "source": [
        "Initialize weights randomly"
      ]
    },
    {
      "cell_type": "code",
      "metadata": {
        "id": "6_GbJi4o4mwN",
        "colab_type": "code",
        "colab": {}
      },
      "source": [
        "W = np.random.random((output_features, input_features))\n",
        "U = np.random.random((output_features, output_features))\n",
        "b = np.random.random((output_features,))"
      ],
      "execution_count": 0,
      "outputs": []
    },
    {
      "cell_type": "markdown",
      "metadata": {
        "id": "NvomwqQ26aiK",
        "colab_type": "text"
      },
      "source": [
        "Let's implement RNN"
      ]
    },
    {
      "cell_type": "code",
      "metadata": {
        "id": "Gx4YzSMP6e_c",
        "colab_type": "code",
        "colab": {}
      },
      "source": [
        "successive_outputs = []\n",
        "for input_t in inputs:\n",
        "  output_t = np.tanh(np.dot(W, input_t) + np.dot(U, state_t) + b)     # Combines input with the current state to obtain the current output\n",
        "  successive_outputs.append(output_t)\n",
        "  state_t = output_t                                                  # Updates state of the network for the next timestep\n",
        "\n",
        "# the final output is 2D tensor os shape (timesteps, output_features)\n",
        "final_output_sequence = np.concatenate(successive_outputs, axis=0)  "
      ],
      "execution_count": 0,
      "outputs": []
    },
    {
      "cell_type": "markdown",
      "metadata": {
        "id": "C7FkBJlZ9mfz",
        "colab_type": "text"
      },
      "source": [
        "## Issues:\n",
        "\n",
        "* Too simplistic for real life use cases.\n",
        "* It is not possible to learn long term dependencies with SimpleRNN. This is due to **Vanishing Gradient** problem - as you add more layers to the network with many layers, it eventually become untrainable.\n",
        "\n",
        "**LSTM** solve this problem."
      ]
    }
  ]
}