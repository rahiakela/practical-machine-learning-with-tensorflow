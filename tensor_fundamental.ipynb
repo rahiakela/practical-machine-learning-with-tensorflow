{
  "nbformat": 4,
  "nbformat_minor": 0,
  "metadata": {
    "colab": {
      "name": "tensor-fundamental.ipynb",
      "provenance": [],
      "include_colab_link": true
    },
    "kernelspec": {
      "name": "python3",
      "display_name": "Python 3"
    }
  },
  "cells": [
    {
      "cell_type": "markdown",
      "metadata": {
        "id": "view-in-github",
        "colab_type": "text"
      },
      "source": [
        "<a href=\"https://colab.research.google.com/github/rahiakela/practical-machine-learning-with-tensorflow/blob/week-3/tensor_fundamental.ipynb\" target=\"_parent\"><img src=\"https://colab.research.google.com/assets/colab-badge.svg\" alt=\"Open In Colab\"/></a>"
      ]
    },
    {
      "cell_type": "markdown",
      "metadata": {
        "id": "3MH2ArimCIEv",
        "colab_type": "text"
      },
      "source": [
        "# Data Representation for Deep Learning\n",
        "\n",
        "The first neural network that we built for MNIST handwritten-digit recognition, we started from data stored in multidimensional arrays called **tensors**.  \n",
        "\n",
        "* Tensor is a container for data, where we store almost always numerical data. \n",
        "* Tensors are a generalization of matrices to an arbitrary number of dimensions. (a *dimension* is called an *axis* or *rank*.)\n",
        "\n",
        "A tensor is defined by three attributes:\n",
        "1. Number of axes or rank  (`ndim`)\n",
        "2. Shape (`shape`)\n",
        "3. Data type (`dtype`)\n",
        "\n",
        "We can obtain the number of tensor dimensions through `ndim` function on tensor, its shape can be obtained by `shape` function\n",
        "and the data type is obtained by `dtype` function.\n",
        "\n",
        "- Let's look at  different types of tensors. \n",
        "- For each tensor, we will print its **number of dimensions, shape** and **data type**."
      ]
    },
    {
      "cell_type": "code",
      "metadata": {
        "id": "WSa0EBHPCa1n",
        "colab_type": "code",
        "colab": {}
      },
      "source": [
        "import numpy as np"
      ],
      "execution_count": 0,
      "outputs": []
    },
    {
      "cell_type": "markdown",
      "metadata": {
        "id": "W67zFibOCc0x",
        "colab_type": "text"
      },
      "source": [
        "## Scalars (0D tensors)\n",
        "\n",
        "A tensor that contains only one number is called *scalar* or *scalar tensor* or *0-dimensional tensor*."
      ]
    },
    {
      "cell_type": "code",
      "metadata": {
        "id": "g0hclwG1Ck2X",
        "colab_type": "code",
        "outputId": "2b414a62-1d05-414d-96fa-2a8911d32373",
        "colab": {
          "base_uri": "https://localhost:8080/",
          "height": 0
        }
      },
      "source": [
        "x = np.array(10)\n",
        "x"
      ],
      "execution_count": 2,
      "outputs": [
        {
          "output_type": "execute_result",
          "data": {
            "text/plain": [
              "array(10)"
            ]
          },
          "metadata": {
            "tags": []
          },
          "execution_count": 2
        }
      ]
    },
    {
      "cell_type": "code",
      "metadata": {
        "id": "swsNSRlcCw0p",
        "colab_type": "code",
        "outputId": "acfc7400-e17c-4eb0-c3cb-5eff79579de0",
        "colab": {
          "base_uri": "https://localhost:8080/",
          "height": 0
        }
      },
      "source": [
        "x.ndim"
      ],
      "execution_count": 3,
      "outputs": [
        {
          "output_type": "execute_result",
          "data": {
            "text/plain": [
              "0"
            ]
          },
          "metadata": {
            "tags": []
          },
          "execution_count": 3
        }
      ]
    },
    {
      "cell_type": "code",
      "metadata": {
        "id": "6iXovfUYC0Yg",
        "colab_type": "code",
        "outputId": "bbcf9ee9-4764-42c9-8a19-a322a7cd08aa",
        "colab": {
          "base_uri": "https://localhost:8080/",
          "height": 0
        }
      },
      "source": [
        "x.shape"
      ],
      "execution_count": 4,
      "outputs": [
        {
          "output_type": "execute_result",
          "data": {
            "text/plain": [
              "()"
            ]
          },
          "metadata": {
            "tags": []
          },
          "execution_count": 4
        }
      ]
    },
    {
      "cell_type": "markdown",
      "metadata": {
        "id": "_wCxHCQwCrEI",
        "colab_type": "text"
      },
      "source": [
        "## Vectors (1D tensors)\n",
        "\n",
        "An array of numbers is called *vector* or *1D tensor*."
      ]
    },
    {
      "cell_type": "code",
      "metadata": {
        "id": "Hxvrp0sVDFXd",
        "colab_type": "code",
        "outputId": "fb1d4c34-9b4e-4d65-c859-42bb9a3aaa44",
        "colab": {
          "base_uri": "https://localhost:8080/",
          "height": 0
        }
      },
      "source": [
        "x = np.array([4, 2, 5, 9])\n",
        "x"
      ],
      "execution_count": 5,
      "outputs": [
        {
          "output_type": "execute_result",
          "data": {
            "text/plain": [
              "array([4, 2, 5, 9])"
            ]
          },
          "metadata": {
            "tags": []
          },
          "execution_count": 5
        }
      ]
    },
    {
      "cell_type": "code",
      "metadata": {
        "id": "rjo6-UAKDN5_",
        "colab_type": "code",
        "outputId": "2684243d-c981-4070-d9f6-9ff4d231fe1d",
        "colab": {
          "base_uri": "https://localhost:8080/",
          "height": 0
        }
      },
      "source": [
        "x.shape"
      ],
      "execution_count": 6,
      "outputs": [
        {
          "output_type": "execute_result",
          "data": {
            "text/plain": [
              "(4,)"
            ]
          },
          "metadata": {
            "tags": []
          },
          "execution_count": 6
        }
      ]
    },
    {
      "cell_type": "code",
      "metadata": {
        "id": "M400RCBLDOjn",
        "colab_type": "code",
        "outputId": "8127c3ca-2a02-48ef-e6ee-b0f1ae3cf591",
        "colab": {
          "base_uri": "https://localhost:8080/",
          "height": 0
        }
      },
      "source": [
        "x.ndim"
      ],
      "execution_count": 7,
      "outputs": [
        {
          "output_type": "execute_result",
          "data": {
            "text/plain": [
              "1"
            ]
          },
          "metadata": {
            "tags": []
          },
          "execution_count": 7
        }
      ]
    },
    {
      "cell_type": "code",
      "metadata": {
        "id": "ZX1x0LxRDRX0",
        "colab_type": "code",
        "outputId": "fa1ccf0d-7706-4a3d-9857-3fb181b30fa1",
        "colab": {
          "base_uri": "https://localhost:8080/",
          "height": 0
        }
      },
      "source": [
        "x.dtype"
      ],
      "execution_count": 8,
      "outputs": [
        {
          "output_type": "execute_result",
          "data": {
            "text/plain": [
              "dtype('int64')"
            ]
          },
          "metadata": {
            "tags": []
          },
          "execution_count": 8
        }
      ]
    },
    {
      "cell_type": "markdown",
      "metadata": {
        "id": "BROhvo0dDUph",
        "colab_type": "text"
      },
      "source": [
        "## Matrices (2D tensors)\n",
        "\n",
        "An array of vectors is a *matrix*, or *2D tensor*.\n",
        "\n",
        "A matrix has two axes: *rows* and *columns*."
      ]
    },
    {
      "cell_type": "code",
      "metadata": {
        "id": "cLVA3dSQDabJ",
        "colab_type": "code",
        "outputId": "4969ef13-e369-456b-b082-b9fceebe9df2",
        "colab": {
          "base_uri": "https://localhost:8080/",
          "height": 0
        }
      },
      "source": [
        "x = np.array([\n",
        "    [1, 2, 3],\n",
        "    [4, 5, 6],\n",
        "    [6, 7, 8]\n",
        "])\n",
        "x"
      ],
      "execution_count": 9,
      "outputs": [
        {
          "output_type": "execute_result",
          "data": {
            "text/plain": [
              "array([[1, 2, 3],\n",
              "       [4, 5, 6],\n",
              "       [6, 7, 8]])"
            ]
          },
          "metadata": {
            "tags": []
          },
          "execution_count": 9
        }
      ]
    },
    {
      "cell_type": "markdown",
      "metadata": {
        "id": "IILkXZi0Dt-i",
        "colab_type": "text"
      },
      "source": [
        "- The entries from the first axis are called the **rows**.  E.g.  $[1, 2, 3]$ is the first row of matrix x. \n",
        "- The entries from the second axis are called the **columns**.  E.g. $[1,4,7]$ is the first column of the matrix."
      ]
    },
    {
      "cell_type": "code",
      "metadata": {
        "id": "_clt6cxGDmuA",
        "colab_type": "code",
        "outputId": "c3cf0a5b-aeb3-4b9d-e8c2-835cedec71a5",
        "colab": {
          "base_uri": "https://localhost:8080/",
          "height": 0
        }
      },
      "source": [
        "x.shape"
      ],
      "execution_count": 10,
      "outputs": [
        {
          "output_type": "execute_result",
          "data": {
            "text/plain": [
              "(3, 3)"
            ]
          },
          "metadata": {
            "tags": []
          },
          "execution_count": 10
        }
      ]
    },
    {
      "cell_type": "code",
      "metadata": {
        "id": "VjceF1lHDxmL",
        "colab_type": "code",
        "outputId": "315e81ae-a7c2-4958-e879-b9d768caa760",
        "colab": {
          "base_uri": "https://localhost:8080/",
          "height": 0
        }
      },
      "source": [
        "x.ndim"
      ],
      "execution_count": 11,
      "outputs": [
        {
          "output_type": "execute_result",
          "data": {
            "text/plain": [
              "2"
            ]
          },
          "metadata": {
            "tags": []
          },
          "execution_count": 11
        }
      ]
    },
    {
      "cell_type": "code",
      "metadata": {
        "id": "W65NYsUBDxxu",
        "colab_type": "code",
        "outputId": "d7d7461e-cc1e-40c3-8735-50e9b24b0bbe",
        "colab": {
          "base_uri": "https://localhost:8080/",
          "height": 0
        }
      },
      "source": [
        "x.dtype"
      ],
      "execution_count": 12,
      "outputs": [
        {
          "output_type": "execute_result",
          "data": {
            "text/plain": [
              "dtype('int64')"
            ]
          },
          "metadata": {
            "tags": []
          },
          "execution_count": 12
        }
      ]
    },
    {
      "cell_type": "markdown",
      "metadata": {
        "id": "1oGgn8oKD54f",
        "colab_type": "text"
      },
      "source": [
        "## 3D Tensors\n",
        "\n",
        "We can pack matrices in an array to get 3D tensors.  Similarly we can pack 3D tensors in a new array, we get 4D tensors and so on."
      ]
    },
    {
      "cell_type": "code",
      "metadata": {
        "id": "EuFDJ-eeD6pX",
        "colab_type": "code",
        "outputId": "b3783731-1525-49ac-bbb4-e4808e0bcc2f",
        "colab": {
          "base_uri": "https://localhost:8080/",
          "height": 0
        }
      },
      "source": [
        "x = np.array([\n",
        "    [\n",
        "        [1, 2, 3],\n",
        "        [4, 5, 6],\n",
        "        [7, 8, 9]\n",
        "    ],\n",
        "    [\n",
        "        [1, 2, 3],\n",
        "        [4, 5, 6],\n",
        "        [7, 8, 9]\n",
        "    ],\n",
        "    [\n",
        "        [1, 2, 3],\n",
        "        [4, 5, 6],\n",
        "        [7, 8, 9]\n",
        "    ]\n",
        "])\n",
        "x"
      ],
      "execution_count": 13,
      "outputs": [
        {
          "output_type": "execute_result",
          "data": {
            "text/plain": [
              "array([[[1, 2, 3],\n",
              "        [4, 5, 6],\n",
              "        [7, 8, 9]],\n",
              "\n",
              "       [[1, 2, 3],\n",
              "        [4, 5, 6],\n",
              "        [7, 8, 9]],\n",
              "\n",
              "       [[1, 2, 3],\n",
              "        [4, 5, 6],\n",
              "        [7, 8, 9]]])"
            ]
          },
          "metadata": {
            "tags": []
          },
          "execution_count": 13
        }
      ]
    },
    {
      "cell_type": "code",
      "metadata": {
        "id": "lfR1nyqAD8Zv",
        "colab_type": "code",
        "outputId": "72fe1917-1eea-450d-a304-7680a9464771",
        "colab": {
          "base_uri": "https://localhost:8080/",
          "height": 0
        }
      },
      "source": [
        "x.shape"
      ],
      "execution_count": 14,
      "outputs": [
        {
          "output_type": "execute_result",
          "data": {
            "text/plain": [
              "(3, 3, 3)"
            ]
          },
          "metadata": {
            "tags": []
          },
          "execution_count": 14
        }
      ]
    },
    {
      "cell_type": "code",
      "metadata": {
        "id": "u5lHeBHTD8h8",
        "colab_type": "code",
        "outputId": "35a6366a-ee7c-4e94-ec64-a16cadbdd134",
        "colab": {
          "base_uri": "https://localhost:8080/",
          "height": 0
        }
      },
      "source": [
        "x.ndim"
      ],
      "execution_count": 15,
      "outputs": [
        {
          "output_type": "execute_result",
          "data": {
            "text/plain": [
              "3"
            ]
          },
          "metadata": {
            "tags": []
          },
          "execution_count": 15
        }
      ]
    },
    {
      "cell_type": "code",
      "metadata": {
        "id": "ivYMBkbRD8u3",
        "colab_type": "code",
        "outputId": "0e1d9ed9-4cbb-4886-e7ed-09f52d07a9bf",
        "colab": {
          "base_uri": "https://localhost:8080/",
          "height": 0
        }
      },
      "source": [
        "x.dtype"
      ],
      "execution_count": 16,
      "outputs": [
        {
          "output_type": "execute_result",
          "data": {
            "text/plain": [
              "dtype('int64')"
            ]
          },
          "metadata": {
            "tags": []
          },
          "execution_count": 16
        }
      ]
    },
    {
      "cell_type": "markdown",
      "metadata": {
        "id": "AhlVMSF0EdbW",
        "colab_type": "text"
      },
      "source": [
        "## Tensor in MNIST datasets\n",
        "\n",
        "Let's check out tensors from the first TF model that we built."
      ]
    },
    {
      "cell_type": "code",
      "metadata": {
        "id": "tYP1KRQvCKEu",
        "colab_type": "code",
        "outputId": "5bded595-90a2-47db-fa28-6c71843b28d5",
        "colab": {
          "base_uri": "https://localhost:8080/",
          "height": 0
        }
      },
      "source": [
        "from __future__ import absolute_import, division, print_function, unicode_literals\n",
        "\n",
        "!pip install tensorflow==2.0.0-beta1"
      ],
      "execution_count": 17,
      "outputs": [
        {
          "output_type": "stream",
          "text": [
            "Collecting tensorflow==2.0.0-beta1\n",
            "\u001b[?25l  Downloading https://files.pythonhosted.org/packages/29/6c/2c9a5c4d095c63c2fb37d20def0e4f92685f7aee9243d6aae25862694fd1/tensorflow-2.0.0b1-cp36-cp36m-manylinux1_x86_64.whl (87.9MB)\n",
            "\u001b[K     |████████████████████████████████| 87.9MB 38kB/s \n",
            "\u001b[?25hRequirement already satisfied: numpy<2.0,>=1.14.5 in /usr/local/lib/python3.6/dist-packages (from tensorflow==2.0.0-beta1) (1.17.3)\n",
            "Requirement already satisfied: keras-applications>=1.0.6 in /usr/local/lib/python3.6/dist-packages (from tensorflow==2.0.0-beta1) (1.0.8)\n",
            "Requirement already satisfied: protobuf>=3.6.1 in /usr/local/lib/python3.6/dist-packages (from tensorflow==2.0.0-beta1) (3.10.0)\n",
            "Requirement already satisfied: gast>=0.2.0 in /usr/local/lib/python3.6/dist-packages (from tensorflow==2.0.0-beta1) (0.2.2)\n",
            "Requirement already satisfied: grpcio>=1.8.6 in /usr/local/lib/python3.6/dist-packages (from tensorflow==2.0.0-beta1) (1.15.0)\n",
            "Requirement already satisfied: google-pasta>=0.1.6 in /usr/local/lib/python3.6/dist-packages (from tensorflow==2.0.0-beta1) (0.1.7)\n",
            "Collecting tf-estimator-nightly<1.14.0.dev2019060502,>=1.14.0.dev2019060501\n",
            "\u001b[?25l  Downloading https://files.pythonhosted.org/packages/32/dd/99c47dd007dcf10d63fd895611b063732646f23059c618a373e85019eb0e/tf_estimator_nightly-1.14.0.dev2019060501-py2.py3-none-any.whl (496kB)\n",
            "\u001b[K     |████████████████████████████████| 501kB 44.7MB/s \n",
            "\u001b[?25hRequirement already satisfied: wrapt>=1.11.1 in /usr/local/lib/python3.6/dist-packages (from tensorflow==2.0.0-beta1) (1.11.2)\n",
            "Requirement already satisfied: absl-py>=0.7.0 in /usr/local/lib/python3.6/dist-packages (from tensorflow==2.0.0-beta1) (0.8.1)\n",
            "Requirement already satisfied: wheel>=0.26 in /usr/local/lib/python3.6/dist-packages (from tensorflow==2.0.0-beta1) (0.33.6)\n",
            "Requirement already satisfied: six>=1.10.0 in /usr/local/lib/python3.6/dist-packages (from tensorflow==2.0.0-beta1) (1.12.0)\n",
            "Requirement already satisfied: termcolor>=1.1.0 in /usr/local/lib/python3.6/dist-packages (from tensorflow==2.0.0-beta1) (1.1.0)\n",
            "Requirement already satisfied: keras-preprocessing>=1.0.5 in /usr/local/lib/python3.6/dist-packages (from tensorflow==2.0.0-beta1) (1.1.0)\n",
            "Collecting tb-nightly<1.14.0a20190604,>=1.14.0a20190603\n",
            "\u001b[?25l  Downloading https://files.pythonhosted.org/packages/a4/96/571b875cd81dda9d5dfa1422a4f9d749e67c0a8d4f4f0b33a4e5f5f35e27/tb_nightly-1.14.0a20190603-py3-none-any.whl (3.1MB)\n",
            "\u001b[K     |████████████████████████████████| 3.1MB 35.3MB/s \n",
            "\u001b[?25hRequirement already satisfied: astor>=0.6.0 in /usr/local/lib/python3.6/dist-packages (from tensorflow==2.0.0-beta1) (0.8.0)\n",
            "Requirement already satisfied: h5py in /usr/local/lib/python3.6/dist-packages (from keras-applications>=1.0.6->tensorflow==2.0.0-beta1) (2.8.0)\n",
            "Requirement already satisfied: setuptools in /usr/local/lib/python3.6/dist-packages (from protobuf>=3.6.1->tensorflow==2.0.0-beta1) (41.4.0)\n",
            "Requirement already satisfied: markdown>=2.6.8 in /usr/local/lib/python3.6/dist-packages (from tb-nightly<1.14.0a20190604,>=1.14.0a20190603->tensorflow==2.0.0-beta1) (3.1.1)\n",
            "Requirement already satisfied: werkzeug>=0.11.15 in /usr/local/lib/python3.6/dist-packages (from tb-nightly<1.14.0a20190604,>=1.14.0a20190603->tensorflow==2.0.0-beta1) (0.16.0)\n",
            "Installing collected packages: tf-estimator-nightly, tb-nightly, tensorflow\n",
            "  Found existing installation: tensorflow 1.15.0\n",
            "    Uninstalling tensorflow-1.15.0:\n",
            "      Successfully uninstalled tensorflow-1.15.0\n",
            "Successfully installed tb-nightly-1.14.0a20190603 tensorflow-2.0.0b1 tf-estimator-nightly-1.14.0.dev2019060501\n"
          ],
          "name": "stdout"
        }
      ]
    },
    {
      "cell_type": "markdown",
      "metadata": {
        "id": "eaqNO4sfCFN3",
        "colab_type": "text"
      },
      "source": [
        "Let's check its version."
      ]
    },
    {
      "cell_type": "code",
      "metadata": {
        "id": "wilV6BXNw8F3",
        "colab_type": "code",
        "outputId": "b3224ce5-5b1a-4bec-8bc2-a0efa9e335c9",
        "colab": {
          "base_uri": "https://localhost:8080/",
          "height": 0
        }
      },
      "source": [
        "import tensorflow as tf\n",
        "from tensorflow.keras import layers\n",
        "\n",
        "print(tf.version.VERSION)\n",
        "print(tf.keras.__version__)"
      ],
      "execution_count": 18,
      "outputs": [
        {
          "output_type": "stream",
          "text": [
            "/usr/local/lib/python3.6/dist-packages/tensorflow/python/framework/dtypes.py:516: FutureWarning: Passing (type, 1) or '1type' as a synonym of type is deprecated; in a future version of numpy, it will be understood as (type, (1,)) / '(1,)type'.\n",
            "  _np_qint8 = np.dtype([(\"qint8\", np.int8, 1)])\n",
            "/usr/local/lib/python3.6/dist-packages/tensorflow/python/framework/dtypes.py:517: FutureWarning: Passing (type, 1) or '1type' as a synonym of type is deprecated; in a future version of numpy, it will be understood as (type, (1,)) / '(1,)type'.\n",
            "  _np_quint8 = np.dtype([(\"quint8\", np.uint8, 1)])\n",
            "/usr/local/lib/python3.6/dist-packages/tensorflow/python/framework/dtypes.py:518: FutureWarning: Passing (type, 1) or '1type' as a synonym of type is deprecated; in a future version of numpy, it will be understood as (type, (1,)) / '(1,)type'.\n",
            "  _np_qint16 = np.dtype([(\"qint16\", np.int16, 1)])\n",
            "/usr/local/lib/python3.6/dist-packages/tensorflow/python/framework/dtypes.py:519: FutureWarning: Passing (type, 1) or '1type' as a synonym of type is deprecated; in a future version of numpy, it will be understood as (type, (1,)) / '(1,)type'.\n",
            "  _np_quint16 = np.dtype([(\"quint16\", np.uint16, 1)])\n",
            "/usr/local/lib/python3.6/dist-packages/tensorflow/python/framework/dtypes.py:520: FutureWarning: Passing (type, 1) or '1type' as a synonym of type is deprecated; in a future version of numpy, it will be understood as (type, (1,)) / '(1,)type'.\n",
            "  _np_qint32 = np.dtype([(\"qint32\", np.int32, 1)])\n",
            "/usr/local/lib/python3.6/dist-packages/tensorflow/python/framework/dtypes.py:525: FutureWarning: Passing (type, 1) or '1type' as a synonym of type is deprecated; in a future version of numpy, it will be understood as (type, (1,)) / '(1,)type'.\n",
            "  np_resource = np.dtype([(\"resource\", np.ubyte, 1)])\n"
          ],
          "name": "stderr"
        },
        {
          "output_type": "stream",
          "text": [
            "2.0.0-beta1\n",
            "2.2.4-tf\n"
          ],
          "name": "stdout"
        },
        {
          "output_type": "stream",
          "text": [
            "/usr/local/lib/python3.6/dist-packages/tensorboard/compat/tensorflow_stub/dtypes.py:541: FutureWarning: Passing (type, 1) or '1type' as a synonym of type is deprecated; in a future version of numpy, it will be understood as (type, (1,)) / '(1,)type'.\n",
            "  _np_qint8 = np.dtype([(\"qint8\", np.int8, 1)])\n",
            "/usr/local/lib/python3.6/dist-packages/tensorboard/compat/tensorflow_stub/dtypes.py:542: FutureWarning: Passing (type, 1) or '1type' as a synonym of type is deprecated; in a future version of numpy, it will be understood as (type, (1,)) / '(1,)type'.\n",
            "  _np_quint8 = np.dtype([(\"quint8\", np.uint8, 1)])\n",
            "/usr/local/lib/python3.6/dist-packages/tensorboard/compat/tensorflow_stub/dtypes.py:543: FutureWarning: Passing (type, 1) or '1type' as a synonym of type is deprecated; in a future version of numpy, it will be understood as (type, (1,)) / '(1,)type'.\n",
            "  _np_qint16 = np.dtype([(\"qint16\", np.int16, 1)])\n",
            "/usr/local/lib/python3.6/dist-packages/tensorboard/compat/tensorflow_stub/dtypes.py:544: FutureWarning: Passing (type, 1) or '1type' as a synonym of type is deprecated; in a future version of numpy, it will be understood as (type, (1,)) / '(1,)type'.\n",
            "  _np_quint16 = np.dtype([(\"quint16\", np.uint16, 1)])\n",
            "/usr/local/lib/python3.6/dist-packages/tensorboard/compat/tensorflow_stub/dtypes.py:545: FutureWarning: Passing (type, 1) or '1type' as a synonym of type is deprecated; in a future version of numpy, it will be understood as (type, (1,)) / '(1,)type'.\n",
            "  _np_qint32 = np.dtype([(\"qint32\", np.int32, 1)])\n",
            "/usr/local/lib/python3.6/dist-packages/tensorboard/compat/tensorflow_stub/dtypes.py:550: FutureWarning: Passing (type, 1) or '1type' as a synonym of type is deprecated; in a future version of numpy, it will be understood as (type, (1,)) / '(1,)type'.\n",
            "  np_resource = np.dtype([(\"resource\", np.ubyte, 1)])\n"
          ],
          "name": "stderr"
        }
      ]
    },
    {
      "cell_type": "markdown",
      "metadata": {
        "id": "_-xRz7jJGeCe",
        "colab_type": "text"
      },
      "source": [
        "Let's load the MNIST dataset and look at x_train and y_train tensors"
      ]
    },
    {
      "cell_type": "code",
      "metadata": {
        "id": "Fxjy3felymom",
        "colab_type": "code",
        "outputId": "9cd92611-ee5d-415f-cc9f-690dd957659d",
        "colab": {
          "base_uri": "https://localhost:8080/",
          "height": 0
        }
      },
      "source": [
        "mnist = tf.keras.datasets.mnist\n",
        "(x_train, y_train),(x_test, y_test) = mnist.load_data()\n",
        "\n",
        "print('Attributes of training data Tensor')\n",
        "print('##################################')\n",
        "print('Number of axes in Tensor = %d'%x_train.ndim)\n",
        "print('Shape of Tensor:', x_train.shape)\n",
        "print('Datatype of Tensor elements: %s'%x_train.dtype)"
      ],
      "execution_count": 19,
      "outputs": [
        {
          "output_type": "stream",
          "text": [
            "Downloading data from https://storage.googleapis.com/tensorflow/tf-keras-datasets/mnist.npz\n",
            "11493376/11490434 [==============================] - 0s 0us/step\n",
            "Attributes of training data Tensor\n",
            "##################################\n",
            "Number of axes in Tensor = 3\n",
            "Shape of Tensor: (60000, 28, 28)\n",
            "Datatype of Tensor elements: uint8\n"
          ],
          "name": "stdout"
        }
      ]
    },
    {
      "cell_type": "markdown",
      "metadata": {
        "id": "FzU4gboMzsLT",
        "colab_type": "text"
      },
      "source": [
        "Training data tensor is an array of 60,000 matrices of 28x28 8-bit integers.  Each matrix is a grey-scale image with each pixel value between 0 to 255."
      ]
    },
    {
      "cell_type": "code",
      "metadata": {
        "id": "RP1ujMv-zbwp",
        "colab_type": "code",
        "outputId": "6764457d-6fd0-4e6c-ff01-74c18c51a7ce",
        "colab": {
          "base_uri": "https://localhost:8080/",
          "height": 0
        }
      },
      "source": [
        "print('Attributes of training label Tensor')\n",
        "print('##################################')\n",
        "print('Number of axes in Tensor = %d'%y_train.ndim)\n",
        "print('Shape of Tensor:', y_train.shape)\n",
        "print('Datatype of Tensor elements: %s'%y_train.dtype)"
      ],
      "execution_count": 20,
      "outputs": [
        {
          "output_type": "stream",
          "text": [
            "Attributes of training label Tensor\n",
            "##################################\n",
            "Number of axes in Tensor = 1\n",
            "Shape of Tensor: (60000,)\n",
            "Datatype of Tensor elements: uint8\n"
          ],
          "name": "stdout"
        }
      ]
    },
    {
      "cell_type": "markdown",
      "metadata": {
        "id": "kPnDut5gGuRa",
        "colab_type": "text"
      },
      "source": [
        "Training label tensor is a vector or 1D array of labels containing 60,000 entries.  Each element is a 8-bit integer."
      ]
    },
    {
      "cell_type": "code",
      "metadata": {
        "id": "QQ31YeESz7IK",
        "colab_type": "code",
        "outputId": "29dbe19a-45db-4a2a-8d11-c4dbfc79c766",
        "colab": {
          "base_uri": "https://localhost:8080/",
          "height": 0
        }
      },
      "source": [
        "print('Attributes of test data Tensor')\n",
        "print('##################################')\n",
        "print('Number of axes in Tensor = %d'%x_test.ndim)\n",
        "print('Shape of Tensor:', x_test.shape)\n",
        "print('Datatype of Tensor elements: %s'%x_test.dtype)"
      ],
      "execution_count": 21,
      "outputs": [
        {
          "output_type": "stream",
          "text": [
            "Attributes of test data Tensor\n",
            "##################################\n",
            "Number of axes in Tensor = 3\n",
            "Shape of Tensor: (10000, 28, 28)\n",
            "Datatype of Tensor elements: uint8\n"
          ],
          "name": "stdout"
        }
      ]
    },
    {
      "cell_type": "markdown",
      "metadata": {
        "id": "ATkemng2G7xc",
        "colab_type": "text"
      },
      "source": [
        "### Question\n",
        "Find out number of dimensions, shape and data type of x_test and y_test tensors?"
      ]
    },
    {
      "cell_type": "code",
      "metadata": {
        "id": "9fAK_Swb0Mpa",
        "colab_type": "code",
        "outputId": "c72d8a2a-79e2-4ec0-ee47-fdbb53ec2481",
        "colab": {
          "base_uri": "https://localhost:8080/",
          "height": 0
        }
      },
      "source": [
        "print('Attributes of test label Tensor')\n",
        "print('##################################')\n",
        "print('Number of axes in Tensor = %d'%y_test.ndim)\n",
        "print('Shape of Tensor:', y_test.shape)\n",
        "print('Datatype of Tensor elements: %s'%y_test.dtype)"
      ],
      "execution_count": 22,
      "outputs": [
        {
          "output_type": "stream",
          "text": [
            "Attributes of test label Tensor\n",
            "##################################\n",
            "Number of axes in Tensor = 1\n",
            "Shape of Tensor: (10000,)\n",
            "Datatype of Tensor elements: uint8\n"
          ],
          "name": "stdout"
        }
      ]
    },
    {
      "cell_type": "markdown",
      "metadata": {
        "id": "uDuvIUTq0kfj",
        "colab_type": "text"
      },
      "source": [
        "## Data Selection(Tensor Slicing)\n",
        "\n",
        "Selecting a specific elements in a tensor is called tensor slicing.\n",
        "\n",
        "### Selecting a single data point\n",
        "\n",
        "Let's look at the first training example:"
      ]
    },
    {
      "cell_type": "code",
      "metadata": {
        "id": "qjqTV6DI0Z9b",
        "colab_type": "code",
        "outputId": "608d5913-662d-4dcc-fc81-d6bd776eed37",
        "colab": {
          "base_uri": "https://localhost:8080/",
          "height": 1000
        }
      },
      "source": [
        "x_1 = x_train[0]\n",
        "x_1"
      ],
      "execution_count": 23,
      "outputs": [
        {
          "output_type": "execute_result",
          "data": {
            "text/plain": [
              "array([[  0,   0,   0,   0,   0,   0,   0,   0,   0,   0,   0,   0,   0,\n",
              "          0,   0,   0,   0,   0,   0,   0,   0,   0,   0,   0,   0,   0,\n",
              "          0,   0],\n",
              "       [  0,   0,   0,   0,   0,   0,   0,   0,   0,   0,   0,   0,   0,\n",
              "          0,   0,   0,   0,   0,   0,   0,   0,   0,   0,   0,   0,   0,\n",
              "          0,   0],\n",
              "       [  0,   0,   0,   0,   0,   0,   0,   0,   0,   0,   0,   0,   0,\n",
              "          0,   0,   0,   0,   0,   0,   0,   0,   0,   0,   0,   0,   0,\n",
              "          0,   0],\n",
              "       [  0,   0,   0,   0,   0,   0,   0,   0,   0,   0,   0,   0,   0,\n",
              "          0,   0,   0,   0,   0,   0,   0,   0,   0,   0,   0,   0,   0,\n",
              "          0,   0],\n",
              "       [  0,   0,   0,   0,   0,   0,   0,   0,   0,   0,   0,   0,   0,\n",
              "          0,   0,   0,   0,   0,   0,   0,   0,   0,   0,   0,   0,   0,\n",
              "          0,   0],\n",
              "       [  0,   0,   0,   0,   0,   0,   0,   0,   0,   0,   0,   0,   3,\n",
              "         18,  18,  18, 126, 136, 175,  26, 166, 255, 247, 127,   0,   0,\n",
              "          0,   0],\n",
              "       [  0,   0,   0,   0,   0,   0,   0,   0,  30,  36,  94, 154, 170,\n",
              "        253, 253, 253, 253, 253, 225, 172, 253, 242, 195,  64,   0,   0,\n",
              "          0,   0],\n",
              "       [  0,   0,   0,   0,   0,   0,   0,  49, 238, 253, 253, 253, 253,\n",
              "        253, 253, 253, 253, 251,  93,  82,  82,  56,  39,   0,   0,   0,\n",
              "          0,   0],\n",
              "       [  0,   0,   0,   0,   0,   0,   0,  18, 219, 253, 253, 253, 253,\n",
              "        253, 198, 182, 247, 241,   0,   0,   0,   0,   0,   0,   0,   0,\n",
              "          0,   0],\n",
              "       [  0,   0,   0,   0,   0,   0,   0,   0,  80, 156, 107, 253, 253,\n",
              "        205,  11,   0,  43, 154,   0,   0,   0,   0,   0,   0,   0,   0,\n",
              "          0,   0],\n",
              "       [  0,   0,   0,   0,   0,   0,   0,   0,   0,  14,   1, 154, 253,\n",
              "         90,   0,   0,   0,   0,   0,   0,   0,   0,   0,   0,   0,   0,\n",
              "          0,   0],\n",
              "       [  0,   0,   0,   0,   0,   0,   0,   0,   0,   0,   0, 139, 253,\n",
              "        190,   2,   0,   0,   0,   0,   0,   0,   0,   0,   0,   0,   0,\n",
              "          0,   0],\n",
              "       [  0,   0,   0,   0,   0,   0,   0,   0,   0,   0,   0,  11, 190,\n",
              "        253,  70,   0,   0,   0,   0,   0,   0,   0,   0,   0,   0,   0,\n",
              "          0,   0],\n",
              "       [  0,   0,   0,   0,   0,   0,   0,   0,   0,   0,   0,   0,  35,\n",
              "        241, 225, 160, 108,   1,   0,   0,   0,   0,   0,   0,   0,   0,\n",
              "          0,   0],\n",
              "       [  0,   0,   0,   0,   0,   0,   0,   0,   0,   0,   0,   0,   0,\n",
              "         81, 240, 253, 253, 119,  25,   0,   0,   0,   0,   0,   0,   0,\n",
              "          0,   0],\n",
              "       [  0,   0,   0,   0,   0,   0,   0,   0,   0,   0,   0,   0,   0,\n",
              "          0,  45, 186, 253, 253, 150,  27,   0,   0,   0,   0,   0,   0,\n",
              "          0,   0],\n",
              "       [  0,   0,   0,   0,   0,   0,   0,   0,   0,   0,   0,   0,   0,\n",
              "          0,   0,  16,  93, 252, 253, 187,   0,   0,   0,   0,   0,   0,\n",
              "          0,   0],\n",
              "       [  0,   0,   0,   0,   0,   0,   0,   0,   0,   0,   0,   0,   0,\n",
              "          0,   0,   0,   0, 249, 253, 249,  64,   0,   0,   0,   0,   0,\n",
              "          0,   0],\n",
              "       [  0,   0,   0,   0,   0,   0,   0,   0,   0,   0,   0,   0,   0,\n",
              "          0,  46, 130, 183, 253, 253, 207,   2,   0,   0,   0,   0,   0,\n",
              "          0,   0],\n",
              "       [  0,   0,   0,   0,   0,   0,   0,   0,   0,   0,   0,   0,  39,\n",
              "        148, 229, 253, 253, 253, 250, 182,   0,   0,   0,   0,   0,   0,\n",
              "          0,   0],\n",
              "       [  0,   0,   0,   0,   0,   0,   0,   0,   0,   0,  24, 114, 221,\n",
              "        253, 253, 253, 253, 201,  78,   0,   0,   0,   0,   0,   0,   0,\n",
              "          0,   0],\n",
              "       [  0,   0,   0,   0,   0,   0,   0,   0,  23,  66, 213, 253, 253,\n",
              "        253, 253, 198,  81,   2,   0,   0,   0,   0,   0,   0,   0,   0,\n",
              "          0,   0],\n",
              "       [  0,   0,   0,   0,   0,   0,  18, 171, 219, 253, 253, 253, 253,\n",
              "        195,  80,   9,   0,   0,   0,   0,   0,   0,   0,   0,   0,   0,\n",
              "          0,   0],\n",
              "       [  0,   0,   0,   0,  55, 172, 226, 253, 253, 253, 253, 244, 133,\n",
              "         11,   0,   0,   0,   0,   0,   0,   0,   0,   0,   0,   0,   0,\n",
              "          0,   0],\n",
              "       [  0,   0,   0,   0, 136, 253, 253, 253, 212, 135, 132,  16,   0,\n",
              "          0,   0,   0,   0,   0,   0,   0,   0,   0,   0,   0,   0,   0,\n",
              "          0,   0],\n",
              "       [  0,   0,   0,   0,   0,   0,   0,   0,   0,   0,   0,   0,   0,\n",
              "          0,   0,   0,   0,   0,   0,   0,   0,   0,   0,   0,   0,   0,\n",
              "          0,   0],\n",
              "       [  0,   0,   0,   0,   0,   0,   0,   0,   0,   0,   0,   0,   0,\n",
              "          0,   0,   0,   0,   0,   0,   0,   0,   0,   0,   0,   0,   0,\n",
              "          0,   0],\n",
              "       [  0,   0,   0,   0,   0,   0,   0,   0,   0,   0,   0,   0,   0,\n",
              "          0,   0,   0,   0,   0,   0,   0,   0,   0,   0,   0,   0,   0,\n",
              "          0,   0]], dtype=uint8)"
            ]
          },
          "metadata": {
            "tags": []
          },
          "execution_count": 23
        }
      ]
    },
    {
      "cell_type": "markdown",
      "metadata": {
        "id": "yoMp9k5R1g53",
        "colab_type": "text"
      },
      "source": [
        "As you can see that there are 28 rows of 28 dimentional vectors and each position holds a number between 0 to 255.\n",
        "Let's visulize the digit."
      ]
    },
    {
      "cell_type": "code",
      "metadata": {
        "id": "3PNwcSL21D4K",
        "colab_type": "code",
        "outputId": "4e9dfbf5-5f99-490d-b9b0-8eae84831631",
        "colab": {
          "base_uri": "https://localhost:8080/",
          "height": 265
        }
      },
      "source": [
        "# let's display the first image from the training set with matplotlib\n",
        "import matplotlib.pyplot as plt\n",
        "\n",
        "def disp_image(img):\n",
        "  plt.imshow(img, cmap=plt.cm.binary)\n",
        "  plt.show()\n",
        "  \n",
        "disp_image(x_1) "
      ],
      "execution_count": 24,
      "outputs": [
        {
          "output_type": "display_data",
          "data": {
            "image/png": "[encoded data removed]",
            "text/plain": [
              "<Figure size 432x288 with 1 Axes>"
            ]
          },
          "metadata": {
            "tags": []
          }
        }
      ]
    },
    {
      "cell_type": "markdown",
      "metadata": {
        "id": "BYTiXgK5HS27",
        "colab_type": "text"
      },
      "source": [
        "### Question\n",
        "Write the code to look at the 11-th data point in the training set and display the number with the help of `imshow`. "
      ]
    },
    {
      "cell_type": "code",
      "metadata": {
        "id": "2ZE2_r742dsC",
        "colab_type": "code",
        "outputId": "bf379f9f-cd7a-4285-8a41-21d7b207bbf8",
        "colab": {
          "base_uri": "https://localhost:8080/",
          "height": 1000
        }
      },
      "source": [
        "# let's see 11th data point.\n",
        "x_11 = x_train[10]\n",
        "x_11"
      ],
      "execution_count": 25,
      "outputs": [
        {
          "output_type": "execute_result",
          "data": {
            "text/plain": [
              "array([[  0,   0,   0,   0,   0,   0,   0,   0,   0,   0,   0,   0,   0,\n",
              "          0,   0,   0,   0,   0,   0,   0,   0,   0,   0,   0,   0,   0,\n",
              "          0,   0],\n",
              "       [  0,   0,   0,   0,   0,   0,   0,   0,   0,   0,   0,   0,   0,\n",
              "          0,   0,   0,   0,   0,   0,   0,   0,   0,   0,   0,   0,   0,\n",
              "          0,   0],\n",
              "       [  0,   0,   0,   0,   0,   0,   0,   0,   0,   0,   0,   0,   0,\n",
              "          0,   0,   0,   0,   0,   0,   0,   0,   0,   0,   0,   0,   0,\n",
              "          0,   0],\n",
              "       [  0,   0,   0,   0,   0,   0,   0,   0,   0,   0,   0,   0,   0,\n",
              "          0,   0,   0,   0,   0,   0,   0,   0,   0,   0,   0,   0,   0,\n",
              "          0,   0],\n",
              "       [  0,   0,   0,   0,   0,   0,   0,   0,   0,   0,   0,  42, 118,\n",
              "        219, 166, 118, 118,   6,   0,   0,   0,   0,   0,   0,   0,   0,\n",
              "          0,   0],\n",
              "       [  0,   0,   0,   0,   0,   0,   0,   0,   0,   0, 103, 242, 254,\n",
              "        254, 254, 254, 254,  66,   0,   0,   0,   0,   0,   0,   0,   0,\n",
              "          0,   0],\n",
              "       [  0,   0,   0,   0,   0,   0,   0,   0,   0,   0,  18, 232, 254,\n",
              "        254, 254, 254, 254, 238,  70,   0,   0,   0,   0,   0,   0,   0,\n",
              "          0,   0],\n",
              "       [  0,   0,   0,   0,   0,   0,   0,   0,   0,   0,   0, 104, 244,\n",
              "        254, 224, 254, 254, 254, 141,   0,   0,   0,   0,   0,   0,   0,\n",
              "          0,   0],\n",
              "       [  0,   0,   0,   0,   0,   0,   0,   0,   0,   0,   0,   0, 207,\n",
              "        254, 210, 254, 254, 254,  34,   0,   0,   0,   0,   0,   0,   0,\n",
              "          0,   0],\n",
              "       [  0,   0,   0,   0,   0,   0,   0,   0,   0,   0,   0,   0,  84,\n",
              "        206, 254, 254, 254, 254,  41,   0,   0,   0,   0,   0,   0,   0,\n",
              "          0,   0],\n",
              "       [  0,   0,   0,   0,   0,   0,   0,   0,   0,   0,   0,   0,   0,\n",
              "         24, 209, 254, 254, 254, 171,   0,   0,   0,   0,   0,   0,   0,\n",
              "          0,   0],\n",
              "       [  0,   0,   0,   0,   0,   0,   0,   0,   0,   0,   0,   0,  91,\n",
              "        137, 253, 254, 254, 254, 112,   0,   0,   0,   0,   0,   0,   0,\n",
              "          0,   0],\n",
              "       [  0,   0,   0,   0,   0,   0,   0,   0,   0,   0,  40, 214, 250,\n",
              "        254, 254, 254, 254, 254,  34,   0,   0,   0,   0,   0,   0,   0,\n",
              "          0,   0],\n",
              "       [  0,   0,   0,   0,   0,   0,   0,   0,   0,   0,  81, 247, 254,\n",
              "        254, 254, 254, 254, 254, 146,   0,   0,   0,   0,   0,   0,   0,\n",
              "          0,   0],\n",
              "       [  0,   0,   0,   0,   0,   0,   0,   0,   0,   0,   0, 110, 246,\n",
              "        254, 254, 254, 254, 254, 171,   0,   0,   0,   0,   0,   0,   0,\n",
              "          0,   0],\n",
              "       [  0,   0,   0,   0,   0,   0,   0,   0,   0,   0,   0,   0,  73,\n",
              "         89,  89,  93, 240, 254, 171,   0,   0,   0,   0,   0,   0,   0,\n",
              "          0,   0],\n",
              "       [  0,   0,   0,   0,   0,   0,   0,   0,   0,   0,   0,   0,   0,\n",
              "          0,   0,   1, 128, 254, 219,  31,   0,   0,   0,   0,   0,   0,\n",
              "          0,   0],\n",
              "       [  0,   0,   0,   0,   0,   0,   0,   0,   0,   0,   0,   0,   0,\n",
              "          0,   0,   7, 254, 254, 214,  28,   0,   0,   0,   0,   0,   0,\n",
              "          0,   0],\n",
              "       [  0,   0,   0,   0,   0,   0,   0,   0,   0,   0,   0,   0,   0,\n",
              "          0,   0, 138, 254, 254, 116,   0,   0,   0,   0,   0,   0,   0,\n",
              "          0,   0],\n",
              "       [  0,   0,   0,   0,   0,   0,  19, 177,  90,   0,   0,   0,   0,\n",
              "          0,  25, 240, 254, 254,  34,   0,   0,   0,   0,   0,   0,   0,\n",
              "          0,   0],\n",
              "       [  0,   0,   0,   0,   0,   0, 164, 254, 215,  63,  36,   0,  51,\n",
              "         89, 206, 254, 254, 139,   8,   0,   0,   0,   0,   0,   0,   0,\n",
              "          0,   0],\n",
              "       [  0,   0,   0,   0,   0,   0,  57, 197, 254, 254, 222, 180, 241,\n",
              "        254, 254, 253, 213,  11,   0,   0,   0,   0,   0,   0,   0,   0,\n",
              "          0,   0],\n",
              "       [  0,   0,   0,   0,   0,   0,   0, 140, 105, 254, 254, 254, 254,\n",
              "        254, 254, 236,   0,   0,   0,   0,   0,   0,   0,   0,   0,   0,\n",
              "          0,   0],\n",
              "       [  0,   0,   0,   0,   0,   0,   0,   0,   7, 117, 117, 165, 254,\n",
              "        254, 239,  50,   0,   0,   0,   0,   0,   0,   0,   0,   0,   0,\n",
              "          0,   0],\n",
              "       [  0,   0,   0,   0,   0,   0,   0,   0,   0,   0,   0,   0,   0,\n",
              "          0,   0,   0,   0,   0,   0,   0,   0,   0,   0,   0,   0,   0,\n",
              "          0,   0],\n",
              "       [  0,   0,   0,   0,   0,   0,   0,   0,   0,   0,   0,   0,   0,\n",
              "          0,   0,   0,   0,   0,   0,   0,   0,   0,   0,   0,   0,   0,\n",
              "          0,   0],\n",
              "       [  0,   0,   0,   0,   0,   0,   0,   0,   0,   0,   0,   0,   0,\n",
              "          0,   0,   0,   0,   0,   0,   0,   0,   0,   0,   0,   0,   0,\n",
              "          0,   0],\n",
              "       [  0,   0,   0,   0,   0,   0,   0,   0,   0,   0,   0,   0,   0,\n",
              "          0,   0,   0,   0,   0,   0,   0,   0,   0,   0,   0,   0,   0,\n",
              "          0,   0]], dtype=uint8)"
            ]
          },
          "metadata": {
            "tags": []
          },
          "execution_count": 25
        }
      ]
    },
    {
      "cell_type": "code",
      "metadata": {
        "id": "v7fQyqUl20lF",
        "colab_type": "code",
        "outputId": "9fe17b9b-9aef-485a-f42d-fb79db34f01e",
        "colab": {
          "base_uri": "https://localhost:8080/",
          "height": 265
        }
      },
      "source": [
        "disp_image(x_11)"
      ],
      "execution_count": 26,
      "outputs": [
        {
          "output_type": "display_data",
          "data": {
            "image/png": "[encoded data removed]",
            "text/plain": [
              "<Figure size 432x288 with 1 Axes>"
            ]
          },
          "metadata": {
            "tags": []
          }
        }
      ]
    },
    {
      "cell_type": "markdown",
      "metadata": {
        "id": "bSpMAppF3VPg",
        "colab_type": "text"
      },
      "source": [
        "### Select multiple data points\n",
        "* : is used to select the entire axis\n",
        "* i:j is used to select i-th to j-th data points. Note that j-th point is not included."
      ]
    },
    {
      "cell_type": "code",
      "metadata": {
        "id": "IoBnCWSP24rA",
        "colab_type": "code",
        "outputId": "d95b55c7-400a-431f-f6cc-b3a23f0caf65",
        "colab": {
          "base_uri": "https://localhost:8080/",
          "height": 106
        }
      },
      "source": [
        "# select data point from 10 to 100 means 90 samples\n",
        "x_train_slice = x_train[10:100]\n",
        "\n",
        "print('Attributes of data slice Tensor')\n",
        "print('##################################')\n",
        "print('Number of axes in Tensor = %d'%x_train_slice.ndim)\n",
        "print('Shape of Tensor:', x_train_slice.shape)\n",
        "print('Datatype of Tensor elements: %s'%x_train_slice.dtype)"
      ],
      "execution_count": 27,
      "outputs": [
        {
          "output_type": "stream",
          "text": [
            "Attributes of data slice Tensor\n",
            "##################################\n",
            "Number of axes in Tensor = 3\n",
            "Shape of Tensor: (90, 28, 28)\n",
            "Datatype of Tensor elements: uint8\n"
          ],
          "name": "stdout"
        }
      ]
    },
    {
      "cell_type": "code",
      "metadata": {
        "id": "wpAf4ZZ14N7z",
        "colab_type": "code",
        "outputId": "7a18f9ac-f0d7-4357-fc64-d3b80fa55a52",
        "colab": {
          "base_uri": "https://localhost:8080/",
          "height": 106
        }
      },
      "source": [
        "# Here, we are explicitaly select the remaining two axes \n",
        "x_train_slice = x_train[10:100, :, :]\n",
        "\n",
        "print('Attributes of data slice Tensor')\n",
        "print('##################################')\n",
        "print('Number of axes in Tensor = %d'%x_train_slice.ndim)\n",
        "print('Shape of Tensor:', x_train_slice.shape)\n",
        "print('Datatype of Tensor elements: %s'%x_train_slice.dtype)"
      ],
      "execution_count": 28,
      "outputs": [
        {
          "output_type": "stream",
          "text": [
            "Attributes of data slice Tensor\n",
            "##################################\n",
            "Number of axes in Tensor = 3\n",
            "Shape of Tensor: (90, 28, 28)\n",
            "Datatype of Tensor elements: uint8\n"
          ],
          "name": "stdout"
        }
      ]
    },
    {
      "cell_type": "markdown",
      "metadata": {
        "id": "EXZwNRYnHsaZ",
        "colab_type": "text"
      },
      "source": [
        "There are a few more equivalent ways of doing the same thing:"
      ]
    },
    {
      "cell_type": "code",
      "metadata": {
        "id": "dX3h1QJb41-S",
        "colab_type": "code",
        "outputId": "c3ed04a0-ad84-42d2-f4b7-4c18c966452e",
        "colab": {
          "base_uri": "https://localhost:8080/",
          "height": 106
        }
      },
      "source": [
        "# Here, we are explicitaly select the remaining two axes by specifying the first and the last elements\n",
        "x_train_slice = x_train[10:100, 0:28, 0:28]\n",
        "\n",
        "print('Attributes of data slice Tensor')\n",
        "print('##################################')\n",
        "print('Number of axes in Tensor = %d'%x_train_slice.ndim)\n",
        "print('Shape of Tensor:', x_train_slice.shape)\n",
        "print('Datatype of Tensor elements: %s'%x_train_slice.dtype)"
      ],
      "execution_count": 29,
      "outputs": [
        {
          "output_type": "stream",
          "text": [
            "Attributes of data slice Tensor\n",
            "##################################\n",
            "Number of axes in Tensor = 3\n",
            "Shape of Tensor: (90, 28, 28)\n",
            "Datatype of Tensor elements: uint8\n"
          ],
          "name": "stdout"
        }
      ]
    },
    {
      "cell_type": "markdown",
      "metadata": {
        "id": "VtXXrQ1CH6XJ",
        "colab_type": "text"
      },
      "source": [
        "### Questions:\n",
        "\n",
        "(1) Write the code to select bottom right patch of 14x14 from the training images?"
      ]
    },
    {
      "cell_type": "code",
      "metadata": {
        "id": "Uacp2LYl5Mdg",
        "colab_type": "code",
        "outputId": "2a189f31-d3a8-4c49-8fde-67482929912c",
        "colab": {
          "base_uri": "https://localhost:8080/",
          "height": 106
        }
      },
      "source": [
        "# select the botton 90 data samples and the right patch of 14x14 images\n",
        "x_train_slice = x_train[:90, 14:, 14:]\n",
        "\n",
        "print('Attributes of data slice Tensor')\n",
        "print('##################################')\n",
        "print('Number of axes in Tensor = %d'%x_train_slice.ndim)\n",
        "print('Shape of Tensor:', x_train_slice.shape)\n",
        "print('Datatype of Tensor elements: %s'%x_train_slice.dtype)"
      ],
      "execution_count": 30,
      "outputs": [
        {
          "output_type": "stream",
          "text": [
            "Attributes of data slice Tensor\n",
            "##################################\n",
            "Number of axes in Tensor = 3\n",
            "Shape of Tensor: (90, 14, 14)\n",
            "Datatype of Tensor elements: uint8\n"
          ],
          "name": "stdout"
        }
      ]
    },
    {
      "cell_type": "code",
      "metadata": {
        "id": "vqHaRHdtmBQ1",
        "colab_type": "code",
        "colab": {
          "base_uri": "https://localhost:8080/",
          "height": 265
        },
        "outputId": "186bf749-7281-47aa-cd8e-50fa9236fad8"
      },
      "source": [
        "disp_image(x_train_slice[0])"
      ],
      "execution_count": 52,
      "outputs": [
        {
          "output_type": "display_data",
          "data": {
            "image/png": "[encoded data removed]",
            "text/plain": [
              "<Figure size 432x288 with 1 Axes>"
            ]
          },
          "metadata": {
            "tags": []
          }
        }
      ]
    },
    {
      "cell_type": "code",
      "metadata": {
        "id": "hwMEJRPa5sHm",
        "colab_type": "code",
        "outputId": "017b2cb6-ef41-4e4f-9fb2-813e6a355cfc",
        "colab": {
          "base_uri": "https://localhost:8080/",
          "height": 106
        }
      },
      "source": [
        "# crop the images to patches of 14x14 pixel centered in the middle\n",
        "x_train_crop = x_train[:, 7:21, 7:21]\n",
        "\n",
        "print('Attributes of image crop Tensor')\n",
        "print('##################################')\n",
        "print('Number of axes in Tensor = %d'%x_train_crop.ndim)\n",
        "print('Shape of Tensor:', x_train_crop.shape)\n",
        "print('Datatype of Tensor elements: %s'%x_train_crop.dtype)"
      ],
      "execution_count": 31,
      "outputs": [
        {
          "output_type": "stream",
          "text": [
            "Attributes of image crop Tensor\n",
            "##################################\n",
            "Number of axes in Tensor = 3\n",
            "Shape of Tensor: (60000, 14, 14)\n",
            "Datatype of Tensor elements: uint8\n"
          ],
          "name": "stdout"
        }
      ]
    },
    {
      "cell_type": "code",
      "metadata": {
        "id": "w7WZVkNkl4yr",
        "colab_type": "code",
        "colab": {
          "base_uri": "https://localhost:8080/",
          "height": 265
        },
        "outputId": "d8e2c0e3-85a3-4145-cb5c-4038eb03f823"
      },
      "source": [
        "disp_image(x_train_crop[0])"
      ],
      "execution_count": 51,
      "outputs": [
        {
          "output_type": "display_data",
          "data": {
            "image/png": "[encoded data removed]",
            "text/plain": [
              "<Figure size 432x288 with 1 Axes>"
            ]
          },
          "metadata": {
            "tags": []
          }
        }
      ]
    },
    {
      "cell_type": "code",
      "metadata": {
        "id": "wUkU-Q_y7Cbj",
        "colab_type": "code",
        "outputId": "0a812ed9-b51a-4eb3-bc0a-5911c800b2d7",
        "colab": {
          "base_uri": "https://localhost:8080/",
          "height": 106
        }
      },
      "source": [
        "# crop the images to patches of 14x14 pixel centered in the middle\n",
        "x_train_crop = x_train[:, 7:-7, 7:-7]\n",
        "\n",
        "print('Attributes of image crop Tensor')\n",
        "print('##################################')\n",
        "print('Number of axes in Tensor = %d'%x_train_crop.ndim)\n",
        "print('Shape of Tensor:', x_train_crop.shape)\n",
        "print('Datatype of Tensor elements: %s'%x_train_crop.dtype)"
      ],
      "execution_count": 32,
      "outputs": [
        {
          "output_type": "stream",
          "text": [
            "Attributes of image crop Tensor\n",
            "##################################\n",
            "Number of axes in Tensor = 3\n",
            "Shape of Tensor: (60000, 14, 14)\n",
            "Datatype of Tensor elements: uint8\n"
          ],
          "name": "stdout"
        }
      ]
    },
    {
      "cell_type": "code",
      "metadata": {
        "id": "uysxBAu9mHza",
        "colab_type": "code",
        "colab": {
          "base_uri": "https://localhost:8080/",
          "height": 265
        },
        "outputId": "e690e60b-a791-4011-a88e-43a918421cd3"
      },
      "source": [
        "disp_image(x_train_crop[0])"
      ],
      "execution_count": 53,
      "outputs": [
        {
          "output_type": "display_data",
          "data": {
            "image/png": "[encoded data removed]",
            "text/plain": [
              "<Figure size 432x288 with 1 Axes>"
            ]
          },
          "metadata": {
            "tags": []
          }
        }
      ]
    },
    {
      "cell_type": "markdown",
      "metadata": {
        "id": "MtcSLe5k7lQ5",
        "colab_type": "text"
      },
      "source": [
        "## Data Batches\n",
        "\n",
        "We usually break data into small batches and process those batches.\n",
        "* The first axis in all the data tensor is sample axis or sample dimention.\n",
        "* The first axis of batch tensor is called the batch axis or batch dimention."
      ]
    },
    {
      "cell_type": "code",
      "metadata": {
        "id": "3VMVRbJW7Z7R",
        "colab_type": "code",
        "outputId": "5cd296b5-7d54-4d6c-869d-e4df32843d0c",
        "colab": {
          "base_uri": "https://localhost:8080/",
          "height": 106
        }
      },
      "source": [
        "# first batch - first 128 samples. each batch has 28 examples.\n",
        "batch_1 = x_train[:128]\n",
        "\n",
        "print('Attributes of first batch Tensor')\n",
        "print('##################################')\n",
        "print('Number of axes in Tensor = %d'%batch_1.ndim)\n",
        "print('Shape of Tensor:', batch_1.shape)\n",
        "print('Datatype of Tensor elements: %s'%batch_1.dtype)"
      ],
      "execution_count": 33,
      "outputs": [
        {
          "output_type": "stream",
          "text": [
            "Attributes of first batch Tensor\n",
            "##################################\n",
            "Number of axes in Tensor = 3\n",
            "Shape of Tensor: (128, 28, 28)\n",
            "Datatype of Tensor elements: uint8\n"
          ],
          "name": "stdout"
        }
      ]
    },
    {
      "cell_type": "code",
      "metadata": {
        "id": "tD2v77Qr82VY",
        "colab_type": "code",
        "outputId": "cbdca18d-4a66-42dd-eb1d-e06972287cc1",
        "colab": {
          "base_uri": "https://localhost:8080/",
          "height": 106
        }
      },
      "source": [
        "# next batch - next 128 samples.\n",
        "batch_2 = x_train[128:256]\n",
        "\n",
        "print('Attributes of next batch Tensor')\n",
        "print('##################################')\n",
        "print('Number of axes in Tensor = %d'%batch_2.ndim)\n",
        "print('Shape of Tensor:', batch_2.shape)\n",
        "print('Datatype of Tensor elements: %s'%batch_2.dtype)"
      ],
      "execution_count": 34,
      "outputs": [
        {
          "output_type": "stream",
          "text": [
            "Attributes of next batch Tensor\n",
            "##################################\n",
            "Number of axes in Tensor = 3\n",
            "Shape of Tensor: (128, 28, 28)\n",
            "Datatype of Tensor elements: uint8\n"
          ],
          "name": "stdout"
        }
      ]
    },
    {
      "cell_type": "markdown",
      "metadata": {
        "id": "uaBiq4ZwIDKx",
        "colab_type": "text"
      },
      "source": [
        "### Question:\n",
        "Write the code to get $n$-th batch."
      ]
    },
    {
      "cell_type": "code",
      "metadata": {
        "id": "Yly5IoD69Wdh",
        "colab_type": "code",
        "outputId": "da0aa449-5cf0-4ac8-ea9f-d90f9107947a",
        "colab": {
          "base_uri": "https://localhost:8080/",
          "height": 106
        }
      },
      "source": [
        "# n-th(last) batch - n-th(last) 128 samples.\n",
        "batch_n = x_train[-128:]\n",
        "\n",
        "print('Attributes of n-th(last) batch Tensor')\n",
        "print('##################################')\n",
        "print('Number of axes in Tensor = %d'%batch_n.ndim)\n",
        "print('Shape of Tensor:', batch_n.shape)\n",
        "print('Datatype of Tensor elements: %s'%batch_n.dtype)"
      ],
      "execution_count": 35,
      "outputs": [
        {
          "output_type": "stream",
          "text": [
            "Attributes of n-th(last) batch Tensor\n",
            "##################################\n",
            "Number of axes in Tensor = 3\n",
            "Shape of Tensor: (128, 28, 28)\n",
            "Datatype of Tensor elements: uint8\n"
          ],
          "name": "stdout"
        }
      ]
    },
    {
      "cell_type": "markdown",
      "metadata": {
        "id": "jGMboMf6_Q5g",
        "colab_type": "text"
      },
      "source": [
        "# Real world examples of data tensors\n",
        "\n",
        "| Tensor| Example                             | Shape                                                 | Dataset                                 | \n",
        "|------------|:---------------------------------------:| :-----------------------------------------------------| :----------------------------------------:|\n",
        "| 2D        | Vector                                 |  `(samples, features)`  |  Text documents |\n",
        "| 3D        | Timeseries or Sequence | `(samples, timesteps, features)` |  Stock Prices |\n",
        "| 4D        | Images                               | `(samples, channels, height, width)`  |  MNIST Digit |                 \n",
        "| 5D        | Videos                               | `(samples, frames, channels, height, width)` | Videos |"
      ]
    },
    {
      "cell_type": "markdown",
      "metadata": {
        "id": "Jh70B7aqIODx",
        "colab_type": "text"
      },
      "source": [
        "## Vector data\n",
        "\n",
        "- Most commonly appearing tensor in ML\n",
        "- Each point is encoded as a vector of features\n",
        "- A batch of data can be encoded as a 2D tensor i.e. array of vectors\n",
        "   - First axis is a `sample axis`\n",
        "   - Second axis is a `feature axis` \n",
        "- What are the examples of such dataset?\n",
        "   - Text documents: A set of k documents, each represented with `m` features\n",
        "   - Fuel efficiency dataset: A set of automobiles and their features\n",
        " "
      ]
    },
    {
      "cell_type": "markdown",
      "metadata": {
        "id": "PGXZdZZ3IPHl",
        "colab_type": "text"
      },
      "source": [
        "## Timeseries and sequence data\n",
        "\n",
        "We use 3D tensor for storing time-series and sequence data: `(samples, timesteps, features)`\n",
        "\n",
        "### Stock prices dataset\n",
        "- Every minute, we store features associated with that instance of time:  e.g. current price, the highest and the lowest price in the past minute. Thus every minute is encoded as a $m$-D vector, where $m$ is the number of features.  \n",
        "- An entire day of trading is encoded as a 2D tensor of shape (390, $m$) (there are 390 minutes in a trading\n",
        "day).\n",
        "- 250 days’ worth of data can be stored in a 3D tensor of shape (250, 390, $m$). Here, each sample would be one day’s worth of data.\n",
        "\n",
        "\n",
        "### Dataset of tweets\n",
        "Tweet is encoded as a sequence of 280 characters.  \n",
        "- At each position, one of the 128 unique characters is possible. Thus, each character can be encoded as a one-hot-encoding with 128 length vector. \n",
        "- Each tweet can be encoded as a 2D tensor of shape (280, 128).\n",
        "- A dataset of 1000000 can be stored in 3D tensor of shape (1000000, 280, 128)."
      ]
    },
    {
      "cell_type": "markdown",
      "metadata": {
        "id": "b8HWV1heIUA2",
        "colab_type": "text"
      },
      "source": [
        "## Video data\n",
        "\n",
        "- Stored as a 5D tensor of shape `(samples, frames, channels, height, width)`\n",
        "- Each sample is a video encoded in 4D tensor of shape `(frames, channels, height, width)`\n",
        "- Each frame in the video is encoded as a 3D tensor (just like images).  "
      ]
    },
    {
      "cell_type": "markdown",
      "metadata": {
        "id": "pZh0WQvFIZdN",
        "colab_type": "text"
      },
      "source": [
        "#### Question\n",
        "Deduce the shape of a tensor to store 4 videos, where each video is a 60-second clip of size 128x256 sampled at 4 frames a second?\n",
        "\n",
        "[4, 300, 3, 128, 256]\n",
        "\n"
      ]
    },
    {
      "cell_type": "markdown",
      "metadata": {
        "id": "EeoAuDNvIiDu",
        "colab_type": "text"
      },
      "source": [
        "Now that we have studied how the data is represented in tensor, let's explore how they are used in NN."
      ]
    },
    {
      "cell_type": "markdown",
      "metadata": {
        "id": "D6YGuqodIi1i",
        "colab_type": "text"
      },
      "source": [
        "# Key operations in Neural Networks\n",
        "\n",
        "\n",
        "In NN, we specify a layer with the following statement:\n",
        "\n",
        "`tf.keras.layers.Dense(128, activation='relu')`\n",
        "\n",
        "This layer takes 2D tensor as input and returns another 2D tensor as an output through the following function:\n",
        "\n",
        "`output = relu(dot(w, input)+b)`\n",
        "\n",
        "There are three operations here:\n",
        "1. Linear combination of inputs and the corresponding weights: `dot(w, input)` where `w` is a weight vector and `input` is a feature vector.\n",
        "2. Add bias to the calculation `dot(w, input)+b`\n",
        "3. Finally apply a non-linear activiation on the result.  Here we have used `relu` as an activation function, which returns `max(x, 0)`.\n",
        "\n"
      ]
    },
    {
      "cell_type": "markdown",
      "metadata": {
        "id": "mlnTdhIUIncs",
        "colab_type": "text"
      },
      "source": [
        "Let $m$ be the size of the input to this layer.  Since it's a dense layer, each unit/neuron in this layer will receive $m$ inputs per sample.   \n",
        "- For each neuron, we have $m$ weights, one corresponding to every input.  Thus for 128 units, we will have  $m$ weights.  `w` is a 2D tensor of shape $(128, m)$.\n",
        "- Input `input` is a vector (2D tensor) with `sample` examples, each represented with $m$ features.\n",
        "- Each unit in the dense layer has a bias term.   Hence `b` is a vector with 128 components. \n",
        "\n",
        "<img src='https://github.com/rahiakela/img-repo/blob/master/tensor-operation-relu-1.JPG?raw=1' width='800'/>\n"
      ]
    },
    {
      "cell_type": "code",
      "metadata": {
        "id": "cAf9WKlY-ACR",
        "colab_type": "code",
        "outputId": "17234f73-28e8-423c-9529-c916eed228dc",
        "colab": {
          "base_uri": "https://localhost:8080/",
          "height": 177
        }
      },
      "source": [
        "w = np.array([[1, 0.5], [2, 1]])\n",
        "print('# of axes- w = %d'%w.ndim)\n",
        "print('Shape of w = ', w.shape)\n",
        "print()\n",
        "\n",
        "input = np.array([[1, 2], [-1, 2]])\n",
        "print('# of axes- input = %d'%input.ndim)\n",
        "print('Shape input = ', input.shape)\n",
        "print()\n",
        "\n",
        "b = np.array([-2.0, 0.5])\n",
        "print('# of axes- b = %d '%b.ndim)\n",
        "print('Shape of b = ', b.shape)\n",
        "print()"
      ],
      "execution_count": 36,
      "outputs": [
        {
          "output_type": "stream",
          "text": [
            "# of axes- w = 2\n",
            "Shape of w =  (2, 2)\n",
            "\n",
            "# of axes- input = 2\n",
            "Shape input =  (2, 2)\n",
            "\n",
            "# of axes- b = 1 \n",
            "Shape of b =  (2,)\n",
            "\n"
          ],
          "name": "stdout"
        }
      ]
    },
    {
      "cell_type": "markdown",
      "metadata": {
        "id": "qOlYyhmhKX7R",
        "colab_type": "text"
      },
      "source": [
        "Let's apply linear combination\n",
        "\n",
        "<img src='https://github.com/rahiakela/img-repo/blob/master/tensor-operation-relu-2.JPG?raw=1' width='800'/>"
      ]
    },
    {
      "cell_type": "code",
      "metadata": {
        "id": "E-JWAAv5Jtrd",
        "colab_type": "code",
        "outputId": "7cafb1d0-bcda-4499-9d8a-1cdfd61beafb",
        "colab": {
          "base_uri": "https://localhost:8080/",
          "height": 177
        }
      },
      "source": [
        "z = np.dot(w, input) + b            # Element-wise addition\n",
        "\n",
        "print (\"==================================================\")\n",
        "print (\"Shape of w = \", w.shape)\n",
        "print (\"Shape input = \", input.shape)\n",
        "print (\"Shape of b = \", b.shape)\n",
        "print (\"==================================================\")\n",
        "print (\"Shape of z = \", z.shape)\n",
        "print (\"==================================================\")\n",
        "print (z)"
      ],
      "execution_count": 37,
      "outputs": [
        {
          "output_type": "stream",
          "text": [
            "==================================================\n",
            "Shape of w =  (2, 2)\n",
            "Shape input =  (2, 2)\n",
            "Shape of b =  (2,)\n",
            "==================================================\n",
            "Shape of z =  (2, 2)\n",
            "==================================================\n",
            "[[-1.5  3.5]\n",
            " [-1.   6.5]]\n"
          ],
          "name": "stdout"
        }
      ]
    },
    {
      "cell_type": "markdown",
      "metadata": {
        "id": "aep-ZG0GKm2G",
        "colab_type": "text"
      },
      "source": [
        "Let's apply non-linear activation with `relu`:"
      ]
    },
    {
      "cell_type": "code",
      "metadata": {
        "id": "8cBvxMGlKs8e",
        "colab_type": "code",
        "outputId": "23d4eec9-fc4f-414b-b28f-a69033ce3a91",
        "colab": {
          "base_uri": "https://localhost:8080/",
          "height": 70
        }
      },
      "source": [
        "output = np.maximum(0., z)            # Element-wise relu\n",
        "\n",
        "print (\"Shape of output = \", output.shape)\n",
        "print (output)"
      ],
      "execution_count": 38,
      "outputs": [
        {
          "output_type": "stream",
          "text": [
            "Shape of output =  (2, 2)\n",
            "[[0.  3.5]\n",
            " [0.  6.5]]\n"
          ],
          "name": "stdout"
        }
      ]
    },
    {
      "cell_type": "markdown",
      "metadata": {
        "id": "VyQgKkCwK6Ag",
        "colab_type": "text"
      },
      "source": [
        "Before that, we will visualize a few commonly used activations."
      ]
    },
    {
      "cell_type": "code",
      "metadata": {
        "id": "nNo5xJoELAF8",
        "colab_type": "code",
        "outputId": "127b6389-1bb0-40f4-b9b3-44c0d5586943",
        "colab": {
          "base_uri": "https://localhost:8080/",
          "height": 297
        }
      },
      "source": [
        "# relu vialuzation\n",
        "x = np.linspace(-10, 10, 100)\n",
        "z = np.maximum(0., x)\n",
        "\n",
        "plt.plot(x, z)\n",
        "plt.xlabel('x')\n",
        "plt.ylabel(\"relu(x)\")"
      ],
      "execution_count": 39,
      "outputs": [
        {
          "output_type": "execute_result",
          "data": {
            "text/plain": [
              "Text(0, 0.5, 'relu(x)')"
            ]
          },
          "metadata": {
            "tags": []
          },
          "execution_count": 39
        },
        {
          "output_type": "display_data",
          "data": {
            "image/png": "[encoded data removed]",
            "text/plain": [
              "<Figure size 432x288 with 1 Axes>"
            ]
          },
          "metadata": {
            "tags": []
          }
        }
      ]
    },
    {
      "cell_type": "code",
      "metadata": {
        "id": "kl5Mq5WELoKD",
        "colab_type": "code",
        "outputId": "38e76118-0869-4d62-c803-59009f9b51fb",
        "colab": {
          "base_uri": "https://localhost:8080/",
          "height": 297
        }
      },
      "source": [
        "# Sigmoid activation\n",
        "import math\n",
        "\n",
        "x = np.linspace(-10, 10, 100)\n",
        "z = 1 / (1 + np.exp(-x))\n",
        "\n",
        "plt.plot(x, z)\n",
        "plt.xlabel('x')\n",
        "plt.ylabel(\"sigmoid(x)\")"
      ],
      "execution_count": 40,
      "outputs": [
        {
          "output_type": "execute_result",
          "data": {
            "text/plain": [
              "Text(0, 0.5, 'sigmoid(x)')"
            ]
          },
          "metadata": {
            "tags": []
          },
          "execution_count": 40
        },
        {
          "output_type": "display_data",
          "data": {
            "image/png": "[encoded data removed]",
            "text/plain": [
              "<Figure size 432x288 with 1 Axes>"
            ]
          },
          "metadata": {
            "tags": []
          }
        }
      ]
    },
    {
      "cell_type": "markdown",
      "metadata": {
        "id": "zcZfjWtKMkn5",
        "colab_type": "text"
      },
      "source": [
        "## Element-wise additions\n",
        "\n",
        "Note that `relu` and tensor addition are both element-wise operations and hence can be parallelized.  The vectorized implementations exploit this characteristics for efficient implementations."
      ]
    },
    {
      "cell_type": "code",
      "metadata": {
        "id": "3dOaYDgaMNsU",
        "colab_type": "code",
        "outputId": "4a64c729-f242-4181-94c2-2de2c81c7609",
        "colab": {
          "base_uri": "https://localhost:8080/",
          "height": 124
        }
      },
      "source": [
        "z = np.dot(w, input) + b\n",
        "output = np.maximum(0, z)\n",
        "\n",
        "print (\"=========== z ============\")\n",
        "print (z)\n",
        "print (\"=========== output ============\")\n",
        "print (output)"
      ],
      "execution_count": 41,
      "outputs": [
        {
          "output_type": "stream",
          "text": [
            "=========== z ============\n",
            "[[-1.5  3.5]\n",
            " [-1.   6.5]]\n",
            "=========== output ============\n",
            "[[0.  3.5]\n",
            " [0.  6.5]]\n"
          ],
          "name": "stdout"
        }
      ]
    },
    {
      "cell_type": "markdown",
      "metadata": {
        "id": "ZrkvsWd1M1XL",
        "colab_type": "text"
      },
      "source": [
        "## Broadcasting\n",
        "\n",
        "Employed to make two tensors involved in the operations compatible.  Concretely, let's say you want to add two tensors when their shaps differ:\n",
        "1. Axes are added to the smaller tensor to match the `ndim` of the larger tensor.  These axes are called `broadcast axes`.\n",
        "2. The smaller tensor is repeated alongside these new axes to match the full shape of the larger tensor.\n"
      ]
    },
    {
      "cell_type": "code",
      "metadata": {
        "id": "gb4_CezbM7zN",
        "colab_type": "code",
        "outputId": "bbfd36d0-7612-44bd-bb2d-9bada1ce651b",
        "colab": {
          "base_uri": "https://localhost:8080/",
          "height": 88
        }
      },
      "source": [
        "x_1 = np.random.rand(32, 10)\n",
        "x_2 = np.random.rand(10,)\n",
        "\n",
        "print (\"Shape of x_1: \", x_1.shape)\n",
        "\n",
        "print (\"Original shape of x_2: \", x_2.shape)\n",
        "\n",
        "# Broadcasting\n",
        "# 1. Add an axis to match ndim of the larger tensor.\n",
        "x_2 = np.expand_dims(x_2, axis=0)\n",
        "print (\"Shape of x_2 after adding a broadcast axis: \", x_2.shape)\n",
        "\n",
        "# 2. Smaller tensor is repeated on the new axis.\n",
        "x_2 = np.repeat(x_2, 32, axis=0)\n",
        "print (\"Shape of x_2 after broadcasting: \", x_2.shape)"
      ],
      "execution_count": 42,
      "outputs": [
        {
          "output_type": "stream",
          "text": [
            "Shape of x_1:  (32, 10)\n",
            "Original shape of x_2:  (10,)\n",
            "Shape of x_2 after adding a broadcast axis:  (1, 10)\n",
            "Shape of x_2 after broadcasting:  (32, 10)\n"
          ],
          "name": "stdout"
        }
      ]
    },
    {
      "cell_type": "markdown",
      "metadata": {
        "id": "Qyh9h8-vO8eZ",
        "colab_type": "text"
      },
      "source": [
        "In actual implementation, the entries are not repeated, but the algorithms implements virtual repeatition operations."
      ]
    },
    {
      "cell_type": "code",
      "metadata": {
        "id": "TMe7_E-VONOT",
        "colab_type": "code",
        "outputId": "06c5bb50-bf58-421e-a70c-e7d6e4d9c456",
        "colab": {
          "base_uri": "https://localhost:8080/",
          "height": 35
        }
      },
      "source": [
        "#numpy implements broadcasting\n",
        "x_1 = np.random.rand(32, 10)\n",
        "x_2 = np.random.rand(10,)\n",
        "\n",
        "print((x_1 + x_2).shape)"
      ],
      "execution_count": 43,
      "outputs": [
        {
          "output_type": "stream",
          "text": [
            "(32, 10)\n"
          ],
          "name": "stdout"
        }
      ]
    },
    {
      "cell_type": "markdown",
      "metadata": {
        "id": "Su8Xfk2PSTlr",
        "colab_type": "text"
      },
      "source": [
        "##  Tensor dot\n",
        "\n",
        "Tensor dot is not an elementwise operation."
      ]
    },
    {
      "cell_type": "code",
      "metadata": {
        "id": "3JYhuTgmSVa1",
        "colab_type": "code",
        "outputId": "720d6810-d22c-4a44-826e-d2500f4d521d",
        "colab": {
          "base_uri": "https://localhost:8080/",
          "height": 35
        }
      },
      "source": [
        "def naive_vector_dot(x, y):\n",
        "  # compatibility check: both x and y are vectors\n",
        "  assert len(x.shape) == 1\n",
        "  assert len(y.shape) == 1\n",
        "  \n",
        "  # compatibility checks: vectors with the same number of elements\n",
        "  assert x.shape[0] == y.shape[0]\n",
        "  \n",
        "  z = 0.\n",
        "  \n",
        "  # performs element-wise product and then adds it up\n",
        "  for i in range(x.shape[0]):\n",
        "    z += x[i] * y[i]\n",
        "    \n",
        "  # returns scalar\n",
        "  return z\n",
        "\n",
        "print (naive_vector_dot(np.array([1, 2]), np.array([1, 2])))"
      ],
      "execution_count": 44,
      "outputs": [
        {
          "output_type": "stream",
          "text": [
            "5.0\n"
          ],
          "name": "stdout"
        }
      ]
    },
    {
      "cell_type": "markdown",
      "metadata": {
        "id": "taZ_Yjr8Sf8w",
        "colab_type": "text"
      },
      "source": [
        "Matrix-vector dot product"
      ]
    },
    {
      "cell_type": "code",
      "metadata": {
        "id": "xbllsLjFSlEn",
        "colab_type": "code",
        "outputId": "88c97054-fe8a-4f00-fb54-312dabae5f2f",
        "colab": {
          "base_uri": "https://localhost:8080/",
          "height": 35
        }
      },
      "source": [
        "def naive_matrix_vector_dot(x, y):\n",
        "  # check: x is a matrix\n",
        "  assert len(x.shape) == 2\n",
        "  \n",
        "  # check: y is a vector\n",
        "  assert len(y.shape) == 1\n",
        "  \n",
        "  # check: make sure # of columns in x is equal to number of rows in y\n",
        "  assert x.shape[1] == y.shape[0]\n",
        "\n",
        "  z = np.zeros(x.shape[0])\n",
        "  for i in range(x.shape[0]):\n",
        "    z[i] = naive_vector_dot(x[i, :], y)\n",
        "  return z\n",
        "\n",
        "print (naive_matrix_vector_dot(np.array([[1, 2], [1,2]]), np.array([1, 2])))"
      ],
      "execution_count": 45,
      "outputs": [
        {
          "output_type": "stream",
          "text": [
            "[5. 5.]\n"
          ],
          "name": "stdout"
        }
      ]
    },
    {
      "cell_type": "markdown",
      "metadata": {
        "id": "rC5PJ4zkSkeZ",
        "colab_type": "text"
      },
      "source": [
        "Note that as soon as one of the two tensors has an `ndim` greater than 1, `dot` is no longer symmetric, which is to say that `dot(x, y)` isn’t the same as `dot(y, x)`.\n",
        "\n",
        "Let's look at the Numpy implementation of dot."
      ]
    },
    {
      "cell_type": "code",
      "metadata": {
        "id": "z-l5EHk4SqK1",
        "colab_type": "code",
        "outputId": "d6c97dfd-92a0-486f-86e4-feb540fdc0c5",
        "colab": {
          "base_uri": "https://localhost:8080/",
          "height": 35
        }
      },
      "source": [
        "z = np.dot(np.array([1, 2]), np.array([1, 2]))\n",
        "print(z)"
      ],
      "execution_count": 46,
      "outputs": [
        {
          "output_type": "stream",
          "text": [
            "5\n"
          ],
          "name": "stdout"
        }
      ]
    },
    {
      "cell_type": "markdown",
      "metadata": {
        "id": "jX2oTyGdQLah",
        "colab_type": "text"
      },
      "source": [
        "## Tensor Reshaping\n",
        "\n",
        "Reshaping is used to rearrange rows and columns of tensor to match the shape of target tensor.  The reshaped tensor has the same number of elements as the initial tensor. \n",
        "\n",
        "It is mainly used in data preprocessing."
      ]
    },
    {
      "cell_type": "code",
      "metadata": {
        "id": "rUch_KUlPSsw",
        "colab_type": "code",
        "outputId": "e6071f8d-4c70-4e89-ce37-b60c6d50802a",
        "colab": {
          "base_uri": "https://localhost:8080/",
          "height": 372
        }
      },
      "source": [
        "x = np.array([\n",
        "    [0., 1.],\n",
        "    [2., 3.],\n",
        "    [4., 5.]\n",
        "])\n",
        "print('x =', x)\n",
        "\n",
        "print(\"Shape of x:\", x.shape)\n",
        "print(x.shape)\n",
        "print (\"===========\")\n",
        "\n",
        "# Reshaping the tensor to a\n",
        "\n",
        "x = x.reshape((6, 1))\n",
        "print (\"x after reshaping to (6,1)\")\n",
        "print (\"x =\", x)\n",
        "\n",
        "print (\"New shape of x:\", x.shape)\n",
        "print (\"===========\")\n",
        "\n",
        "x = x.reshape((2, 3))\n",
        "print (\"x after reshaping to (2,3)\")\n",
        "print (\"x =\", x)\n",
        "\n",
        "print (\"New shape of x\", x.shape)\n",
        "print (\"===========\")"
      ],
      "execution_count": 47,
      "outputs": [
        {
          "output_type": "stream",
          "text": [
            "x = [[0. 1.]\n",
            " [2. 3.]\n",
            " [4. 5.]]\n",
            "Shape of x: (3, 2)\n",
            "(3, 2)\n",
            "===========\n",
            "x after reshaping to (6,1)\n",
            "x = [[0.]\n",
            " [1.]\n",
            " [2.]\n",
            " [3.]\n",
            " [4.]\n",
            " [5.]]\n",
            "New shape of x: (6, 1)\n",
            "===========\n",
            "x after reshaping to (2,3)\n",
            "x = [[0. 1. 2.]\n",
            " [3. 4. 5.]]\n",
            "New shape of x (2, 3)\n",
            "===========\n"
          ],
          "name": "stdout"
        }
      ]
    },
    {
      "cell_type": "markdown",
      "metadata": {
        "id": "OFb8xcO7RTU9",
        "colab_type": "text"
      },
      "source": [
        "Transposition is a special case of reshaping where row become column and column become row."
      ]
    },
    {
      "cell_type": "code",
      "metadata": {
        "id": "q_qhxKA8QfKH",
        "colab_type": "code",
        "outputId": "f0abd674-8ade-4c36-aa14-7dc312fc80b4",
        "colab": {
          "base_uri": "https://localhost:8080/",
          "height": 35
        }
      },
      "source": [
        "x = np.zeros((300, 20))\n",
        "x = np.transpose(x)\n",
        "print(x.shape)"
      ],
      "execution_count": 48,
      "outputs": [
        {
          "output_type": "stream",
          "text": [
            "(20, 300)\n"
          ],
          "name": "stdout"
        }
      ]
    }
  ]
}