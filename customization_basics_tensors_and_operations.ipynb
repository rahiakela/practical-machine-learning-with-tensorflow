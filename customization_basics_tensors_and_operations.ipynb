{
  "nbformat": 4,
  "nbformat_minor": 0,
  "metadata": {
    "colab": {
      "name": "customization-basics-tensors-and-operations.ipynb",
      "provenance": [],
      "collapsed_sections": [],
      "include_colab_link": true
    },
    "kernelspec": {
      "name": "python3",
      "display_name": "Python 3"
    },
    "accelerator": "GPU"
  },
  "cells": [
    {
      "cell_type": "markdown",
      "metadata": {
        "id": "view-in-github",
        "colab_type": "text"
      },
      "source": [
        "<a href=\"https://colab.research.google.com/github/rahiakela/practical-machine-learning-with-tensorflow/blob/week-8/customization_basics_tensors_and_operations.ipynb\" target=\"_parent\"><img src=\"https://colab.research.google.com/assets/colab-badge.svg\" alt=\"Open In Colab\"/></a>"
      ]
    },
    {
      "cell_type": "markdown",
      "metadata": {
        "id": "-w47KF2EYtpu",
        "colab_type": "text"
      },
      "source": [
        "# Customization basics: tensors and operations"
      ]
    },
    {
      "cell_type": "markdown",
      "metadata": {
        "id": "9dTBuCAMYuNc",
        "colab_type": "text"
      },
      "source": [
        "This is an introductory TensorFlow tutorial shows how to:\n",
        "\n",
        "* Import the required package\n",
        "* Create and use tensors\n",
        "* Use GPU acceleration\n",
        "* Demonstrate `tf.data.Dataset`"
      ]
    },
    {
      "cell_type": "code",
      "metadata": {
        "id": "m7gt-mhZYwbj",
        "colab_type": "code",
        "colab": {
          "base_uri": "https://localhost:8080/",
          "height": 35
        },
        "outputId": "f387bb02-c75d-4ef7-ddc7-ef4b97d54f12"
      },
      "source": [
        "from __future__ import absolute_import, division, print_function\n",
        "\n",
        "try:\n",
        "  # %tensorflow_version only exists in Colab.\n",
        "  %tensorflow_version 2.x\n",
        "except Exception:\n",
        "  pass\n"
      ],
      "execution_count": 2,
      "outputs": [
        {
          "output_type": "stream",
          "text": [
            "TensorFlow 2.x selected.\n"
          ],
          "name": "stdout"
        }
      ]
    },
    {
      "cell_type": "markdown",
      "metadata": {
        "id": "15_qkIZiZNqU",
        "colab_type": "text"
      },
      "source": [
        "## Import TensorFlow"
      ]
    },
    {
      "cell_type": "markdown",
      "metadata": {
        "id": "C0skNuJ8ZOFe",
        "colab_type": "text"
      },
      "source": [
        "To get started, import the `tensorflow` module. As of TensorFlow 2.0, eager execution is turned on by default. This enables a more interactive frontend to TensorFlow, the details of which we will discuss much later."
      ]
    },
    {
      "cell_type": "code",
      "metadata": {
        "id": "HtTsnjZqYySF",
        "colab_type": "code",
        "colab": {}
      },
      "source": [
        "import tensorflow as tf"
      ],
      "execution_count": 0,
      "outputs": []
    },
    {
      "cell_type": "markdown",
      "metadata": {
        "id": "cUlHQ6KFZW5i",
        "colab_type": "text"
      },
      "source": [
        "## Tensors"
      ]
    },
    {
      "cell_type": "markdown",
      "metadata": {
        "id": "C1LhD52jZZEo",
        "colab_type": "text"
      },
      "source": [
        "A Tensor is a multi-dimensional array. Similar to NumPy `ndarray` objects, `tf.Tensor` objects have a data type and a shape. Additionally, `tf.Tensor`s can reside in accelerator memory (like a GPU). TensorFlow offers a rich library of operations ([tf.add](https://www.tensorflow.org/api_docs/python/tf/add), [tf.matmul](https://www.tensorflow.org/api_docs/python/tf/matmul), [tf.linalg.inv](https://www.tensorflow.org/api_docs/python/tf/linalg/inv) etc.) that consume and produce `tf.Tensor`s. These operations automatically convert native Python types, for example:"
      ]
    },
    {
      "cell_type": "code",
      "metadata": {
        "id": "6M02VWKWZSq4",
        "colab_type": "code",
        "colab": {
          "base_uri": "https://localhost:8080/",
          "height": 0
        },
        "outputId": "38fb3aa7-4f5f-4bd3-d7c4-31acc8ad671e"
      },
      "source": [
        "# add two scalar\n",
        "print(tf.add(2, 3))\n",
        "\n",
        "# add two vector\n",
        "print(tf.add([1, 2], [3, 4]))\n",
        "\n",
        "# squar value\n",
        "print(tf.square(5))\n",
        "\n",
        "# summition of vector element\n",
        "print(tf.reduce_sum([1, 2, 3, 4]))\n",
        "\n",
        "# Operator overloading is also supported\n",
        "print(tf.square(5) + tf.square(3))"
      ],
      "execution_count": 4,
      "outputs": [
        {
          "output_type": "stream",
          "text": [
            "tf.Tensor(5, shape=(), dtype=int32)\n",
            "tf.Tensor([4 6], shape=(2,), dtype=int32)\n",
            "tf.Tensor(25, shape=(), dtype=int32)\n",
            "tf.Tensor(10, shape=(), dtype=int32)\n",
            "tf.Tensor(34, shape=(), dtype=int32)\n"
          ],
          "name": "stdout"
        }
      ]
    },
    {
      "cell_type": "markdown",
      "metadata": {
        "id": "n-DtXIA7al-S",
        "colab_type": "text"
      },
      "source": [
        "Each `tf.Tensor` has a shape and a datatype:"
      ]
    },
    {
      "cell_type": "code",
      "metadata": {
        "id": "YJ1yP2lJabFp",
        "colab_type": "code",
        "colab": {
          "base_uri": "https://localhost:8080/",
          "height": 0
        },
        "outputId": "432c8028-f54b-4dee-81f7-b301f8256a5d"
      },
      "source": [
        "x = tf.matmul([[1]], [[2, 3]])\n",
        "print(x)\n",
        "print(x.shape)\n",
        "print(x.dtype)"
      ],
      "execution_count": 5,
      "outputs": [
        {
          "output_type": "stream",
          "text": [
            "tf.Tensor([[2 3]], shape=(1, 2), dtype=int32)\n",
            "(1, 2)\n",
            "<dtype: 'int32'>\n"
          ],
          "name": "stdout"
        }
      ]
    },
    {
      "cell_type": "markdown",
      "metadata": {
        "id": "RSFt9P4obGgN",
        "colab_type": "text"
      },
      "source": [
        "The most obvious differences between NumPy arrays and `tf.Tensor`s are:\n",
        "\n",
        "1. Tensors can be backed by accelerator memory (like GPU, TPU).\n",
        "2. Tensors are immutable."
      ]
    },
    {
      "cell_type": "markdown",
      "metadata": {
        "id": "jgO_Ur1Eddof",
        "colab_type": "text"
      },
      "source": [
        "### NumPy Compatibility"
      ]
    },
    {
      "cell_type": "markdown",
      "metadata": {
        "id": "wkPiM5dxdeTS",
        "colab_type": "text"
      },
      "source": [
        "Converting between a TensorFlow `tf.Tensor`s and a NumPy `ndarray` is easy:\n",
        "\n",
        "* TensorFlow operations automatically convert NumPy ndarrays to Tensors.\n",
        "* NumPy operations automatically convert Tensors to NumPy ndarrays.\n",
        "\n",
        "Tensors are explicitly converted to NumPy ndarrays using their `.numpy()` method. These conversions are typically cheap since the array and `tf.Tensor` share the underlying memory representation, if possible. However, sharing the underlying representation isn't always possible since the `tf.Tensor` may be hosted in GPU memory while NumPy arrays are always backed by host memory, and the conversion involves a copy from GPU to host memory."
      ]
    },
    {
      "cell_type": "code",
      "metadata": {
        "id": "TAt2thjFa0MP",
        "colab_type": "code",
        "colab": {
          "base_uri": "https://localhost:8080/",
          "height": 0
        },
        "outputId": "8731a0d8-4e4a-4b3e-a121-04fd2c114520"
      },
      "source": [
        "import numpy as np\n",
        "\n",
        "ndarray = np.ones([3, 3])\n",
        "print(ndarray)\n",
        "print()\n",
        "\n",
        "print(\"TensorFlow operations convert numpy arrays to Tensors automatically\")\n",
        "tensor = tf.multiply(ndarray, 42)\n",
        "print(tensor)\n",
        "print()\n",
        "\n",
        "print(\"And NumPy operations convert Tensors to numpy arrays automatically\")\n",
        "print(np.add(tensor, 1))\n",
        "print()\n",
        "\n",
        "print(\"The .numpy() method explicitly converts a Tensor to a numpy array\")\n",
        "print(tensor.numpy())"
      ],
      "execution_count": 6,
      "outputs": [
        {
          "output_type": "stream",
          "text": [
            "[[1. 1. 1.]\n",
            " [1. 1. 1.]\n",
            " [1. 1. 1.]]\n",
            "\n",
            "TensorFlow operations convert numpy arrays to Tensors automatically\n",
            "tf.Tensor(\n",
            "[[42. 42. 42.]\n",
            " [42. 42. 42.]\n",
            " [42. 42. 42.]], shape=(3, 3), dtype=float64)\n",
            "\n",
            "And NumPy operations convert Tensors to numpy arrays automatically\n",
            "[[43. 43. 43.]\n",
            " [43. 43. 43.]\n",
            " [43. 43. 43.]]\n",
            "\n",
            "The .numpy() method explicitly converts a Tensor to a numpy array\n",
            "[[42. 42. 42.]\n",
            " [42. 42. 42.]\n",
            " [42. 42. 42.]]\n"
          ],
          "name": "stdout"
        }
      ]
    },
    {
      "cell_type": "markdown",
      "metadata": {
        "id": "VBZr30QtfRct",
        "colab_type": "text"
      },
      "source": [
        "## GPU acceleration"
      ]
    },
    {
      "cell_type": "markdown",
      "metadata": {
        "id": "RQpksJtBfSAH",
        "colab_type": "text"
      },
      "source": [
        "Many TensorFlow operations are accelerated using the GPU for computation. Without any annotations, TensorFlow automatically decides whether to use the GPU or CPU for an operation—copying the tensor between CPU and GPU memory, if necessary. Tensors produced by an operation are typically backed by the memory of the device on which the operation executed, for example:"
      ]
    },
    {
      "cell_type": "code",
      "metadata": {
        "id": "l3hX04fNd7oA",
        "colab_type": "code",
        "colab": {
          "base_uri": "https://localhost:8080/",
          "height": 88
        },
        "outputId": "31606a63-4ebb-4b6c-e570-16579adcd0ce"
      },
      "source": [
        "x = tf.random.uniform([3, 3])\n",
        "\n",
        "print(\"Is there a GPU available:\"),\n",
        "print(tf.test.is_gpu_available())\n",
        "\n",
        "print(\"Is there a GPU available: \"),\n",
        "print(tf.config.experimental.list_physical_devices('GPU'))"
      ],
      "execution_count": 7,
      "outputs": [
        {
          "output_type": "stream",
          "text": [
            "Is there a GPU available:\n",
            "True\n",
            "Is there a GPU available: \n",
            "[PhysicalDevice(name='/physical_device:GPU:0', device_type='GPU')]\n"
          ],
          "name": "stdout"
        }
      ]
    },
    {
      "cell_type": "code",
      "metadata": {
        "id": "qxlTX5Sjg7tw",
        "colab_type": "code",
        "colab": {
          "base_uri": "https://localhost:8080/",
          "height": 52
        },
        "outputId": "0928b211-77e6-4320-be11-922d5dc610e9"
      },
      "source": [
        "print(\"Is the Tensor on GPU #0:  \"),\n",
        "print(x.device.endswith('GPU:0'))"
      ],
      "execution_count": 8,
      "outputs": [
        {
          "output_type": "stream",
          "text": [
            "Is the Tensor on GPU #0:  \n",
            "True\n"
          ],
          "name": "stdout"
        }
      ]
    },
    {
      "cell_type": "markdown",
      "metadata": {
        "id": "vMeBt5b3jOMz",
        "colab_type": "text"
      },
      "source": [
        "### Device Names"
      ]
    },
    {
      "cell_type": "markdown",
      "metadata": {
        "id": "uGZx3fzojOot",
        "colab_type": "text"
      },
      "source": [
        "The `Tensor.device` property provides a fully qualified string name of the device hosting the contents of the tensor. This name encodes many details, such as an identifier of the network address of the host on which this program is executing and the device within that host. This is required for distributed execution of a TensorFlow program. The string ends with `GPU:<N>` if the tensor is placed on the `N`-th GPU on the host.\n",
        "\n",
        "<img src='https://github.com/rahiakela/img-repo/blob/master/tf-device-naming.JPG?raw=1' width='800'/>"
      ]
    },
    {
      "cell_type": "markdown",
      "metadata": {
        "id": "B42C9vs0jxMy",
        "colab_type": "text"
      },
      "source": [
        "### Explicit Device Placement"
      ]
    },
    {
      "cell_type": "markdown",
      "metadata": {
        "id": "-OgyU4rojxoV",
        "colab_type": "text"
      },
      "source": [
        "In TensorFlow, *placement* refers to how individual operations are assigned (placed on) a device for execution. As mentioned, when there is no explicit guidance provided, TensorFlow automatically decides which device to execute an operation and copies tensors to that device, if needed. However, TensorFlow operations can be explicitly placed on specific devices using the `tf.device` context manager, for example:"
      ]
    },
    {
      "cell_type": "code",
      "metadata": {
        "id": "KaADoGj4hqe7",
        "colab_type": "code",
        "colab": {
          "base_uri": "https://localhost:8080/",
          "height": 88
        },
        "outputId": "18997e8d-b589-496f-cc4a-b3de6868449e"
      },
      "source": [
        "import time\n",
        "\n",
        "def time_matmul(x):\n",
        "  start = time.time()\n",
        "  for loop in range(100):\n",
        "    tf.matmul(x, x)\n",
        "  result = time.time() - start\n",
        "  print(\"100 loops: {:0.2f}ms\".format(1000*result))  \n",
        "\n",
        "# Force execution on CPU\n",
        "print('On CPU:')\n",
        "with tf.device('CPU:0'):\n",
        "  x = tf.random.uniform([1000, 1000])\n",
        "  assert x.device.endswith('CPU:0')\n",
        "  time_matmul(x)\n",
        "\n",
        "# Force execution on GPU #0 if available\n",
        "if tf.config.experimental.list_physical_devices('GPU'):\n",
        "  print('On GPU:')\n",
        "  with tf.device('GPU:0'):   # Or GPU:1 for the 2nd GPU, GPU:2 for the 3rd etc.\n",
        "    x = tf.random.uniform([1000, 1000])\n",
        "    assert x.device.endswith('GPU:0')\n",
        "    time_matmul(x)    "
      ],
      "execution_count": 11,
      "outputs": [
        {
          "output_type": "stream",
          "text": [
            "On CPU:\n",
            "100 loops: 3731.20ms\n",
            "On GPU:\n",
            "100 loops: 8.34ms\n"
          ],
          "name": "stdout"
        }
      ]
    },
    {
      "cell_type": "markdown",
      "metadata": {
        "id": "VX2MxWEpmqKI",
        "colab_type": "text"
      },
      "source": [
        "## Datasets"
      ]
    },
    {
      "cell_type": "markdown",
      "metadata": {
        "id": "d_AiqLpwmqtu",
        "colab_type": "text"
      },
      "source": [
        "This section uses the [`tf.data.Dataset` API](https://www.tensorflow.org/guide/datasets) to build a pipeline for feeding data to your model. The `tf.data.Dataset` API is used to build performant, complex input pipelines from simple, re-usable pieces that will feed your model's training or evaluation loops."
      ]
    },
    {
      "cell_type": "markdown",
      "metadata": {
        "id": "tjpAZR26m0rt",
        "colab_type": "text"
      },
      "source": [
        "### Create a source `Dataset`"
      ]
    },
    {
      "cell_type": "markdown",
      "metadata": {
        "id": "E-Vxl1Ufm1Qq",
        "colab_type": "text"
      },
      "source": [
        "Create a *source* dataset using one of the factory functions like [`Dataset.from_tensors`](https://www.tensorflow.org/api_docs/python/tf/data/Dataset#from_tensors), [`Dataset.from_tensor_slices`](https://www.tensorflow.org/api_docs/python/tf/data/Dataset#from_tensor_slices), or using objects that read from files like [`TextLineDataset`](https://www.tensorflow.org/api_docs/python/tf/data/TextLineDataset) or [`TFRecordDataset`](https://www.tensorflow.org/api_docs/python/tf/data/TFRecordDataset). See the [TensorFlow Dataset guide](https://www.tensorflow.org/guide/datasets#reading_input_data) for more information."
      ]
    },
    {
      "cell_type": "code",
      "metadata": {
        "id": "_gYEmt49mCw2",
        "colab_type": "code",
        "colab": {}
      },
      "source": [
        "ds_tensors = tf.data.Dataset.from_tensor_slices([1, 2, 3, 4, 5, 6])\n",
        "\n",
        "# Create a CSV file\n",
        "import tempfile\n",
        "\n",
        "_, filename = tempfile.mkstemp()\n",
        "\n",
        "with open(filename, 'w') as f:\n",
        "  f.write(\"\"\"Line 1\n",
        "      Line 2\n",
        "      Line 3\n",
        "    \"\"\")\n",
        "  \n",
        "ds_file = tf.data.TextLineDataset(filename)  "
      ],
      "execution_count": 0,
      "outputs": []
    },
    {
      "cell_type": "markdown",
      "metadata": {
        "id": "rORkLZUDnzSE",
        "colab_type": "text"
      },
      "source": [
        "### Apply transformations"
      ]
    },
    {
      "cell_type": "markdown",
      "metadata": {
        "id": "f3ER9c1RnzuS",
        "colab_type": "text"
      },
      "source": [
        "Use the transformations functions like [`map`](https://www.tensorflow.org/api_docs/python/tf/data/Dataset#map), [`batch`](https://www.tensorflow.org/api_docs/python/tf/data/Dataset#batch), and [`shuffle`](https://www.tensorflow.org/api_docs/python/tf/data/Dataset#shuffle) to apply transformations to dataset records."
      ]
    },
    {
      "cell_type": "code",
      "metadata": {
        "id": "chRHAnBqnwD4",
        "colab_type": "code",
        "colab": {}
      },
      "source": [
        "ds_tensors = ds_tensors.map(tf.square).shuffle(2).batch(2)\n",
        "\n",
        "ds_file = ds_file.batch(2)"
      ],
      "execution_count": 0,
      "outputs": []
    },
    {
      "cell_type": "markdown",
      "metadata": {
        "id": "FUHhpMcBoJf_",
        "colab_type": "text"
      },
      "source": [
        "### Iterate\n",
        "\n",
        "`tf.data.Dataset` objects support iteration to loop over records:"
      ]
    },
    {
      "cell_type": "code",
      "metadata": {
        "id": "Vhlz39MKoGWI",
        "colab_type": "code",
        "colab": {
          "base_uri": "https://localhost:8080/",
          "height": 159
        },
        "outputId": "6dcd9e91-d8bd-48f3-b17c-b6d901c6612a"
      },
      "source": [
        "print('Elements of ds_tensors:')\n",
        "for x in ds_tensors:\n",
        "  print(x)\n",
        "\n",
        "print('\\nElements in ds_file:')\n",
        "for x in ds_file:\n",
        "  print(x)"
      ],
      "execution_count": 14,
      "outputs": [
        {
          "output_type": "stream",
          "text": [
            "Elements of ds_tensors:\n",
            "tf.Tensor([4 9], shape=(2,), dtype=int32)\n",
            "tf.Tensor([16 25], shape=(2,), dtype=int32)\n",
            "tf.Tensor([ 1 36], shape=(2,), dtype=int32)\n",
            "\n",
            "Elements in ds_file:\n",
            "tf.Tensor([b'Line 1' b'      Line 2'], shape=(2,), dtype=string)\n",
            "tf.Tensor([b'      Line 3' b'    '], shape=(2,), dtype=string)\n"
          ],
          "name": "stdout"
        }
      ]
    },
    {
      "cell_type": "code",
      "metadata": {
        "id": "L8Qg39SHoMwq",
        "colab_type": "code",
        "colab": {}
      },
      "source": [
        ""
      ],
      "execution_count": 0,
      "outputs": []
    }
  ]
}